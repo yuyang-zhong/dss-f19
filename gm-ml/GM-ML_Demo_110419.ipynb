{
 "cells": [
  {
   "cell_type": "markdown",
   "metadata": {
    "colab_type": "text",
    "id": "GBVmFbxzWlUe"
   },
   "source": [
    "# Machine Learning Overview\n",
    "### DSS General Membership Mini-Lecture\n",
    "Monday, November 4, 2019"
   ]
  },
  {
   "cell_type": "code",
   "execution_count": 1,
   "metadata": {
    "colab": {},
    "colab_type": "code",
    "id": "HRpjSoGtWlUg"
   },
   "outputs": [],
   "source": [
    "import datetime\n",
    "import matplotlib.pyplot as plt\n",
    "import numpy as np\n",
    "import pandas as pd\n",
    "import seaborn as sns\n",
    "import folium\n",
    "from geopy.geocoders import Nominatim\n",
    "import time\n",
    "%matplotlib inline"
   ]
  },
  {
   "cell_type": "markdown",
   "metadata": {},
   "source": [
    "### Acknowledgement\n",
    "\n",
    "This notebook was created by Alan Cha and Zachary Chao in Spring 2019. Mofication made in Fall 2019 by Yuyang Zhong."
   ]
  },
  {
   "cell_type": "markdown",
   "metadata": {},
   "source": [
    "### Context\n",
    "\n",
    "Imaging you were heading up a team with a project to solve: Given this data, solve how we can best predict the fares on future taxi rides in the bay area and San Francisco.\n",
    "\n",
    "Suppose you had a large database of information. We can assume that our csv file is a random sample of that data so we can work with it locally. This notebook is a sample of how one might go about creating a baseline solution to inform their project. You might not be an expert in the taxi industry, but with some analysis with machine learning, you have the power to make an impact.  This is what I would do in the first two hours of to familiarize myself with the problem and how to move forward with a complicated project."
   ]
  },
  {
   "cell_type": "markdown",
   "metadata": {
    "colab_type": "text",
    "id": "98iDA6-pWlUl"
   },
   "source": [
    "---\n",
    "# Part 1: Inital Exploration and Preprocessing \n",
    "\n",
    "The first part of the notebook is to get us familiar with our dataset. Before starting a project, its good to have a high level view of whats going on, so we can better inform our more nuanced decisions.\n",
    "\n",
    "**We will:** \n",
    "1. Read in our data \n",
    "1. Preproccess some columns \n",
    "1. Explore and visualize our data\n",
    "1. Check for outliers\n"
   ]
  },
  {
   "cell_type": "markdown",
   "metadata": {
    "colab_type": "text",
    "id": "UkvM4Pn0WlUq"
   },
   "source": [
    "## Reading in the Data"
   ]
  },
  {
   "cell_type": "code",
   "execution_count": 2,
   "metadata": {
    "colab": {},
    "colab_type": "code",
    "id": "tF-jmwCcWlUq"
   },
   "outputs": [],
   "source": [
    "# dropping irrelevant id column thats a repeat of the index\n",
    "trips = pd.read_csv('Taxi_Train.csv').drop(['id'],axis=1) "
   ]
  },
  {
   "cell_type": "code",
   "execution_count": 3,
   "metadata": {},
   "outputs": [
    {
     "data": {
      "text/plain": [
       "8.452511"
      ]
     },
     "execution_count": 3,
     "metadata": {},
     "output_type": "execute_result"
    }
   ],
   "source": [
    "trips.memory_usage(deep=True).sum() * 1e-6"
   ]
  },
  {
   "cell_type": "code",
   "execution_count": 4,
   "metadata": {
    "colab": {
     "base_uri": "https://localhost:8080/",
     "height": 259
    },
    "colab_type": "code",
    "executionInfo": {
     "elapsed": 310,
     "status": "ok",
     "timestamp": 1555982221524,
     "user": {
      "displayName": "Alan Cha",
      "photoUrl": "",
      "userId": "07616691434471469040"
     },
     "user_tz": 420
    },
    "id": "vLY62XRxWlUv",
    "outputId": "ac1fc63a-fd72-455c-e6f9-5ae38e6018b9"
   },
   "outputs": [
    {
     "name": "stdout",
     "output_type": "stream",
     "text": [
      "(41898, 10)\n"
     ]
    },
    {
     "data": {
      "text/html": [
       "<div>\n",
       "<style scoped>\n",
       "    .dataframe tbody tr th:only-of-type {\n",
       "        vertical-align: middle;\n",
       "    }\n",
       "\n",
       "    .dataframe tbody tr th {\n",
       "        vertical-align: top;\n",
       "    }\n",
       "\n",
       "    .dataframe thead th {\n",
       "        text-align: right;\n",
       "    }\n",
       "</style>\n",
       "<table border=\"1\" class=\"dataframe\">\n",
       "  <thead>\n",
       "    <tr style=\"text-align: right;\">\n",
       "      <th></th>\n",
       "      <th>start_time</th>\n",
       "      <th>end_time</th>\n",
       "      <th>fare</th>\n",
       "      <th>number_pax</th>\n",
       "      <th>start_lng</th>\n",
       "      <th>start_lat</th>\n",
       "      <th>end_lng</th>\n",
       "      <th>end_lat</th>\n",
       "      <th>start_taz</th>\n",
       "      <th>end_taz</th>\n",
       "    </tr>\n",
       "  </thead>\n",
       "  <tbody>\n",
       "    <tr>\n",
       "      <th>0</th>\n",
       "      <td>9/1/12 0:11</td>\n",
       "      <td>9/1/12 0:20</td>\n",
       "      <td>13.20</td>\n",
       "      <td>1.0</td>\n",
       "      <td>-122.413540</td>\n",
       "      <td>37.802683</td>\n",
       "      <td>-122.421277</td>\n",
       "      <td>37.785395</td>\n",
       "      <td>38.0</td>\n",
       "      <td>30.0</td>\n",
       "    </tr>\n",
       "    <tr>\n",
       "      <th>1</th>\n",
       "      <td>9/1/12 0:23</td>\n",
       "      <td>9/1/12 0:31</td>\n",
       "      <td>10.65</td>\n",
       "      <td>1.0</td>\n",
       "      <td>-122.419700</td>\n",
       "      <td>37.786090</td>\n",
       "      <td>-122.435217</td>\n",
       "      <td>37.762177</td>\n",
       "      <td>30.0</td>\n",
       "      <td>94.0</td>\n",
       "    </tr>\n",
       "    <tr>\n",
       "      <th>2</th>\n",
       "      <td>9/1/12 0:45</td>\n",
       "      <td>9/1/12 0:49</td>\n",
       "      <td>9.00</td>\n",
       "      <td>1.0</td>\n",
       "      <td>-122.415120</td>\n",
       "      <td>37.774672</td>\n",
       "      <td>-122.407657</td>\n",
       "      <td>37.782615</td>\n",
       "      <td>10.0</td>\n",
       "      <td>11.0</td>\n",
       "    </tr>\n",
       "    <tr>\n",
       "      <th>3</th>\n",
       "      <td>9/1/12 0:41</td>\n",
       "      <td>9/1/12 0:54</td>\n",
       "      <td>13.95</td>\n",
       "      <td>2.0</td>\n",
       "      <td>-122.419392</td>\n",
       "      <td>37.806622</td>\n",
       "      <td>-122.415393</td>\n",
       "      <td>37.778115</td>\n",
       "      <td>40.0</td>\n",
       "      <td>10.0</td>\n",
       "    </tr>\n",
       "    <tr>\n",
       "      <th>4</th>\n",
       "      <td>9/1/12 1:09</td>\n",
       "      <td>9/1/12 1:13</td>\n",
       "      <td>7.35</td>\n",
       "      <td>1.0</td>\n",
       "      <td>-122.429722</td>\n",
       "      <td>37.797790</td>\n",
       "      <td>-122.418060</td>\n",
       "      <td>37.789032</td>\n",
       "      <td>45.0</td>\n",
       "      <td>32.0</td>\n",
       "    </tr>\n",
       "  </tbody>\n",
       "</table>\n",
       "</div>"
      ],
      "text/plain": [
       "    start_time     end_time   fare  number_pax   start_lng  start_lat  \\\n",
       "0  9/1/12 0:11  9/1/12 0:20  13.20         1.0 -122.413540  37.802683   \n",
       "1  9/1/12 0:23  9/1/12 0:31  10.65         1.0 -122.419700  37.786090   \n",
       "2  9/1/12 0:45  9/1/12 0:49   9.00         1.0 -122.415120  37.774672   \n",
       "3  9/1/12 0:41  9/1/12 0:54  13.95         2.0 -122.419392  37.806622   \n",
       "4  9/1/12 1:09  9/1/12 1:13   7.35         1.0 -122.429722  37.797790   \n",
       "\n",
       "      end_lng    end_lat  start_taz  end_taz  \n",
       "0 -122.421277  37.785395       38.0     30.0  \n",
       "1 -122.435217  37.762177       30.0     94.0  \n",
       "2 -122.407657  37.782615       10.0     11.0  \n",
       "3 -122.415393  37.778115       40.0     10.0  \n",
       "4 -122.418060  37.789032       45.0     32.0  "
      ]
     },
     "execution_count": 4,
     "metadata": {},
     "output_type": "execute_result"
    }
   ],
   "source": [
    "print(trips.shape)\n",
    "trips.head()"
   ]
  },
  {
   "cell_type": "markdown",
   "metadata": {
    "colab_type": "text",
    "id": "DfnfM3SKWlUz"
   },
   "source": [
    "**Initial Thoughts**\n",
    "\n",
    "1. We can't really work with these times that well \n",
    "2. What the heck is a TAZ\n",
    "3. we have a good sized dataset\n",
    "\n",
    "But they aren't currently useful as they are, so first we will do some preprocessing to turn our data into a usuable form."
   ]
  },
  {
   "cell_type": "code",
   "execution_count": 6,
   "metadata": {},
   "outputs": [],
   "source": [
    "# Reformatting time stamps to pandas datetime object\n",
    "trips['start_time'] = pd.to_datetime(trips['start_time'])\n",
    "trips['end_time'] = pd.to_datetime(trips['end_time'])"
   ]
  },
  {
   "cell_type": "code",
   "execution_count": 18,
   "metadata": {
    "colab": {},
    "colab_type": "code",
    "id": "gKp7O1cVWlU0"
   },
   "outputs": [],
   "source": [
    "# NOTE: we are using datetime modules for the built in \"weekday\" function\n",
    "\n",
    "def get_hour(t):\n",
    "    return t.hour\n",
    "\n",
    "def get_weekday(t): # 0 = Monday - 6= Sunday\n",
    "    return t.date().weekday()"
   ]
  },
  {
   "cell_type": "code",
   "execution_count": 19,
   "metadata": {
    "colab": {
     "base_uri": "https://localhost:8080/",
     "height": 373
    },
    "colab_type": "code",
    "executionInfo": {
     "elapsed": 1097,
     "status": "error",
     "timestamp": 1555982232105,
     "user": {
      "displayName": "Alan Cha",
      "photoUrl": "",
      "userId": "07616691434471469040"
     },
     "user_tz": 420
    },
    "id": "Qdb0MuQ8WlU2",
    "outputId": "8093870f-7e78-46d5-e123-6d8366d7118f",
    "scrolled": false
   },
   "outputs": [
    {
     "data": {
      "text/plain": [
       "0         0.0\n",
       "1         0.0\n",
       "2         0.0\n",
       "3         0.0\n",
       "4         1.0\n",
       "         ... \n",
       "41893     8.0\n",
       "41894     9.0\n",
       "41895    10.0\n",
       "41896    11.0\n",
       "41897     NaN\n",
       "Name: start_time, Length: 41898, dtype: float64"
      ]
     },
     "execution_count": 19,
     "metadata": {},
     "output_type": "execute_result"
    }
   ],
   "source": [
    "# testing our function on this series.   Note: .map is applying the function to all elements in this column. \n",
    "trips['start_time'].map(get_hour)"
   ]
  },
  {
   "cell_type": "markdown",
   "metadata": {},
   "source": [
    "Noticed that the last row has an `NaN` value... are there more? Can we clean it up more?"
   ]
  },
  {
   "cell_type": "code",
   "execution_count": 24,
   "metadata": {
    "colab": {
     "base_uri": "https://localhost:8080/",
     "height": 240
    },
    "colab_type": "code",
    "executionInfo": {
     "elapsed": 257,
     "status": "ok",
     "timestamp": 1555982246927,
     "user": {
      "displayName": "Alan Cha",
      "photoUrl": "",
      "userId": "07616691434471469040"
     },
     "user_tz": 420
    },
    "id": "n1q-3odqWlU-",
    "outputId": "edbcf429-2b05-4690-ba8c-c2a1e91ad55b"
   },
   "outputs": [
    {
     "data": {
      "text/plain": [
       "start_time    1\n",
       "end_time      1\n",
       "fare          1\n",
       "number_pax    1\n",
       "start_lng     1\n",
       "start_lat     1\n",
       "end_lng       1\n",
       "end_lat       1\n",
       "start_taz     1\n",
       "end_taz       1\n",
       "dtype: int64"
      ]
     },
     "execution_count": 24,
     "metadata": {},
     "output_type": "execute_result"
    }
   ],
   "source": [
    "# checking for NaN\n",
    "trips.isna().sum()"
   ]
  },
  {
   "cell_type": "code",
   "execution_count": 29,
   "metadata": {
    "colab": {
     "base_uri": "https://localhost:8080/",
     "height": 120
    },
    "colab_type": "code",
    "executionInfo": {
     "elapsed": 224,
     "status": "ok",
     "timestamp": 1555982252293,
     "user": {
      "displayName": "Alan Cha",
      "photoUrl": "",
      "userId": "07616691434471469040"
     },
     "user_tz": 420
    },
    "id": "GDg9zczIWlVB",
    "outputId": "7f805400-3bff-46e2-eac2-1862aa747468",
    "scrolled": true
   },
   "outputs": [
    {
     "data": {
      "text/html": [
       "<div>\n",
       "<style scoped>\n",
       "    .dataframe tbody tr th:only-of-type {\n",
       "        vertical-align: middle;\n",
       "    }\n",
       "\n",
       "    .dataframe tbody tr th {\n",
       "        vertical-align: top;\n",
       "    }\n",
       "\n",
       "    .dataframe thead th {\n",
       "        text-align: right;\n",
       "    }\n",
       "</style>\n",
       "<table border=\"1\" class=\"dataframe\">\n",
       "  <thead>\n",
       "    <tr style=\"text-align: right;\">\n",
       "      <th></th>\n",
       "      <th>start_time</th>\n",
       "      <th>end_time</th>\n",
       "      <th>fare</th>\n",
       "      <th>number_pax</th>\n",
       "      <th>start_lng</th>\n",
       "      <th>start_lat</th>\n",
       "      <th>end_lng</th>\n",
       "      <th>end_lat</th>\n",
       "      <th>start_taz</th>\n",
       "      <th>end_taz</th>\n",
       "    </tr>\n",
       "  </thead>\n",
       "  <tbody>\n",
       "    <tr>\n",
       "      <th>41897</th>\n",
       "      <td>NaT</td>\n",
       "      <td>NaT</td>\n",
       "      <td>NaN</td>\n",
       "      <td>NaN</td>\n",
       "      <td>NaN</td>\n",
       "      <td>NaN</td>\n",
       "      <td>NaN</td>\n",
       "      <td>NaN</td>\n",
       "      <td>NaN</td>\n",
       "      <td>NaN</td>\n",
       "    </tr>\n",
       "  </tbody>\n",
       "</table>\n",
       "</div>"
      ],
      "text/plain": [
       "      start_time end_time  fare  number_pax  start_lng  start_lat  end_lng  \\\n",
       "41897        NaT      NaT   NaN         NaN        NaN        NaN      NaN   \n",
       "\n",
       "       end_lat  start_taz  end_taz  \n",
       "41897      NaN        NaN      NaN  "
      ]
     },
     "execution_count": 29,
     "metadata": {},
     "output_type": "execute_result"
    }
   ],
   "source": [
    "trips[trips.isna().any(axis=1)]"
   ]
  },
  {
   "cell_type": "code",
   "execution_count": 30,
   "metadata": {
    "colab": {},
    "colab_type": "code",
    "id": "fJ8Q5bdtWlVD"
   },
   "outputs": [],
   "source": [
    "nan_index = trips[trips.isna().any(axis=1)].index\n",
    "trips = trips.drop(nan_index,axis=0)"
   ]
  },
  {
   "cell_type": "code",
   "execution_count": 32,
   "metadata": {
    "colab": {
     "base_uri": "https://localhost:8080/",
     "height": 240
    },
    "colab_type": "code",
    "executionInfo": {
     "elapsed": 227,
     "status": "ok",
     "timestamp": 1555982256130,
     "user": {
      "displayName": "Alan Cha",
      "photoUrl": "",
      "userId": "07616691434471469040"
     },
     "user_tz": 420
    },
    "id": "MYC1fRctWlVE",
    "outputId": "e59c63b8-6dc8-4d6f-89a0-e9c50689158f"
   },
   "outputs": [
    {
     "data": {
      "text/plain": [
       "start_time    0\n",
       "end_time      0\n",
       "fare          0\n",
       "number_pax    0\n",
       "start_lng     0\n",
       "start_lat     0\n",
       "end_lng       0\n",
       "end_lat       0\n",
       "start_taz     0\n",
       "end_taz       0\n",
       "dtype: int64"
      ]
     },
     "execution_count": 32,
     "metadata": {},
     "output_type": "execute_result"
    }
   ],
   "source": [
    "trips.isna().sum()"
   ]
  },
  {
   "cell_type": "markdown",
   "metadata": {},
   "source": [
    "Great, no more `NaN`!"
   ]
  },
  {
   "cell_type": "code",
   "execution_count": 34,
   "metadata": {
    "colab": {
     "base_uri": "https://localhost:8080/",
     "height": 1062
    },
    "colab_type": "code",
    "executionInfo": {
     "elapsed": 798,
     "status": "ok",
     "timestamp": 1555982257934,
     "user": {
      "displayName": "Alan Cha",
      "photoUrl": "",
      "userId": "07616691434471469040"
     },
     "user_tz": 420
    },
    "id": "h0k7IaUJWlVG",
    "outputId": "6b5a8c4f-d239-4932-9b0b-c83970fe437c"
   },
   "outputs": [
    {
     "data": {
      "text/plain": [
       "0         0\n",
       "1         0\n",
       "2         0\n",
       "3         0\n",
       "4         1\n",
       "         ..\n",
       "41892    19\n",
       "41893     8\n",
       "41894     9\n",
       "41895    10\n",
       "41896    11\n",
       "Name: start_time, Length: 41897, dtype: int64"
      ]
     },
     "execution_count": 34,
     "metadata": {},
     "output_type": "execute_result"
    }
   ],
   "source": [
    "trips['start_time'].map(get_hour)"
   ]
  },
  {
   "cell_type": "code",
   "execution_count": 35,
   "metadata": {
    "colab": {
     "base_uri": "https://localhost:8080/",
     "height": 261
    },
    "colab_type": "code",
    "executionInfo": {
     "elapsed": 1300,
     "status": "ok",
     "timestamp": 1555982259404,
     "user": {
      "displayName": "Alan Cha",
      "photoUrl": "",
      "userId": "07616691434471469040"
     },
     "user_tz": 420
    },
    "id": "y5w-NJ_uWlVH",
    "outputId": "708395db-b13a-4327-b5c3-c2b05845a470"
   },
   "outputs": [
    {
     "data": {
      "text/html": [
       "<div>\n",
       "<style scoped>\n",
       "    .dataframe tbody tr th:only-of-type {\n",
       "        vertical-align: middle;\n",
       "    }\n",
       "\n",
       "    .dataframe tbody tr th {\n",
       "        vertical-align: top;\n",
       "    }\n",
       "\n",
       "    .dataframe thead th {\n",
       "        text-align: right;\n",
       "    }\n",
       "</style>\n",
       "<table border=\"1\" class=\"dataframe\">\n",
       "  <thead>\n",
       "    <tr style=\"text-align: right;\">\n",
       "      <th></th>\n",
       "      <th>start_time</th>\n",
       "      <th>end_time</th>\n",
       "      <th>fare</th>\n",
       "      <th>number_pax</th>\n",
       "      <th>start_lng</th>\n",
       "      <th>start_lat</th>\n",
       "      <th>end_lng</th>\n",
       "      <th>end_lat</th>\n",
       "      <th>start_taz</th>\n",
       "      <th>end_taz</th>\n",
       "      <th>hour_start</th>\n",
       "      <th>weekday</th>\n",
       "    </tr>\n",
       "  </thead>\n",
       "  <tbody>\n",
       "    <tr>\n",
       "      <th>0</th>\n",
       "      <td>2012-09-01 00:11:00</td>\n",
       "      <td>2012-09-01 00:20:00</td>\n",
       "      <td>13.20</td>\n",
       "      <td>1.0</td>\n",
       "      <td>-122.413540</td>\n",
       "      <td>37.802683</td>\n",
       "      <td>-122.421277</td>\n",
       "      <td>37.785395</td>\n",
       "      <td>38.0</td>\n",
       "      <td>30.0</td>\n",
       "      <td>0</td>\n",
       "      <td>5</td>\n",
       "    </tr>\n",
       "    <tr>\n",
       "      <th>1</th>\n",
       "      <td>2012-09-01 00:23:00</td>\n",
       "      <td>2012-09-01 00:31:00</td>\n",
       "      <td>10.65</td>\n",
       "      <td>1.0</td>\n",
       "      <td>-122.419700</td>\n",
       "      <td>37.786090</td>\n",
       "      <td>-122.435217</td>\n",
       "      <td>37.762177</td>\n",
       "      <td>30.0</td>\n",
       "      <td>94.0</td>\n",
       "      <td>0</td>\n",
       "      <td>5</td>\n",
       "    </tr>\n",
       "    <tr>\n",
       "      <th>2</th>\n",
       "      <td>2012-09-01 00:45:00</td>\n",
       "      <td>2012-09-01 00:49:00</td>\n",
       "      <td>9.00</td>\n",
       "      <td>1.0</td>\n",
       "      <td>-122.415120</td>\n",
       "      <td>37.774672</td>\n",
       "      <td>-122.407657</td>\n",
       "      <td>37.782615</td>\n",
       "      <td>10.0</td>\n",
       "      <td>11.0</td>\n",
       "      <td>0</td>\n",
       "      <td>5</td>\n",
       "    </tr>\n",
       "    <tr>\n",
       "      <th>3</th>\n",
       "      <td>2012-09-01 00:41:00</td>\n",
       "      <td>2012-09-01 00:54:00</td>\n",
       "      <td>13.95</td>\n",
       "      <td>2.0</td>\n",
       "      <td>-122.419392</td>\n",
       "      <td>37.806622</td>\n",
       "      <td>-122.415393</td>\n",
       "      <td>37.778115</td>\n",
       "      <td>40.0</td>\n",
       "      <td>10.0</td>\n",
       "      <td>0</td>\n",
       "      <td>5</td>\n",
       "    </tr>\n",
       "    <tr>\n",
       "      <th>4</th>\n",
       "      <td>2012-09-01 01:09:00</td>\n",
       "      <td>2012-09-01 01:13:00</td>\n",
       "      <td>7.35</td>\n",
       "      <td>1.0</td>\n",
       "      <td>-122.429722</td>\n",
       "      <td>37.797790</td>\n",
       "      <td>-122.418060</td>\n",
       "      <td>37.789032</td>\n",
       "      <td>45.0</td>\n",
       "      <td>32.0</td>\n",
       "      <td>1</td>\n",
       "      <td>5</td>\n",
       "    </tr>\n",
       "  </tbody>\n",
       "</table>\n",
       "</div>"
      ],
      "text/plain": [
       "           start_time            end_time   fare  number_pax   start_lng  \\\n",
       "0 2012-09-01 00:11:00 2012-09-01 00:20:00  13.20         1.0 -122.413540   \n",
       "1 2012-09-01 00:23:00 2012-09-01 00:31:00  10.65         1.0 -122.419700   \n",
       "2 2012-09-01 00:45:00 2012-09-01 00:49:00   9.00         1.0 -122.415120   \n",
       "3 2012-09-01 00:41:00 2012-09-01 00:54:00  13.95         2.0 -122.419392   \n",
       "4 2012-09-01 01:09:00 2012-09-01 01:13:00   7.35         1.0 -122.429722   \n",
       "\n",
       "   start_lat     end_lng    end_lat  start_taz  end_taz  hour_start  weekday  \n",
       "0  37.802683 -122.421277  37.785395       38.0     30.0           0        5  \n",
       "1  37.786090 -122.435217  37.762177       30.0     94.0           0        5  \n",
       "2  37.774672 -122.407657  37.782615       10.0     11.0           0        5  \n",
       "3  37.806622 -122.415393  37.778115       40.0     10.0           0        5  \n",
       "4  37.797790 -122.418060  37.789032       45.0     32.0           1        5  "
      ]
     },
     "execution_count": 35,
     "metadata": {},
     "output_type": "execute_result"
    }
   ],
   "source": [
    "trips['hour_start'] = trips['start_time'].map(get_hour)\n",
    "trips['weekday'] = trips['start_time'].map(get_weekday)\n",
    "trips.head()"
   ]
  },
  {
   "cell_type": "markdown",
   "metadata": {
    "colab_type": "text",
    "id": "STYIJCULWlVM"
   },
   "source": [
    "## EDA"
   ]
  },
  {
   "cell_type": "markdown",
   "metadata": {
    "colab_type": "text",
    "id": "GgekEdCnWlVN"
   },
   "source": [
    "Lets just do some quick exploration and visualizations"
   ]
  },
  {
   "cell_type": "code",
   "execution_count": 38,
   "metadata": {
    "colab": {
     "base_uri": "https://localhost:8080/",
     "height": 326
    },
    "colab_type": "code",
    "executionInfo": {
     "elapsed": 994,
     "status": "ok",
     "timestamp": 1555982278120,
     "user": {
      "displayName": "Alan Cha",
      "photoUrl": "",
      "userId": "07616691434471469040"
     },
     "user_tz": 420
    },
    "id": "tkh3GF4GWlVN",
    "outputId": "332fa223-ea43-4ae8-bba2-7ce78e2057d3"
   },
   "outputs": [
    {
     "data": {
      "image/png": "[encoded data removed]",
      "text/plain": [
       "<Figure size 432x288 with 1 Axes>"
      ]
     },
     "metadata": {
      "needs_background": "light"
     },
     "output_type": "display_data"
    }
   ],
   "source": [
    "plt.scatter(trips['start_lng'], trips['start_lat'],s=20,alpha=.05);"
   ]
  },
  {
   "cell_type": "markdown",
   "metadata": {
    "colab_type": "text",
    "id": "tPUJOZ2rWlVO"
   },
   "source": [
    "What do you think the little dot cluster is below?"
   ]
  },
  {
   "cell_type": "code",
   "execution_count": 44,
   "metadata": {
    "colab": {
     "base_uri": "https://localhost:8080/",
     "height": 848
    },
    "colab_type": "code",
    "executionInfo": {
     "elapsed": 680,
     "status": "ok",
     "timestamp": 1555982279016,
     "user": {
      "displayName": "Alan Cha",
      "photoUrl": "",
      "userId": "07616691434471469040"
     },
     "user_tz": 420
    },
    "id": "oQiZjgUYWlVO",
    "outputId": "51b9fd70-f4cc-404d-ed38-301cd78d53e9"
   },
   "outputs": [
    {
     "data": {
      "text/html": [
       "<div style=\"width:100%;\"><div style=\"position:relative;width:100%;height:0;padding-bottom:60%;\"><iframe src=\"data:text/html;charset=utf-8;base64,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\" style=\"position:absolute;width:100%;height:100%;left:0;top:0;border:none !important;\" allowfullscreen webkitallowfullscreen mozallowfullscreen></iframe></div></div>"
      ],
      "text/plain": [
       "<folium.folium.Map at 0x119fe5fd0>"
      ]
     },
     "execution_count": 44,
     "metadata": {},
     "output_type": "execute_result"
    }
   ],
   "source": [
    "start_lat = trips['start_lat'][0]\n",
    "start_lon = trips['start_lng'][0]\n",
    "map = folium.Map(location=[start_lat, start_lon], zoom_start=11)\n",
    "\n",
    "end_lat = trips['end_lat'][0]\n",
    "end_long = trips['end_lng'][0]\n",
    "\n",
    "circular_marker = folium.CircleMarker(location=[start_lat, start_lon],\n",
    "                            radius = 3,\n",
    "                            popup=\"My marker\",\n",
    "                            fill_color='blue',\n",
    "                            color='blue',\n",
    "                            fill_opacity=0.7)\n",
    "marker_end = folium.CircleMarker(location=[end_lat, end_long],\n",
    "                            radius = 3,\n",
    "                            popup=\"My marker\",\n",
    "                            fill_color='dblue',\n",
    "                            color='blue',\n",
    "                            fill_opacity=0.7)\n",
    "\n",
    "map.add_child(circular_marker)\n",
    "map.add_child(marker_end)"
   ]
  },
  {
   "cell_type": "markdown",
   "metadata": {
    "colab_type": "text",
    "id": "4HlDEQ10WlVQ"
   },
   "source": [
    "**Hypothesis:** Focus on those that were going to location of interest. What about SFO?"
   ]
  },
  {
   "cell_type": "code",
   "execution_count": 46,
   "metadata": {
    "colab": {
     "base_uri": "https://localhost:8080/",
     "height": 286
    },
    "colab_type": "code",
    "executionInfo": {
     "elapsed": 2130,
     "status": "ok",
     "timestamp": 1555956495457,
     "user": {
      "displayName": "Alan Cha",
      "photoUrl": "",
      "userId": "07616691434471469040"
     },
     "user_tz": 420
    },
    "id": "R316abniWlVQ",
    "outputId": "b23f69e8-8d12-4d17-89d8-eb2cb50f5fcf"
   },
   "outputs": [
    {
     "data": {
      "image/png": "[encoded data removed]",
      "text/plain": [
       "<Figure size 432x288 with 1 Axes>"
      ]
     },
     "metadata": {
      "needs_background": "light"
     },
     "output_type": "display_data"
    }
   ],
   "source": [
    "# plotting where the start \n",
    "plt.scatter(trips[trips['start_taz'] == 239]['start_lng'],\n",
    "            trips[trips['start_taz'] == 239]['start_lat'], \n",
    "            s=20, alpha=.05);"
   ]
  },
  {
   "cell_type": "code",
   "execution_count": 47,
   "metadata": {
    "colab": {
     "base_uri": "https://localhost:8080/",
     "height": 286
    },
    "colab_type": "code",
    "executionInfo": {
     "elapsed": 1970,
     "status": "ok",
     "timestamp": 1555956495457,
     "user": {
      "displayName": "Alan Cha",
      "photoUrl": "",
      "userId": "07616691434471469040"
     },
     "user_tz": 420
    },
    "id": "Avlbq2RKWlVS",
    "outputId": "b8a03507-f3b0-4088-a82b-7f1ec942cd35"
   },
   "outputs": [
    {
     "data": {
      "image/png": "[encoded data removed]",
      "text/plain": [
       "<Figure size 432x288 with 1 Axes>"
      ]
     },
     "metadata": {
      "needs_background": "light"
     },
     "output_type": "display_data"
    }
   ],
   "source": [
    "# plotting where they end\n",
    "plt.scatter(trips[trips['end_taz'] == 239]['start_lng'],\n",
    "            trips[trips['end_taz'] == 239]['start_lat'], \n",
    "            s=20, alpha=.05);"
   ]
  },
  {
   "cell_type": "markdown",
   "metadata": {
    "colab_type": "text",
    "id": "t8s2yDIIWlVT"
   },
   "source": [
    "Looks like we have a cluster of trips that go to SFO, the distance is greater and it is plausibly they get taxed or it cost more to go there\n",
    "\n",
    "**Discussion**\n",
    "\n",
    "How should we encode the importance of our SFO observation into our data?"
   ]
  },
  {
   "cell_type": "code",
   "execution_count": 48,
   "metadata": {
    "colab": {
     "base_uri": "https://localhost:8080/",
     "height": 312
    },
    "colab_type": "code",
    "executionInfo": {
     "elapsed": 1316,
     "status": "ok",
     "timestamp": 1555956495458,
     "user": {
      "displayName": "Alan Cha",
      "photoUrl": "",
      "userId": "07616691434471469040"
     },
     "user_tz": 420
    },
    "id": "_WKEOK-9WlVU",
    "outputId": "392fd476-1410-4dbc-865c-c93566ac978f"
   },
   "outputs": [
    {
     "data": {
      "text/html": [
       "<div>\n",
       "<style scoped>\n",
       "    .dataframe tbody tr th:only-of-type {\n",
       "        vertical-align: middle;\n",
       "    }\n",
       "\n",
       "    .dataframe tbody tr th {\n",
       "        vertical-align: top;\n",
       "    }\n",
       "\n",
       "    .dataframe thead th {\n",
       "        text-align: right;\n",
       "    }\n",
       "</style>\n",
       "<table border=\"1\" class=\"dataframe\">\n",
       "  <thead>\n",
       "    <tr style=\"text-align: right;\">\n",
       "      <th></th>\n",
       "      <th>start_time</th>\n",
       "      <th>end_time</th>\n",
       "      <th>fare</th>\n",
       "      <th>number_pax</th>\n",
       "      <th>start_lng</th>\n",
       "      <th>start_lat</th>\n",
       "      <th>end_lng</th>\n",
       "      <th>end_lat</th>\n",
       "      <th>start_taz</th>\n",
       "      <th>end_taz</th>\n",
       "      <th>hour_start</th>\n",
       "      <th>weekday</th>\n",
       "      <th>SFO</th>\n",
       "    </tr>\n",
       "  </thead>\n",
       "  <tbody>\n",
       "    <tr>\n",
       "      <th>0</th>\n",
       "      <td>2012-09-01 00:11:00</td>\n",
       "      <td>2012-09-01 00:20:00</td>\n",
       "      <td>13.20</td>\n",
       "      <td>1.0</td>\n",
       "      <td>-122.413540</td>\n",
       "      <td>37.802683</td>\n",
       "      <td>-122.421277</td>\n",
       "      <td>37.785395</td>\n",
       "      <td>38.0</td>\n",
       "      <td>30.0</td>\n",
       "      <td>0</td>\n",
       "      <td>5</td>\n",
       "      <td>0</td>\n",
       "    </tr>\n",
       "    <tr>\n",
       "      <th>1</th>\n",
       "      <td>2012-09-01 00:23:00</td>\n",
       "      <td>2012-09-01 00:31:00</td>\n",
       "      <td>10.65</td>\n",
       "      <td>1.0</td>\n",
       "      <td>-122.419700</td>\n",
       "      <td>37.786090</td>\n",
       "      <td>-122.435217</td>\n",
       "      <td>37.762177</td>\n",
       "      <td>30.0</td>\n",
       "      <td>94.0</td>\n",
       "      <td>0</td>\n",
       "      <td>5</td>\n",
       "      <td>0</td>\n",
       "    </tr>\n",
       "    <tr>\n",
       "      <th>2</th>\n",
       "      <td>2012-09-01 00:45:00</td>\n",
       "      <td>2012-09-01 00:49:00</td>\n",
       "      <td>9.00</td>\n",
       "      <td>1.0</td>\n",
       "      <td>-122.415120</td>\n",
       "      <td>37.774672</td>\n",
       "      <td>-122.407657</td>\n",
       "      <td>37.782615</td>\n",
       "      <td>10.0</td>\n",
       "      <td>11.0</td>\n",
       "      <td>0</td>\n",
       "      <td>5</td>\n",
       "      <td>0</td>\n",
       "    </tr>\n",
       "    <tr>\n",
       "      <th>3</th>\n",
       "      <td>2012-09-01 00:41:00</td>\n",
       "      <td>2012-09-01 00:54:00</td>\n",
       "      <td>13.95</td>\n",
       "      <td>2.0</td>\n",
       "      <td>-122.419392</td>\n",
       "      <td>37.806622</td>\n",
       "      <td>-122.415393</td>\n",
       "      <td>37.778115</td>\n",
       "      <td>40.0</td>\n",
       "      <td>10.0</td>\n",
       "      <td>0</td>\n",
       "      <td>5</td>\n",
       "      <td>0</td>\n",
       "    </tr>\n",
       "    <tr>\n",
       "      <th>4</th>\n",
       "      <td>2012-09-01 01:09:00</td>\n",
       "      <td>2012-09-01 01:13:00</td>\n",
       "      <td>7.35</td>\n",
       "      <td>1.0</td>\n",
       "      <td>-122.429722</td>\n",
       "      <td>37.797790</td>\n",
       "      <td>-122.418060</td>\n",
       "      <td>37.789032</td>\n",
       "      <td>45.0</td>\n",
       "      <td>32.0</td>\n",
       "      <td>1</td>\n",
       "      <td>5</td>\n",
       "      <td>0</td>\n",
       "    </tr>\n",
       "  </tbody>\n",
       "</table>\n",
       "</div>"
      ],
      "text/plain": [
       "           start_time            end_time   fare  number_pax   start_lng  \\\n",
       "0 2012-09-01 00:11:00 2012-09-01 00:20:00  13.20         1.0 -122.413540   \n",
       "1 2012-09-01 00:23:00 2012-09-01 00:31:00  10.65         1.0 -122.419700   \n",
       "2 2012-09-01 00:45:00 2012-09-01 00:49:00   9.00         1.0 -122.415120   \n",
       "3 2012-09-01 00:41:00 2012-09-01 00:54:00  13.95         2.0 -122.419392   \n",
       "4 2012-09-01 01:09:00 2012-09-01 01:13:00   7.35         1.0 -122.429722   \n",
       "\n",
       "   start_lat     end_lng    end_lat  start_taz  end_taz  hour_start  weekday  \\\n",
       "0  37.802683 -122.421277  37.785395       38.0     30.0           0        5   \n",
       "1  37.786090 -122.435217  37.762177       30.0     94.0           0        5   \n",
       "2  37.774672 -122.407657  37.782615       10.0     11.0           0        5   \n",
       "3  37.806622 -122.415393  37.778115       40.0     10.0           0        5   \n",
       "4  37.797790 -122.418060  37.789032       45.0     32.0           1        5   \n",
       "\n",
       "   SFO  \n",
       "0    0  \n",
       "1    0  \n",
       "2    0  \n",
       "3    0  \n",
       "4    0  "
      ]
     },
     "execution_count": 48,
     "metadata": {},
     "output_type": "execute_result"
    }
   ],
   "source": [
    "trips['SFO'] = ((trips['start_taz'] == 239) | (trips['end_taz'] == 239)).astype(int)\n",
    "trips.head()"
   ]
  },
  {
   "cell_type": "markdown",
   "metadata": {
    "colab_type": "text",
    "id": "aBVU6sPcWlVV"
   },
   "source": [
    "## Outliers\n"
   ]
  },
  {
   "cell_type": "code",
   "execution_count": 50,
   "metadata": {
    "colab": {
     "base_uri": "https://localhost:8080/",
     "height": 409
    },
    "colab_type": "code",
    "executionInfo": {
     "elapsed": 1048,
     "status": "ok",
     "timestamp": 1555956495906,
     "user": {
      "displayName": "Alan Cha",
      "photoUrl": "",
      "userId": "07616691434471469040"
     },
     "user_tz": 420
    },
    "id": "ydA_UFK4WlVV",
    "outputId": "55f26c4b-709a-4002-d48b-1091ecbe90a6"
   },
   "outputs": [
    {
     "data": {
      "image/png": "[encoded data removed]",
      "text/plain": [
       "<Figure size 576x432 with 1 Axes>"
      ]
     },
     "metadata": {
      "needs_background": "light"
     },
     "output_type": "display_data"
    }
   ],
   "source": [
    "plt.figure(figsize=(8,6))\n",
    "sns.distplot(trips['fare']);\n",
    "# seems like most of the fares cluster around 0 to 30. and a handful of quite high ones"
   ]
  },
  {
   "cell_type": "code",
   "execution_count": 51,
   "metadata": {
    "colab": {
     "base_uri": "https://localhost:8080/",
     "height": 312
    },
    "colab_type": "code",
    "executionInfo": {
     "elapsed": 593,
     "status": "ok",
     "timestamp": 1555956496229,
     "user": {
      "displayName": "Alan Cha",
      "photoUrl": "",
      "userId": "07616691434471469040"
     },
     "user_tz": 420
    },
    "id": "SSNO3yz6WlVW",
    "outputId": "ee8d6189-335e-4b8e-ac3a-3ee8b379e982"
   },
   "outputs": [
    {
     "data": {
      "text/html": [
       "<div>\n",
       "<style scoped>\n",
       "    .dataframe tbody tr th:only-of-type {\n",
       "        vertical-align: middle;\n",
       "    }\n",
       "\n",
       "    .dataframe tbody tr th {\n",
       "        vertical-align: top;\n",
       "    }\n",
       "\n",
       "    .dataframe thead th {\n",
       "        text-align: right;\n",
       "    }\n",
       "</style>\n",
       "<table border=\"1\" class=\"dataframe\">\n",
       "  <thead>\n",
       "    <tr style=\"text-align: right;\">\n",
       "      <th></th>\n",
       "      <th>start_time</th>\n",
       "      <th>end_time</th>\n",
       "      <th>fare</th>\n",
       "      <th>number_pax</th>\n",
       "      <th>start_lng</th>\n",
       "      <th>start_lat</th>\n",
       "      <th>end_lng</th>\n",
       "      <th>end_lat</th>\n",
       "      <th>start_taz</th>\n",
       "      <th>end_taz</th>\n",
       "      <th>hour_start</th>\n",
       "      <th>weekday</th>\n",
       "      <th>SFO</th>\n",
       "    </tr>\n",
       "  </thead>\n",
       "  <tbody>\n",
       "    <tr>\n",
       "      <th>9602</th>\n",
       "      <td>2012-09-03 20:55:00</td>\n",
       "      <td>2012-09-03 22:02:00</td>\n",
       "      <td>281.25</td>\n",
       "      <td>1.0</td>\n",
       "      <td>-122.387233</td>\n",
       "      <td>37.617143</td>\n",
       "      <td>-121.934592</td>\n",
       "      <td>38.272643</td>\n",
       "      <td>239.0</td>\n",
       "      <td>1252.0</td>\n",
       "      <td>20</td>\n",
       "      <td>0</td>\n",
       "      <td>1</td>\n",
       "    </tr>\n",
       "    <tr>\n",
       "      <th>23259</th>\n",
       "      <td>2012-09-07 22:34:00</td>\n",
       "      <td>2012-09-08 00:05:00</td>\n",
       "      <td>255.75</td>\n",
       "      <td>1.0</td>\n",
       "      <td>-122.384547</td>\n",
       "      <td>37.617148</td>\n",
       "      <td>-121.353468</td>\n",
       "      <td>37.982967</td>\n",
       "      <td>239.0</td>\n",
       "      <td>0.0</td>\n",
       "      <td>22</td>\n",
       "      <td>4</td>\n",
       "      <td>1</td>\n",
       "    </tr>\n",
       "    <tr>\n",
       "      <th>41438</th>\n",
       "      <td>2012-09-11 01:24:00</td>\n",
       "      <td>2012-09-11 02:16:00</td>\n",
       "      <td>219.35</td>\n",
       "      <td>1.0</td>\n",
       "      <td>-122.397640</td>\n",
       "      <td>37.793355</td>\n",
       "      <td>-121.889352</td>\n",
       "      <td>37.332805</td>\n",
       "      <td>1.0</td>\n",
       "      <td>558.0</td>\n",
       "      <td>1</td>\n",
       "      <td>1</td>\n",
       "      <td>0</td>\n",
       "    </tr>\n",
       "    <tr>\n",
       "      <th>13911</th>\n",
       "      <td>2012-09-06 18:37:00</td>\n",
       "      <td>2012-09-06 19:40:00</td>\n",
       "      <td>215.30</td>\n",
       "      <td>1.0</td>\n",
       "      <td>-122.390233</td>\n",
       "      <td>37.615377</td>\n",
       "      <td>-122.148178</td>\n",
       "      <td>38.052638</td>\n",
       "      <td>239.0</td>\n",
       "      <td>1211.0</td>\n",
       "      <td>18</td>\n",
       "      <td>3</td>\n",
       "      <td>1</td>\n",
       "    </tr>\n",
       "    <tr>\n",
       "      <th>9144</th>\n",
       "      <td>2012-09-03 17:40:00</td>\n",
       "      <td>2012-09-03 18:30:00</td>\n",
       "      <td>210.00</td>\n",
       "      <td>1.0</td>\n",
       "      <td>-122.390143</td>\n",
       "      <td>37.615127</td>\n",
       "      <td>-121.857482</td>\n",
       "      <td>37.301582</td>\n",
       "      <td>239.0</td>\n",
       "      <td>563.0</td>\n",
       "      <td>17</td>\n",
       "      <td>0</td>\n",
       "      <td>1</td>\n",
       "    </tr>\n",
       "  </tbody>\n",
       "</table>\n",
       "</div>"
      ],
      "text/plain": [
       "               start_time            end_time    fare  number_pax   start_lng  \\\n",
       "9602  2012-09-03 20:55:00 2012-09-03 22:02:00  281.25         1.0 -122.387233   \n",
       "23259 2012-09-07 22:34:00 2012-09-08 00:05:00  255.75         1.0 -122.384547   \n",
       "41438 2012-09-11 01:24:00 2012-09-11 02:16:00  219.35         1.0 -122.397640   \n",
       "13911 2012-09-06 18:37:00 2012-09-06 19:40:00  215.30         1.0 -122.390233   \n",
       "9144  2012-09-03 17:40:00 2012-09-03 18:30:00  210.00         1.0 -122.390143   \n",
       "\n",
       "       start_lat     end_lng    end_lat  start_taz  end_taz  hour_start  \\\n",
       "9602   37.617143 -121.934592  38.272643      239.0   1252.0          20   \n",
       "23259  37.617148 -121.353468  37.982967      239.0      0.0          22   \n",
       "41438  37.793355 -121.889352  37.332805        1.0    558.0           1   \n",
       "13911  37.615377 -122.148178  38.052638      239.0   1211.0          18   \n",
       "9144   37.615127 -121.857482  37.301582      239.0    563.0          17   \n",
       "\n",
       "       weekday  SFO  \n",
       "9602         0    1  \n",
       "23259        4    1  \n",
       "41438        1    0  \n",
       "13911        3    1  \n",
       "9144         0    1  "
      ]
     },
     "execution_count": 51,
     "metadata": {},
     "output_type": "execute_result"
    }
   ],
   "source": [
    "trips.sort_values(by='fare',ascending=False).head()"
   ]
  },
  {
   "cell_type": "code",
   "execution_count": 52,
   "metadata": {
    "colab": {
     "base_uri": "https://localhost:8080/",
     "height": 312
    },
    "colab_type": "code",
    "executionInfo": {
     "elapsed": 995,
     "status": "ok",
     "timestamp": 1555956497109,
     "user": {
      "displayName": "Alan Cha",
      "photoUrl": "",
      "userId": "07616691434471469040"
     },
     "user_tz": 420
    },
    "id": "bO4oPQQ1WlVY",
    "outputId": "41c1f11d-6d14-4bef-955f-d9c80c4b0415",
    "scrolled": false
   },
   "outputs": [
    {
     "data": {
      "text/html": [
       "<div>\n",
       "<style scoped>\n",
       "    .dataframe tbody tr th:only-of-type {\n",
       "        vertical-align: middle;\n",
       "    }\n",
       "\n",
       "    .dataframe tbody tr th {\n",
       "        vertical-align: top;\n",
       "    }\n",
       "\n",
       "    .dataframe thead th {\n",
       "        text-align: right;\n",
       "    }\n",
       "</style>\n",
       "<table border=\"1\" class=\"dataframe\">\n",
       "  <thead>\n",
       "    <tr style=\"text-align: right;\">\n",
       "      <th></th>\n",
       "      <th>start_time</th>\n",
       "      <th>end_time</th>\n",
       "      <th>fare</th>\n",
       "      <th>number_pax</th>\n",
       "      <th>start_lng</th>\n",
       "      <th>start_lat</th>\n",
       "      <th>end_lng</th>\n",
       "      <th>end_lat</th>\n",
       "      <th>start_taz</th>\n",
       "      <th>end_taz</th>\n",
       "      <th>hour_start</th>\n",
       "      <th>weekday</th>\n",
       "      <th>SFO</th>\n",
       "    </tr>\n",
       "  </thead>\n",
       "  <tbody>\n",
       "    <tr>\n",
       "      <th>35114</th>\n",
       "      <td>2012-09-10 22:27:00</td>\n",
       "      <td>2012-09-10 22:44:00</td>\n",
       "      <td>0.0</td>\n",
       "      <td>1.0</td>\n",
       "      <td>-122.515832</td>\n",
       "      <td>37.929987</td>\n",
       "      <td>-122.441647</td>\n",
       "      <td>37.793855</td>\n",
       "      <td>1441.0</td>\n",
       "      <td>49.0</td>\n",
       "      <td>22</td>\n",
       "      <td>0</td>\n",
       "      <td>0</td>\n",
       "    </tr>\n",
       "    <tr>\n",
       "      <th>31922</th>\n",
       "      <td>2012-09-11 21:31:00</td>\n",
       "      <td>2012-09-11 21:42:00</td>\n",
       "      <td>0.0</td>\n",
       "      <td>1.0</td>\n",
       "      <td>-122.440477</td>\n",
       "      <td>37.770990</td>\n",
       "      <td>-122.400258</td>\n",
       "      <td>37.794973</td>\n",
       "      <td>88.0</td>\n",
       "      <td>22.0</td>\n",
       "      <td>21</td>\n",
       "      <td>1</td>\n",
       "      <td>0</td>\n",
       "    </tr>\n",
       "    <tr>\n",
       "      <th>16062</th>\n",
       "      <td>2012-09-05 20:57:00</td>\n",
       "      <td>2012-09-05 21:38:00</td>\n",
       "      <td>0.0</td>\n",
       "      <td>1.0</td>\n",
       "      <td>-122.394605</td>\n",
       "      <td>37.777168</td>\n",
       "      <td>-122.165267</td>\n",
       "      <td>37.444040</td>\n",
       "      <td>109.0</td>\n",
       "      <td>356.0</td>\n",
       "      <td>20</td>\n",
       "      <td>2</td>\n",
       "      <td>0</td>\n",
       "    </tr>\n",
       "    <tr>\n",
       "      <th>12112</th>\n",
       "      <td>2012-09-04 07:08:00</td>\n",
       "      <td>2012-09-04 07:29:00</td>\n",
       "      <td>0.0</td>\n",
       "      <td>1.0</td>\n",
       "      <td>-122.411138</td>\n",
       "      <td>37.748365</td>\n",
       "      <td>-122.439378</td>\n",
       "      <td>37.761283</td>\n",
       "      <td>119.0</td>\n",
       "      <td>94.0</td>\n",
       "      <td>7</td>\n",
       "      <td>1</td>\n",
       "      <td>0</td>\n",
       "    </tr>\n",
       "    <tr>\n",
       "      <th>16466</th>\n",
       "      <td>2012-09-06 05:25:00</td>\n",
       "      <td>2012-09-06 05:30:00</td>\n",
       "      <td>0.0</td>\n",
       "      <td>1.0</td>\n",
       "      <td>-122.393393</td>\n",
       "      <td>37.775633</td>\n",
       "      <td>-122.402975</td>\n",
       "      <td>37.786653</td>\n",
       "      <td>109.0</td>\n",
       "      <td>12.0</td>\n",
       "      <td>5</td>\n",
       "      <td>3</td>\n",
       "      <td>0</td>\n",
       "    </tr>\n",
       "  </tbody>\n",
       "</table>\n",
       "</div>"
      ],
      "text/plain": [
       "               start_time            end_time  fare  number_pax   start_lng  \\\n",
       "35114 2012-09-10 22:27:00 2012-09-10 22:44:00   0.0         1.0 -122.515832   \n",
       "31922 2012-09-11 21:31:00 2012-09-11 21:42:00   0.0         1.0 -122.440477   \n",
       "16062 2012-09-05 20:57:00 2012-09-05 21:38:00   0.0         1.0 -122.394605   \n",
       "12112 2012-09-04 07:08:00 2012-09-04 07:29:00   0.0         1.0 -122.411138   \n",
       "16466 2012-09-06 05:25:00 2012-09-06 05:30:00   0.0         1.0 -122.393393   \n",
       "\n",
       "       start_lat     end_lng    end_lat  start_taz  end_taz  hour_start  \\\n",
       "35114  37.929987 -122.441647  37.793855     1441.0     49.0          22   \n",
       "31922  37.770990 -122.400258  37.794973       88.0     22.0          21   \n",
       "16062  37.777168 -122.165267  37.444040      109.0    356.0          20   \n",
       "12112  37.748365 -122.439378  37.761283      119.0     94.0           7   \n",
       "16466  37.775633 -122.402975  37.786653      109.0     12.0           5   \n",
       "\n",
       "       weekday  SFO  \n",
       "35114        0    0  \n",
       "31922        1    0  \n",
       "16062        2    0  \n",
       "12112        1    0  \n",
       "16466        3    0  "
      ]
     },
     "execution_count": 52,
     "metadata": {},
     "output_type": "execute_result"
    }
   ],
   "source": [
    "trips.sort_values(by='fare',ascending=True).head()"
   ]
  },
  {
   "cell_type": "markdown",
   "metadata": {
    "colab_type": "text",
    "id": "ZtEkKMvWWlVZ"
   },
   "source": [
    "Looks like we have some really high fares, taz 0, and 0 fares.\n",
    "\n",
    "We will will only address for taz for brevity:\n",
    "0 taz refers to out of bay area."
   ]
  },
  {
   "cell_type": "code",
   "execution_count": 53,
   "metadata": {
    "colab": {
     "base_uri": "https://localhost:8080/",
     "height": 54
    },
    "colab_type": "code",
    "executionInfo": {
     "elapsed": 1707,
     "status": "ok",
     "timestamp": 1555956499137,
     "user": {
      "displayName": "Alan Cha",
      "photoUrl": "",
      "userId": "07616691434471469040"
     },
     "user_tz": 420
    },
    "id": "fdCbvhvtWlVa",
    "outputId": "17e19a74-d2b2-4821-dcdb-c81a5d1b602e"
   },
   "outputs": [
    {
     "data": {
      "text/plain": [
       "1018"
      ]
     },
     "execution_count": 53,
     "metadata": {},
     "output_type": "execute_result"
    }
   ],
   "source": [
    "trips[trips['start_taz'] == 0].shape[0]"
   ]
  },
  {
   "cell_type": "code",
   "execution_count": 54,
   "metadata": {
    "colab": {
     "base_uri": "https://localhost:8080/",
     "height": 54
    },
    "colab_type": "code",
    "executionInfo": {
     "elapsed": 795,
     "status": "ok",
     "timestamp": 1555956499138,
     "user": {
      "displayName": "Alan Cha",
      "photoUrl": "",
      "userId": "07616691434471469040"
     },
     "user_tz": 420
    },
    "id": "YkGoz6TYWlVb",
    "outputId": "7ea1d1cc-fecb-4ab0-8dfa-47956bf5d935"
   },
   "outputs": [
    {
     "data": {
      "text/plain": [
       "1214"
      ]
     },
     "execution_count": 54,
     "metadata": {},
     "output_type": "execute_result"
    }
   ],
   "source": [
    "trips[trips['end_taz'] == 0].shape[0]"
   ]
  },
  {
   "cell_type": "code",
   "execution_count": 55,
   "metadata": {
    "colab": {
     "base_uri": "https://localhost:8080/",
     "height": 54
    },
    "colab_type": "code",
    "executionInfo": {
     "elapsed": 1127,
     "status": "ok",
     "timestamp": 1555956500216,
     "user": {
      "displayName": "Alan Cha",
      "photoUrl": "",
      "userId": "07616691434471469040"
     },
     "user_tz": 420
    },
    "id": "wQa9G_8QWlVc",
    "outputId": "c96c4a8b-d1f2-435b-a908-6e24cd35bd85"
   },
   "outputs": [
    {
     "data": {
      "text/plain": [
       "41897"
      ]
     },
     "execution_count": 55,
     "metadata": {},
     "output_type": "execute_result"
    }
   ],
   "source": [
    "trips.shape[0]"
   ]
  },
  {
   "cell_type": "code",
   "execution_count": 56,
   "metadata": {
    "colab": {
     "base_uri": "https://localhost:8080/",
     "height": 327
    },
    "colab_type": "code",
    "executionInfo": {
     "elapsed": 788,
     "status": "ok",
     "timestamp": 1555956500944,
     "user": {
      "displayName": "Alan Cha",
      "photoUrl": "",
      "userId": "07616691434471469040"
     },
     "user_tz": 420
    },
    "id": "RFbRZ0xBWlVd",
    "outputId": "6c6163d9-7430-48de-e860-6e6f38090797"
   },
   "outputs": [
    {
     "data": {
      "text/html": [
       "<div>\n",
       "<style scoped>\n",
       "    .dataframe tbody tr th:only-of-type {\n",
       "        vertical-align: middle;\n",
       "    }\n",
       "\n",
       "    .dataframe tbody tr th {\n",
       "        vertical-align: top;\n",
       "    }\n",
       "\n",
       "    .dataframe thead th {\n",
       "        text-align: right;\n",
       "    }\n",
       "</style>\n",
       "<table border=\"1\" class=\"dataframe\">\n",
       "  <thead>\n",
       "    <tr style=\"text-align: right;\">\n",
       "      <th></th>\n",
       "      <th>start_time</th>\n",
       "      <th>end_time</th>\n",
       "      <th>fare</th>\n",
       "      <th>number_pax</th>\n",
       "      <th>start_lng</th>\n",
       "      <th>start_lat</th>\n",
       "      <th>end_lng</th>\n",
       "      <th>end_lat</th>\n",
       "      <th>start_taz</th>\n",
       "      <th>end_taz</th>\n",
       "      <th>hour_start</th>\n",
       "      <th>weekday</th>\n",
       "      <th>SFO</th>\n",
       "      <th>Taz 0</th>\n",
       "    </tr>\n",
       "  </thead>\n",
       "  <tbody>\n",
       "    <tr>\n",
       "      <th>0</th>\n",
       "      <td>2012-09-01 00:11:00</td>\n",
       "      <td>2012-09-01 00:20:00</td>\n",
       "      <td>13.20</td>\n",
       "      <td>1.0</td>\n",
       "      <td>-122.413540</td>\n",
       "      <td>37.802683</td>\n",
       "      <td>-122.421277</td>\n",
       "      <td>37.785395</td>\n",
       "      <td>38.0</td>\n",
       "      <td>30.0</td>\n",
       "      <td>0</td>\n",
       "      <td>5</td>\n",
       "      <td>0</td>\n",
       "      <td>0</td>\n",
       "    </tr>\n",
       "    <tr>\n",
       "      <th>1</th>\n",
       "      <td>2012-09-01 00:23:00</td>\n",
       "      <td>2012-09-01 00:31:00</td>\n",
       "      <td>10.65</td>\n",
       "      <td>1.0</td>\n",
       "      <td>-122.419700</td>\n",
       "      <td>37.786090</td>\n",
       "      <td>-122.435217</td>\n",
       "      <td>37.762177</td>\n",
       "      <td>30.0</td>\n",
       "      <td>94.0</td>\n",
       "      <td>0</td>\n",
       "      <td>5</td>\n",
       "      <td>0</td>\n",
       "      <td>0</td>\n",
       "    </tr>\n",
       "    <tr>\n",
       "      <th>2</th>\n",
       "      <td>2012-09-01 00:45:00</td>\n",
       "      <td>2012-09-01 00:49:00</td>\n",
       "      <td>9.00</td>\n",
       "      <td>1.0</td>\n",
       "      <td>-122.415120</td>\n",
       "      <td>37.774672</td>\n",
       "      <td>-122.407657</td>\n",
       "      <td>37.782615</td>\n",
       "      <td>10.0</td>\n",
       "      <td>11.0</td>\n",
       "      <td>0</td>\n",
       "      <td>5</td>\n",
       "      <td>0</td>\n",
       "      <td>0</td>\n",
       "    </tr>\n",
       "    <tr>\n",
       "      <th>3</th>\n",
       "      <td>2012-09-01 00:41:00</td>\n",
       "      <td>2012-09-01 00:54:00</td>\n",
       "      <td>13.95</td>\n",
       "      <td>2.0</td>\n",
       "      <td>-122.419392</td>\n",
       "      <td>37.806622</td>\n",
       "      <td>-122.415393</td>\n",
       "      <td>37.778115</td>\n",
       "      <td>40.0</td>\n",
       "      <td>10.0</td>\n",
       "      <td>0</td>\n",
       "      <td>5</td>\n",
       "      <td>0</td>\n",
       "      <td>0</td>\n",
       "    </tr>\n",
       "    <tr>\n",
       "      <th>4</th>\n",
       "      <td>2012-09-01 01:09:00</td>\n",
       "      <td>2012-09-01 01:13:00</td>\n",
       "      <td>7.35</td>\n",
       "      <td>1.0</td>\n",
       "      <td>-122.429722</td>\n",
       "      <td>37.797790</td>\n",
       "      <td>-122.418060</td>\n",
       "      <td>37.789032</td>\n",
       "      <td>45.0</td>\n",
       "      <td>32.0</td>\n",
       "      <td>1</td>\n",
       "      <td>5</td>\n",
       "      <td>0</td>\n",
       "      <td>0</td>\n",
       "    </tr>\n",
       "  </tbody>\n",
       "</table>\n",
       "</div>"
      ],
      "text/plain": [
       "           start_time            end_time   fare  number_pax   start_lng  \\\n",
       "0 2012-09-01 00:11:00 2012-09-01 00:20:00  13.20         1.0 -122.413540   \n",
       "1 2012-09-01 00:23:00 2012-09-01 00:31:00  10.65         1.0 -122.419700   \n",
       "2 2012-09-01 00:45:00 2012-09-01 00:49:00   9.00         1.0 -122.415120   \n",
       "3 2012-09-01 00:41:00 2012-09-01 00:54:00  13.95         2.0 -122.419392   \n",
       "4 2012-09-01 01:09:00 2012-09-01 01:13:00   7.35         1.0 -122.429722   \n",
       "\n",
       "   start_lat     end_lng    end_lat  start_taz  end_taz  hour_start  weekday  \\\n",
       "0  37.802683 -122.421277  37.785395       38.0     30.0           0        5   \n",
       "1  37.786090 -122.435217  37.762177       30.0     94.0           0        5   \n",
       "2  37.774672 -122.407657  37.782615       10.0     11.0           0        5   \n",
       "3  37.806622 -122.415393  37.778115       40.0     10.0           0        5   \n",
       "4  37.797790 -122.418060  37.789032       45.0     32.0           1        5   \n",
       "\n",
       "   SFO  Taz 0  \n",
       "0    0      0  \n",
       "1    0      0  \n",
       "2    0      0  \n",
       "3    0      0  \n",
       "4    0      0  "
      ]
     },
     "execution_count": 56,
     "metadata": {},
     "output_type": "execute_result"
    }
   ],
   "source": [
    "trips['Taz 0'] = (trips['start_taz'] == 0) | (trips['end_taz'] == 0)\n",
    "trips['Taz 0'] = trips['Taz 0'].astype(int)\n",
    "trips.head()"
   ]
  },
  {
   "cell_type": "markdown",
   "metadata": {
    "colab_type": "text",
    "id": "cuUG4Iokca0N"
   },
   "source": [
    "**Discussion** \n",
    "\n",
    "What do you think we should do with fares that are 0?"
   ]
  },
  {
   "cell_type": "code",
   "execution_count": 57,
   "metadata": {
    "colab": {},
    "colab_type": "code",
    "id": "wwUf7zn9ca0P",
    "outputId": "d10b1259-9ae3-404b-80e0-75580da76e0f"
   },
   "outputs": [
    {
     "data": {
      "text/plain": [
       "125"
      ]
     },
     "execution_count": 57,
     "metadata": {},
     "output_type": "execute_result"
    }
   ],
   "source": [
    "sum(trips['fare'] == 0)"
   ]
  },
  {
   "cell_type": "markdown",
   "metadata": {
    "colab_type": "text",
    "id": "8-BsxJqVWlVe"
   },
   "source": [
    "Lets drop some unncessary information now."
   ]
  },
  {
   "cell_type": "code",
   "execution_count": 58,
   "metadata": {
    "colab": {
     "base_uri": "https://localhost:8080/",
     "height": 221
    },
    "colab_type": "code",
    "executionInfo": {
     "elapsed": 900,
     "status": "ok",
     "timestamp": 1555956503790,
     "user": {
      "displayName": "Alan Cha",
      "photoUrl": "",
      "userId": "07616691434471469040"
     },
     "user_tz": 420
    },
    "id": "LRickO06WlVf",
    "outputId": "9820d0e6-b4d3-40c7-f24c-1bb1f26bf973"
   },
   "outputs": [
    {
     "data": {
      "text/html": [
       "<div>\n",
       "<style scoped>\n",
       "    .dataframe tbody tr th:only-of-type {\n",
       "        vertical-align: middle;\n",
       "    }\n",
       "\n",
       "    .dataframe tbody tr th {\n",
       "        vertical-align: top;\n",
       "    }\n",
       "\n",
       "    .dataframe thead th {\n",
       "        text-align: right;\n",
       "    }\n",
       "</style>\n",
       "<table border=\"1\" class=\"dataframe\">\n",
       "  <thead>\n",
       "    <tr style=\"text-align: right;\">\n",
       "      <th></th>\n",
       "      <th>fare</th>\n",
       "      <th>number_pax</th>\n",
       "      <th>start_taz</th>\n",
       "      <th>end_taz</th>\n",
       "      <th>hour_start</th>\n",
       "      <th>weekday</th>\n",
       "      <th>SFO</th>\n",
       "      <th>Taz 0</th>\n",
       "    </tr>\n",
       "  </thead>\n",
       "  <tbody>\n",
       "    <tr>\n",
       "      <th>0</th>\n",
       "      <td>13.20</td>\n",
       "      <td>1.0</td>\n",
       "      <td>38.0</td>\n",
       "      <td>30.0</td>\n",
       "      <td>0</td>\n",
       "      <td>5</td>\n",
       "      <td>0</td>\n",
       "      <td>0</td>\n",
       "    </tr>\n",
       "    <tr>\n",
       "      <th>1</th>\n",
       "      <td>10.65</td>\n",
       "      <td>1.0</td>\n",
       "      <td>30.0</td>\n",
       "      <td>94.0</td>\n",
       "      <td>0</td>\n",
       "      <td>5</td>\n",
       "      <td>0</td>\n",
       "      <td>0</td>\n",
       "    </tr>\n",
       "    <tr>\n",
       "      <th>2</th>\n",
       "      <td>9.00</td>\n",
       "      <td>1.0</td>\n",
       "      <td>10.0</td>\n",
       "      <td>11.0</td>\n",
       "      <td>0</td>\n",
       "      <td>5</td>\n",
       "      <td>0</td>\n",
       "      <td>0</td>\n",
       "    </tr>\n",
       "    <tr>\n",
       "      <th>3</th>\n",
       "      <td>13.95</td>\n",
       "      <td>2.0</td>\n",
       "      <td>40.0</td>\n",
       "      <td>10.0</td>\n",
       "      <td>0</td>\n",
       "      <td>5</td>\n",
       "      <td>0</td>\n",
       "      <td>0</td>\n",
       "    </tr>\n",
       "    <tr>\n",
       "      <th>4</th>\n",
       "      <td>7.35</td>\n",
       "      <td>1.0</td>\n",
       "      <td>45.0</td>\n",
       "      <td>32.0</td>\n",
       "      <td>1</td>\n",
       "      <td>5</td>\n",
       "      <td>0</td>\n",
       "      <td>0</td>\n",
       "    </tr>\n",
       "  </tbody>\n",
       "</table>\n",
       "</div>"
      ],
      "text/plain": [
       "    fare  number_pax  start_taz  end_taz  hour_start  weekday  SFO  Taz 0\n",
       "0  13.20         1.0       38.0     30.0           0        5    0      0\n",
       "1  10.65         1.0       30.0     94.0           0        5    0      0\n",
       "2   9.00         1.0       10.0     11.0           0        5    0      0\n",
       "3  13.95         2.0       40.0     10.0           0        5    0      0\n",
       "4   7.35         1.0       45.0     32.0           1        5    0      0"
      ]
     },
     "execution_count": 58,
     "metadata": {},
     "output_type": "execute_result"
    }
   ],
   "source": [
    "trips = trips.drop(['start_time','end_time','start_lng','start_lat','end_lng','end_lat'], axis=1)\n",
    "trips.head()"
   ]
  },
  {
   "cell_type": "markdown",
   "metadata": {
    "colab": {},
    "colab_type": "code",
    "id": "QcgZ1U2hWlVg"
   },
   "source": [
    "**Discussion**\n",
    "\n",
    "Given what we have, what else could we augment and add to our dataset?"
   ]
  },
  {
   "cell_type": "markdown",
   "metadata": {
    "colab_type": "text",
    "id": "1y8VF-wrWlVh"
   },
   "source": [
    "# Part 2: Starting the ML Process\n",
    "\n",
    "We will now go through the process for creating a model.\n",
    "\n",
    "**We will:**\n",
    "1. Create a baseline model \n",
    "1. Try a regression tree tuning one parameter\n",
    "1. Tune multiple parameters\n",
    "1. Try some different types of feature engineering"
   ]
  },
  {
   "cell_type": "markdown",
   "metadata": {
    "colab_type": "text",
    "id": "NUi6Oq3pWlVh"
   },
   "source": [
    "### Baseline Model: Linear Regression\n",
    "\n",
    "https://scikit-learn.org/stable/modules/generated/sklearn.linear_model.LinearRegression.html"
   ]
  },
  {
   "cell_type": "code",
   "execution_count": 59,
   "metadata": {
    "colab": {
     "base_uri": "https://localhost:8080/",
     "height": 72
    },
    "colab_type": "code",
    "executionInfo": {
     "elapsed": 876,
     "status": "ok",
     "timestamp": 1555956507809,
     "user": {
      "displayName": "Alan Cha",
      "photoUrl": "",
      "userId": "07616691434471469040"
     },
     "user_tz": 420
    },
    "id": "e_g-tNcqWlVh",
    "outputId": "52b2118c-39e3-48a1-d7ac-cd6b45a6f2d5"
   },
   "outputs": [
    {
     "name": "stdout",
     "output_type": "stream",
     "text": [
      "Precentage of data\n",
      "\n",
      "Train              Val                 Test\n",
      "0.6992863450843736 0.20070649449841277 0.10000716041721364\n"
     ]
    }
   ],
   "source": [
    "# classic test train split\n",
    "from sklearn.model_selection import train_test_split\n",
    "\n",
    "train = trips.loc[:, trips.columns != 'fare']\n",
    "target = trips['fare']\n",
    "\n",
    "# splitting into train and test \n",
    "X_train, X_test, Y_train, Y_test = train_test_split(train, target, test_size=.1, random_state=42)\n",
    "\n",
    "# splitting train into train and val\n",
    "X_train, X_val, Y_train, Y_val = train_test_split(X_train, Y_train, test_size=.223, random_state=42)\n",
    "\n",
    "print('Precentage of data')\n",
    "print()\n",
    "print('Train','             Val','                Test')\n",
    "print(X_train.shape[0] / trips.shape[0],X_val.shape[0] / trips.shape[0],X_test.shape[0] / trips.shape[0]  )"
   ]
  },
  {
   "cell_type": "code",
   "execution_count": 60,
   "metadata": {
    "colab": {
     "base_uri": "https://localhost:8080/",
     "height": 120
    },
    "colab_type": "code",
    "executionInfo": {
     "elapsed": 1525,
     "status": "ok",
     "timestamp": 1555956518146,
     "user": {
      "displayName": "Alan Cha",
      "photoUrl": "",
      "userId": "07616691434471469040"
     },
     "user_tz": 420
    },
    "id": "O9qhge7KWlVi",
    "outputId": "617434e9-748d-4e57-a477-100c92a67b4f"
   },
   "outputs": [
    {
     "name": "stdout",
     "output_type": "stream",
     "text": [
      "Baseline Train Error\n",
      "8.850905829208362\n",
      "\n",
      "Baseline Validation Error\n",
      "9.098413484279162\n"
     ]
    }
   ],
   "source": [
    "from sklearn.linear_model import LinearRegression\n",
    "\n",
    "# Creating Loss Function \n",
    "rmse = lambda x, y: np.sqrt(np.mean((x-y)**2))\n",
    "\n",
    "# Instaniating our model \n",
    "baseline = LinearRegression()\n",
    "\n",
    "# training it \n",
    "baseline.fit(X_train, Y_train)\n",
    "\n",
    "# evaluating it\n",
    "train_error = rmse(baseline.predict(X_train), Y_train)\n",
    "\n",
    "val_error = rmse(baseline.predict(X_val), Y_val)\n",
    "print('Baseline Train Error')\n",
    "print(train_error)\n",
    "print()\n",
    "print('Baseline Validation Error')\n",
    "print(val_error)"
   ]
  },
  {
   "cell_type": "markdown",
   "metadata": {
    "colab_type": "text",
    "id": "Nbgk79Uyca0X"
   },
   "source": [
    "**Discussion**\n",
    "\n",
    "Why is training error less than validation error?"
   ]
  },
  {
   "cell_type": "markdown",
   "metadata": {
    "colab_type": "text",
    "id": "nMQnSaKica0X"
   },
   "source": [
    "**Visualzing our model**"
   ]
  },
  {
   "cell_type": "code",
   "execution_count": 62,
   "metadata": {
    "colab": {
     "base_uri": "https://localhost:8080/",
     "height": 300
    },
    "colab_type": "code",
    "executionInfo": {
     "elapsed": 687,
     "status": "ok",
     "timestamp": 1555956522133,
     "user": {
      "displayName": "Alan Cha",
      "photoUrl": "",
      "userId": "07616691434471469040"
     },
     "user_tz": 420
    },
    "id": "7PA4-o5V5cT4",
    "outputId": "14687ac5-e934-4ee2-e167-9a0dffb827c2"
   },
   "outputs": [
    {
     "data": {
      "image/png": "[encoded data removed]",
      "text/plain": [
       "<Figure size 432x288 with 1 Axes>"
      ]
     },
     "metadata": {
      "needs_background": "light"
     },
     "output_type": "display_data"
    }
   ],
   "source": [
    "sns.distplot(Y_val - baseline.predict(X_val));"
   ]
  },
  {
   "cell_type": "code",
   "execution_count": 68,
   "metadata": {
    "colab": {
     "base_uri": "https://localhost:8080/",
     "height": 421
    },
    "colab_type": "code",
    "executionInfo": {
     "elapsed": 1495,
     "status": "ok",
     "timestamp": 1555956523582,
     "user": {
      "displayName": "Alan Cha",
      "photoUrl": "",
      "userId": "07616691434471469040"
     },
     "user_tz": 420
    },
    "id": "BMiwjiHyWlVk",
    "outputId": "8480f0e7-b54f-47ca-ad45-b5ba04eb13d4"
   },
   "outputs": [
    {
     "data": {
      "image/png": "[encoded data removed]",
      "text/plain": [
       "<Figure size 576x432 with 1 Axes>"
      ]
     },
     "metadata": {
      "needs_background": "light"
     },
     "output_type": "display_data"
    }
   ],
   "source": [
    "plt.figure(figsize=(8,6))      \n",
    "plt.scatter(np.arange(len(X_val)), Y_val - baseline.predict(X_val),alpha=.5)\n",
    "plt.xlabel('x')\n",
    "plt.ylabel('residual (true y - estimated y)')\n",
    "plt.title('Residual vs x for Linear Model')\n",
    "plt.axhline(y = 0, color='r');"
   ]
  },
  {
   "cell_type": "code",
   "execution_count": 67,
   "metadata": {
    "colab": {},
    "colab_type": "code",
    "id": "7sgu1PZOca0Z",
    "outputId": "cf2ee0cc-48dc-44d6-e6fe-cfd56ea82bd2"
   },
   "outputs": [
    {
     "data": {
      "image/png": "[encoded data removed]",
      "text/plain": [
       "<Figure size 576x432 with 1 Axes>"
      ]
     },
     "metadata": {
      "needs_background": "light"
     },
     "output_type": "display_data"
    }
   ],
   "source": [
    "plt.figure(figsize=(8,6))\n",
    "sns.distplot(baseline.predict(X_val), hist=False, label='predicted')\n",
    "sns.distplot(Y_val, hist=False, label='val')\n",
    "plt.title('Distribution of test vs predicted')\n",
    "plt.xlabel('Fare Price');"
   ]
  },
  {
   "cell_type": "markdown",
   "metadata": {
    "colab_type": "text",
    "id": "DBG2Zi2syNgu"
   },
   "source": [
    "### Hyper parameter tuning"
   ]
  },
  {
   "cell_type": "markdown",
   "metadata": {
    "colab_type": "text",
    "id": "D_cZFsJ7ca0a"
   },
   "source": [
    "https://scikit-learn.org/stable/modules/generated/sklearn.ensemble.RandomForestRegressor.html"
   ]
  },
  {
   "cell_type": "code",
   "execution_count": 71,
   "metadata": {
    "colab": {},
    "colab_type": "code",
    "id": "IBetPfRUca0a",
    "outputId": "cf097e17-76a0-4153-8b6c-f05df49faec9"
   },
   "outputs": [
    {
     "name": "stdout",
     "output_type": "stream",
     "text": [
      "31.09  seconds\n"
     ]
    }
   ],
   "source": [
    "from sklearn.ensemble import RandomForestRegressor\n",
    "from sklearn.model_selection import KFold\n",
    "# n_estimators, criterion, max_depth, min_samples_split, min_samples_leaf, min_weight_fraction_leaf, max_features\n",
    "# max_leaf_nodes, min_impurity_decrease, min_impurity_split\n",
    "\n",
    "# set up sklearn's kfold object \n",
    "kf = KFold(n_splits=4)\n",
    "\n",
    "# range of parameters to try\n",
    "test_vals = [10,20,30,40,50]\n",
    "\n",
    "val_errors = []\n",
    "\n",
    "start = time.time()\n",
    "for i in test_vals:\n",
    "    # create new model for each testing value \n",
    "    model = RandomForestRegressor(n_estimators=i)\n",
    "    \n",
    "    # save errors here on each split\n",
    "    validation_errors = []\n",
    "    for train_idx, valid_idx in kf.split(X_train):\n",
    "        # split the data\n",
    "        split_X_train, split_X_valid = X_train.iloc[train_idx], X_train.iloc[valid_idx] \n",
    "        split_Y_train, split_Y_valid = Y_train.iloc[train_idx], Y_train.iloc[valid_idx]\n",
    "\n",
    "        # Fit the model on the training split\n",
    "        model.fit(split_X_train, split_Y_train)\n",
    "        \n",
    "        # Compute the RMSE on the validation split\n",
    "        pred = model.predict(split_X_valid)\n",
    "        error = rmse(split_Y_valid, pred)\n",
    "\n",
    "        validation_errors.append(error)\n",
    "    # for each outer loop iteration, append the mean validation error as that error\n",
    "    val_errors.append(np.mean(validation_errors))\n",
    "print(round(time.time() - start, 2), ' seconds')"
   ]
  },
  {
   "cell_type": "code",
   "execution_count": 72,
   "metadata": {
    "colab": {},
    "colab_type": "code",
    "id": "VS9k3Zcmca0b",
    "outputId": "8f09fac7-d8ed-4385-94fc-62b0bfed1c20"
   },
   "outputs": [
    {
     "name": "stdout",
     "output_type": "stream",
     "text": [
      "(10, 5.959154809160998)\n",
      "(20, 5.801626136279052)\n",
      "(30, 5.723827695651759)\n",
      "(40, 5.73454160572549)\n",
      "(50, 5.6994992118278605)\n"
     ]
    }
   ],
   "source": [
    "for i in list(zip(test_vals, val_errors)):\n",
    "    print(i)"
   ]
  },
  {
   "cell_type": "code",
   "execution_count": 73,
   "metadata": {
    "colab": {},
    "colab_type": "code",
    "id": "X3THPbzkca0c",
    "outputId": "56265f06-261a-40a6-c5b5-7e32c15327b7"
   },
   "outputs": [
    {
     "data": {
      "image/png": "[encoded data removed]",
      "text/plain": [
       "<Figure size 432x288 with 1 Axes>"
      ]
     },
     "metadata": {
      "needs_background": "light"
     },
     "output_type": "display_data"
    }
   ],
   "source": [
    "plt.plot(test_vals, val_errors);"
   ]
  },
  {
   "cell_type": "code",
   "execution_count": 75,
   "metadata": {
    "colab": {
     "base_uri": "https://localhost:8080/",
     "height": 54
    },
    "colab_type": "code",
    "executionInfo": {
     "elapsed": 548124,
     "status": "ok",
     "timestamp": 1555957090675,
     "user": {
      "displayName": "Alan Cha",
      "photoUrl": "",
      "userId": "07616691434471469040"
     },
     "user_tz": 420
    },
    "id": "PQtMUUMfWlVl",
    "outputId": "6ed5e2d2-485e-414a-eb8f-f52403cda826"
   },
   "outputs": [
    {
     "name": "stdout",
     "output_type": "stream",
     "text": [
      "224.84 seconds\n"
     ]
    }
   ],
   "source": [
    "from sklearn.model_selection import GridSearchCV\n",
    "\n",
    "params = {'n_estimators':[10,50,100,150,300], \n",
    "          'max_features':['auto','sqrt','log2'],\n",
    "          'max_depth': [5,15,30,45]}\n",
    "\n",
    "grid = GridSearchCV(estimator=RandomForestRegressor(), \n",
    "                    param_grid=params, \n",
    "                    cv=2)\n",
    "\n",
    "start = time.time()\n",
    "grid.fit(X_train,Y_train)\n",
    "print(f'{round(time.time() - start, 2)} seconds')"
   ]
  },
  {
   "cell_type": "code",
   "execution_count": 76,
   "metadata": {
    "colab": {
     "base_uri": "https://localhost:8080/",
     "height": 1207
    },
    "colab_type": "code",
    "executionInfo": {
     "elapsed": 1611,
     "status": "ok",
     "timestamp": 1555900086152,
     "user": {
      "displayName": "Alan Cha",
      "photoUrl": "",
      "userId": "07616691434471469040"
     },
     "user_tz": 420
    },
    "id": "DZO4qxOEWlVm",
    "outputId": "b9815769-3149-447e-8f9e-c136d6deed58"
   },
   "outputs": [
    {
     "name": "stdout",
     "output_type": "stream",
     "text": [
      "{'max_depth': 5, 'max_features': 'auto', 'n_estimators': 10} 0.8231053795113527\n",
      "{'max_depth': 5, 'max_features': 'auto', 'n_estimators': 50} 0.8259928051375017\n",
      "{'max_depth': 5, 'max_features': 'auto', 'n_estimators': 100} 0.8292746878175179\n",
      "{'max_depth': 5, 'max_features': 'auto', 'n_estimators': 150} 0.8280989413617216\n",
      "{'max_depth': 5, 'max_features': 'auto', 'n_estimators': 300} 0.8288476639120136\n",
      "{'max_depth': 5, 'max_features': 'sqrt', 'n_estimators': 10} 0.765634547166142\n",
      "{'max_depth': 5, 'max_features': 'sqrt', 'n_estimators': 50} 0.760512529802326\n",
      "{'max_depth': 5, 'max_features': 'sqrt', 'n_estimators': 100} 0.7649434882109221\n",
      "{'max_depth': 5, 'max_features': 'sqrt', 'n_estimators': 150} 0.7683958546741885\n",
      "{'max_depth': 5, 'max_features': 'sqrt', 'n_estimators': 300} 0.7695125180119768\n",
      "{'max_depth': 5, 'max_features': 'log2', 'n_estimators': 10} 0.7670452793364794\n",
      "{'max_depth': 5, 'max_features': 'log2', 'n_estimators': 50} 0.7698931612079596\n",
      "{'max_depth': 5, 'max_features': 'log2', 'n_estimators': 100} 0.7727198391829102\n",
      "{'max_depth': 5, 'max_features': 'log2', 'n_estimators': 150} 0.7704632605760522\n",
      "{'max_depth': 5, 'max_features': 'log2', 'n_estimators': 300} 0.7683226350685853\n",
      "{'max_depth': 15, 'max_features': 'auto', 'n_estimators': 10} 0.858398607582212\n",
      "{'max_depth': 15, 'max_features': 'auto', 'n_estimators': 50} 0.8661489744678679\n",
      "{'max_depth': 15, 'max_features': 'auto', 'n_estimators': 100} 0.8678416397524437\n",
      "{'max_depth': 15, 'max_features': 'auto', 'n_estimators': 150} 0.8663815443637308\n",
      "{'max_depth': 15, 'max_features': 'auto', 'n_estimators': 300} 0.8667752899666559\n",
      "{'max_depth': 15, 'max_features': 'sqrt', 'n_estimators': 10} 0.8248409697785398\n",
      "{'max_depth': 15, 'max_features': 'sqrt', 'n_estimators': 50} 0.8295760394803658\n",
      "{'max_depth': 15, 'max_features': 'sqrt', 'n_estimators': 100} 0.8333657324691507\n",
      "{'max_depth': 15, 'max_features': 'sqrt', 'n_estimators': 150} 0.8333911519161062\n",
      "{'max_depth': 15, 'max_features': 'sqrt', 'n_estimators': 300} 0.8344494028588372\n",
      "{'max_depth': 15, 'max_features': 'log2', 'n_estimators': 10} 0.8191061612934372\n",
      "{'max_depth': 15, 'max_features': 'log2', 'n_estimators': 50} 0.8343853531032056\n",
      "{'max_depth': 15, 'max_features': 'log2', 'n_estimators': 100} 0.831543232059612\n",
      "{'max_depth': 15, 'max_features': 'log2', 'n_estimators': 150} 0.8349169448096347\n",
      "{'max_depth': 15, 'max_features': 'log2', 'n_estimators': 300} 0.8350436619291145\n",
      "{'max_depth': 30, 'max_features': 'auto', 'n_estimators': 10} 0.8584568343530805\n",
      "{'max_depth': 30, 'max_features': 'auto', 'n_estimators': 50} 0.861490800119045\n",
      "{'max_depth': 30, 'max_features': 'auto', 'n_estimators': 100} 0.8644009593795338\n",
      "{'max_depth': 30, 'max_features': 'auto', 'n_estimators': 150} 0.8659167517703354\n",
      "{'max_depth': 30, 'max_features': 'auto', 'n_estimators': 300} 0.8651837215145055\n",
      "{'max_depth': 30, 'max_features': 'sqrt', 'n_estimators': 10} 0.8209947799552308\n",
      "{'max_depth': 30, 'max_features': 'sqrt', 'n_estimators': 50} 0.8343617916154659\n",
      "{'max_depth': 30, 'max_features': 'sqrt', 'n_estimators': 100} 0.8364263444176673\n",
      "{'max_depth': 30, 'max_features': 'sqrt', 'n_estimators': 150} 0.8351923513986329\n",
      "{'max_depth': 30, 'max_features': 'sqrt', 'n_estimators': 300} 0.8374661661134382\n",
      "{'max_depth': 30, 'max_features': 'log2', 'n_estimators': 10} 0.8269272994194771\n",
      "{'max_depth': 30, 'max_features': 'log2', 'n_estimators': 50} 0.8329382922191854\n",
      "{'max_depth': 30, 'max_features': 'log2', 'n_estimators': 100} 0.8365772147430204\n",
      "{'max_depth': 30, 'max_features': 'log2', 'n_estimators': 150} 0.8380005916951981\n",
      "{'max_depth': 30, 'max_features': 'log2', 'n_estimators': 300} 0.8373342668450074\n",
      "{'max_depth': 45, 'max_features': 'auto', 'n_estimators': 10} 0.8544778871535759\n",
      "{'max_depth': 45, 'max_features': 'auto', 'n_estimators': 50} 0.8647582141967146\n",
      "{'max_depth': 45, 'max_features': 'auto', 'n_estimators': 100} 0.8644383689687158\n",
      "{'max_depth': 45, 'max_features': 'auto', 'n_estimators': 150} 0.8652971546096163\n",
      "{'max_depth': 45, 'max_features': 'auto', 'n_estimators': 300} 0.8654383067311442\n",
      "{'max_depth': 45, 'max_features': 'sqrt', 'n_estimators': 10} 0.8271470967512112\n",
      "{'max_depth': 45, 'max_features': 'sqrt', 'n_estimators': 50} 0.8355081712413153\n",
      "{'max_depth': 45, 'max_features': 'sqrt', 'n_estimators': 100} 0.8343178496683666\n",
      "{'max_depth': 45, 'max_features': 'sqrt', 'n_estimators': 150} 0.836650464310117\n",
      "{'max_depth': 45, 'max_features': 'sqrt', 'n_estimators': 300} 0.8364431731093092\n",
      "{'max_depth': 45, 'max_features': 'log2', 'n_estimators': 10} 0.8093898919069813\n",
      "{'max_depth': 45, 'max_features': 'log2', 'n_estimators': 50} 0.8332031125528486\n",
      "{'max_depth': 45, 'max_features': 'log2', 'n_estimators': 100} 0.8361192976121302\n",
      "{'max_depth': 45, 'max_features': 'log2', 'n_estimators': 150} 0.836382228320223\n",
      "{'max_depth': 45, 'max_features': 'log2', 'n_estimators': 300} 0.8382473878156814\n"
     ]
    }
   ],
   "source": [
    "for param, score in zip(grid.cv_results_['params'], grid.cv_results_['mean_test_score']):\n",
    "    print(param, score)"
   ]
  },
  {
   "cell_type": "code",
   "execution_count": 77,
   "metadata": {
    "colab": {
     "base_uri": "https://localhost:8080/",
     "height": 227
    },
    "colab_type": "code",
    "executionInfo": {
     "elapsed": 764,
     "status": "ok",
     "timestamp": 1555900094988,
     "user": {
      "displayName": "Alan Cha",
      "photoUrl": "",
      "userId": "07616691434471469040"
     },
     "user_tz": 420
    },
    "id": "UDJDm77PWlVn",
    "outputId": "e59e6efa-1ede-489d-e9e2-7de2e7bafd18"
   },
   "outputs": [
    {
     "data": {
      "text/plain": [
       "GridSearchCV(cv=2, error_score='raise-deprecating',\n",
       "             estimator=RandomForestRegressor(bootstrap=True, criterion='mse',\n",
       "                                             max_depth=None,\n",
       "                                             max_features='auto',\n",
       "                                             max_leaf_nodes=None,\n",
       "                                             min_impurity_decrease=0.0,\n",
       "                                             min_impurity_split=None,\n",
       "                                             min_samples_leaf=1,\n",
       "                                             min_samples_split=2,\n",
       "                                             min_weight_fraction_leaf=0.0,\n",
       "                                             n_estimators='warn', n_jobs=None,\n",
       "                                             oob_score=False, random_state=None,\n",
       "                                             verbose=0, warm_start=False),\n",
       "             iid='warn', n_jobs=None,\n",
       "             param_grid={'max_depth': [5, 15, 30, 45],\n",
       "                         'max_features': ['auto', 'sqrt', 'log2'],\n",
       "                         'n_estimators': [10, 50, 100, 150, 300]},\n",
       "             pre_dispatch='2*n_jobs', refit=True, return_train_score=False,\n",
       "             scoring=None, verbose=0)"
      ]
     },
     "execution_count": 77,
     "metadata": {},
     "output_type": "execute_result"
    }
   ],
   "source": [
    "grid"
   ]
  },
  {
   "cell_type": "code",
   "execution_count": 78,
   "metadata": {
    "colab": {
     "base_uri": "https://localhost:8080/",
     "height": 120
    },
    "colab_type": "code",
    "executionInfo": {
     "elapsed": 1983,
     "status": "ok",
     "timestamp": 1555900500581,
     "user": {
      "displayName": "Alan Cha",
      "photoUrl": "",
      "userId": "07616691434471469040"
     },
     "user_tz": 420
    },
    "id": "G-laDW0V4yfv",
    "outputId": "33418e73-07f1-410c-b96a-1159aa9379b4"
   },
   "outputs": [
    {
     "name": "stdout",
     "output_type": "stream",
     "text": [
      "Random Forest Train Error\n",
      "3.2352093035969816\n",
      "\n",
      "Random Forest Validation Error\n",
      "5.987008017803979\n"
     ]
    }
   ],
   "source": [
    "# grid \n",
    "train_error = rmse(grid.predict(X_train), Y_train)\n",
    "\n",
    "val_error = rmse(grid.predict(X_val), Y_val)\n",
    "print('Random Forest Train Error')\n",
    "print(train_error)\n",
    "print()\n",
    "print('Random Forest Validation Error')\n",
    "print(val_error)"
   ]
  },
  {
   "cell_type": "code",
   "execution_count": 79,
   "metadata": {
    "colab": {
     "base_uri": "https://localhost:8080/",
     "height": 421
    },
    "colab_type": "code",
    "executionInfo": {
     "elapsed": 971,
     "status": "ok",
     "timestamp": 1555900673152,
     "user": {
      "displayName": "Alan Cha",
      "photoUrl": "",
      "userId": "07616691434471469040"
     },
     "user_tz": 420
    },
    "id": "4QBnHpx85yZy",
    "outputId": "f54aba92-6810-47aa-be4b-d8aed7bd3771"
   },
   "outputs": [
    {
     "data": {
      "image/png": "[encoded data removed]",
      "text/plain": [
       "<Figure size 576x432 with 1 Axes>"
      ]
     },
     "metadata": {
      "needs_background": "light"
     },
     "output_type": "display_data"
    }
   ],
   "source": [
    "plt.figure(figsize=(8,6))\n",
    "sns.distplot(grid.predict(X_val), hist=False, label='predicted')\n",
    "sns.distplot(Y_val, hist=False, label='val')\n",
    "plt.title('Distribution of test vs predicted')\n",
    "plt.xlabel('Fare Price');"
   ]
  },
  {
   "cell_type": "markdown",
   "metadata": {},
   "source": [
    "**Discussion** \n",
    "\n",
    "What do you observe about this model?"
   ]
  },
  {
   "cell_type": "markdown",
   "metadata": {
    "colab": {},
    "colab_type": "code",
    "id": "lEHGN_9Z5yb8"
   },
   "source": [
    "It looks like our model isn't giving enough weight to most common ones, its also not capturing the trend around 50 dollars\n",
    "\n",
    "**Hypothesis**: The outliers in the model are pulling us away from the centers. Why might that be?"
   ]
  },
  {
   "cell_type": "code",
   "execution_count": 80,
   "metadata": {
    "colab": {
     "base_uri": "https://localhost:8080/",
     "height": 54
    },
    "colab_type": "code",
    "executionInfo": {
     "elapsed": 342,
     "status": "ok",
     "timestamp": 1555901536373,
     "user": {
      "displayName": "Alan Cha",
      "photoUrl": "",
      "userId": "07616691434471469040"
     },
     "user_tz": 420
    },
    "id": "pOo6lo3Q5yeA",
    "outputId": "6f7bc57e-4694-426b-ac6f-04bb6b325515"
   },
   "outputs": [
    {
     "data": {
      "text/plain": [
       "{'max_depth': 15, 'max_features': 'auto', 'n_estimators': 100}"
      ]
     },
     "execution_count": 80,
     "metadata": {},
     "output_type": "execute_result"
    }
   ],
   "source": [
    "grid.best_params_"
   ]
  },
  {
   "cell_type": "code",
   "execution_count": 82,
   "metadata": {
    "colab": {
     "base_uri": "https://localhost:8080/",
     "height": 1520
    },
    "colab_type": "code",
    "executionInfo": {
     "elapsed": 8854,
     "status": "error",
     "timestamp": 1555953772862,
     "user": {
      "displayName": "Alan Cha",
      "photoUrl": "",
      "userId": "07616691434471469040"
     },
     "user_tz": 420
    },
    "id": "nLi_6Hqa5yXG",
    "outputId": "b74cf4d3-4db0-464b-d613-3297f94e0ba7"
   },
   "outputs": [
    {
     "name": "stdout",
     "output_type": "stream",
     "text": [
      "fitting\n",
      "Done fitting\n",
      "Random Forest MAE Train Error\n",
      "4.761994447470884\n",
      "\n",
      "Random Forest MAE Validation Error\n",
      "5.919109619177678\n",
      "1302.06 seconds\n"
     ]
    },
    {
     "data": {
      "text/plain": [
       "'\\nBaseline Train Error\\n3.920464004333598\\n\\nBaseline Validation Error\\n5.768882270003845\\nCell took 11.767005225022634 minutes\\n'"
      ]
     },
     "execution_count": 82,
     "metadata": {},
     "output_type": "execute_result"
    }
   ],
   "source": [
    "# Lets try the new model with mae as the error to weight outliers less\n",
    "start = time.time()\n",
    "mae_forrest = RandomForestRegressor(n_estimators=100, max_depth=10, criterion='mae')\n",
    "print('fitting')\n",
    "mae_forrest.fit(X_train, Y_train)\n",
    "print('Done fitting')\n",
    "train_error = rmse(mae_forrest.predict(X_train), Y_train)\n",
    "\n",
    "val_error = rmse(mae_forrest.predict(X_val), Y_val)\n",
    "print('Random Forest MAE Train Error')\n",
    "print(train_error)\n",
    "print()\n",
    "print('Random Forest MAE Validation Error')\n",
    "print(val_error)\n",
    "print(f\"{round(time.time() - start, 2)} seconds\")\n",
    "\n",
    "'''\n",
    "Baseline Train Error\n",
    "3.920464004333598\n",
    "\n",
    "Baseline Validation Error\n",
    "5.768882270003845\n",
    "'''"
   ]
  },
  {
   "cell_type": "code",
   "execution_count": 83,
   "metadata": {
    "colab": {},
    "colab_type": "code",
    "id": "MPLd6V7r5yJU"
   },
   "outputs": [
    {
     "data": {
      "text/plain": [
       "Text(0.5, 0, 'Fare Price')"
      ]
     },
     "execution_count": 83,
     "metadata": {},
     "output_type": "execute_result"
    },
    {
     "data": {
      "image/png": "[encoded data removed]",
      "text/plain": [
       "<Figure size 576x432 with 1 Axes>"
      ]
     },
     "metadata": {
      "needs_background": "light"
     },
     "output_type": "display_data"
    }
   ],
   "source": [
    "plt.figure(figsize=(8,6))\n",
    "sns.distplot(mae_forrest.predict(X_val), hist=False, label='predicted')\n",
    "sns.distplot(Y_val, hist=False, label='val')\n",
    "plt.title('Distribution of test vs predicted')\n",
    "plt.xlabel('Fare Price')"
   ]
  },
  {
   "cell_type": "markdown",
   "metadata": {
    "colab": {},
    "colab_type": "code",
    "id": "d-hSVbPD5xpC"
   },
   "source": [
    "### Regularization"
   ]
  },
  {
   "cell_type": "code",
   "execution_count": 84,
   "metadata": {
    "colab": {},
    "colab_type": "code",
    "id": "8SEzjM8X5xU-",
    "outputId": "73507f0e-a8d6-46ab-942e-c997157bc74a"
   },
   "outputs": [
    {
     "name": "stdout",
     "output_type": "stream",
     "text": [
      "Random Forest RMSE Train Error\n",
      "6.191759001467333\n",
      "\n",
      "Random Forest RMSE Validation Error\n",
      "6.50612542407612\n",
      "1.49 seconds\n"
     ]
    }
   ],
   "source": [
    "start = time.time()\n",
    "# changing the depth in order to regularize\n",
    "rmse_forest = RandomForestRegressor(n_estimators=100, max_depth=5)\n",
    "\n",
    "rmse_forest.fit(X_train, Y_train)\n",
    "\n",
    "train_error = rmse(rmse_forest.predict(X_train), Y_train)\n",
    "\n",
    "val_error = rmse(rmse_forest.predict(X_val), Y_val)\n",
    "print('Random Forest RMSE Train Error')\n",
    "print(train_error)\n",
    "print()\n",
    "print('Random Forest RMSE Validation Error')\n",
    "print(val_error)\n",
    "print(f\"{round(time.time() - start, 2)} seconds\")"
   ]
  },
  {
   "cell_type": "code",
   "execution_count": 85,
   "metadata": {
    "colab": {},
    "colab_type": "code",
    "id": "4xtu5-JHca0l",
    "outputId": "2a7810d1-5195-4aab-ab0a-03c94e9b10c1"
   },
   "outputs": [
    {
     "data": {
      "text/plain": [
       "Text(0.5, 0, 'Fare Price')"
      ]
     },
     "execution_count": 85,
     "metadata": {},
     "output_type": "execute_result"
    },
    {
     "data": {
      "image/png": "[encoded data removed]",
      "text/plain": [
       "<Figure size 576x432 with 1 Axes>"
      ]
     },
     "metadata": {
      "needs_background": "light"
     },
     "output_type": "display_data"
    }
   ],
   "source": [
    "plt.figure(figsize=(8,6))\n",
    "sns.distplot(mae_forrest.predict(X_val), hist=False, label='predicted')\n",
    "sns.distplot(Y_val, hist=False, label='val')\n",
    "plt.title('Distribution of test vs predicted')\n",
    "plt.xlabel('Fare Price')"
   ]
  },
  {
   "cell_type": "markdown",
   "metadata": {
    "colab_type": "text",
    "id": "I9_y_JCsca0m"
   },
   "source": [
    "**Discussion**\n",
    "\n",
    "What happened here? Why did validation error increase instead of decrease?"
   ]
  },
  {
   "cell_type": "code",
   "execution_count": 86,
   "metadata": {
    "colab": {},
    "colab_type": "code",
    "id": "I63lhwaDWlVp"
   },
   "outputs": [],
   "source": [
    "# example of a function to write once, then to run again when you need it.\n",
    "\n",
    "def run_model(model, train, test, show_plot, show_res):\n",
    "    ''' \n",
    "    Runs the sklearn's linear regression nd returns the rmse on training and test\n",
    "    then plots the residuals. Also does Kfold cross validation \n",
    "    '''\n",
    "    X_train, X_test, Y_train, Y_test = train_test_split(train, test, test_size=.1, random_state=np.random.seed(44))\n",
    "    model.fit(X_train, Y_train)\n",
    "    train_error = rmse(model.predict(X_train), Y_train)\n",
    "    test_error = rmse(model.predict(X_test), Y_test)\n",
    "    CV = compute_CV_error(model, train, test)\n",
    "    print(\"Training RMSE:\", train_error)\n",
    "    print(\"CV RMSE:\", CV)\n",
    "    print(\"Test RMSE:\", test_error)\n",
    "    \n",
    "   \n",
    "    if show_res == True:\n",
    "        y_pred = model.predict(X_train)\n",
    "        plt.figure(figsize=(8,5))\n",
    "        sns.distplot(Y_test, hist=False, label='test')\n",
    "        sns.distplot(y_pred, hist=False, label='predicted')\n",
    "        plt.title('Distribution of test vs predicted')\n",
    "        plt.xlabel('Fare Price')\n",
    "    if show_plot == True:\n",
    "        plt.figure(figsize=(8,6))      \n",
    "        plt.scatter(np.arange(len(X_test)), Y_test - model.predict(X_test), alpha=.5)\n",
    "        plt.xlabel('x')\n",
    "        plt.ylabel('residual (true y - estimated y)')\n",
    "        plt.title('Residual vs x for Linear Model')\n",
    "        plt.axhline(y = 0, color='r')\n",
    "\n",
    "#         sns.kdeplot(np.arange(len(X_test)), Y_test - model.predict(X_test))\n",
    "    return [train_error, CV, test_error]\n",
    "\n",
    "\n",
    "def compute_CV_error(model, X_train, Y_train,k=4):\n",
    "    '''\n",
    "    Split the training data into subsets. Applies Kfold CV\n",
    "    inputs:\n",
    "        model: an sklearn model with fit and predict functions \n",
    "        X_train (data_frame): Training data\n",
    "        Y_train (data_frame): Label \n",
    "    Return:\n",
    "        the average validation MSE for the 4 splits.\n",
    "    \n",
    "    '''\n",
    "    kf = KFold(n_splits=k)\n",
    "    validation_errors = []\n",
    "    \n",
    "    for train_idx, valid_idx in kf.split(X_train):\n",
    "        # split the data\n",
    "        split_X_train, split_X_valid = X_train.iloc[train_idx], X_train.iloc[valid_idx] \n",
    "        split_Y_train, split_Y_valid = Y_train.iloc[train_idx], Y_train.iloc[valid_idx]\n",
    "\n",
    "        # Fit the model on the training split\n",
    "        model.fit(split_X_train, split_Y_train)\n",
    "        fit = model.predict(split_X_valid)\n",
    "        # Compute the RMSE on the validation split\n",
    "        error = rmse(split_Y_valid, fit)\n",
    "\n",
    "        validation_errors.append(error)\n",
    "        \n",
    "    return np.mean(validation_errors)"
   ]
  },
  {
   "cell_type": "markdown",
   "metadata": {},
   "source": [
    "**Discuss**\n",
    "\n",
    "If you were delegating tasks to your team, what would you tell them to try  to improve our model? "
   ]
  },
  {
   "cell_type": "markdown",
   "metadata": {
    "colab": {},
    "colab_type": "code",
    "id": "hTu64yMh5kSu"
   },
   "source": [
    "## Final observations \n",
    "\n",
    "**Now we have many hypotheses of how to improve our model**\n",
    "\n",
    "1. We have a lot of deeper features to find. We now what what we want to do. \n",
    "2. We also know that our model isn't capturing something of importance near the middle. Could either be model tuning or features fed in. \n",
    "3. We know that outliers are doing something odd to our model. \n",
    "\n",
    "Given that this is a buisnesss problem, one model won't fix this. This could be done in colloboration with some heuristics and human intervention. Should we have a whole seperate model to handle the outliers? Or should we let humans handle it. \n",
    "\n",
    "Better to create a model that says, given these parameters and setup, we do quite well. For these other cases, lets tackle it a different way."
   ]
  },
  {
   "cell_type": "markdown",
   "metadata": {
    "colab": {},
    "colab_type": "code",
    "id": "yvgWQgC9WlWE"
   },
   "source": [
    "____\n",
    "<center>\n",
    "    <b>Created by Alan Cha, with modifications by Yuyang Zhong</b><br>\n",
    "This work licensed under Creative Commons BY-NC-SA 4.0\n",
    "</center>\n",
    "<img src=\"https://dss.berkeley.edu/static/img/logo.jpg\" width=\"150\">"
   ]
  }
 ],
 "metadata": {
  "accelerator": "GPU",
  "colab": {
   "collapsed_sections": [],
   "name": "MLlec_Final.ipynb",
   "provenance": [],
   "version": "0.3.2"
  },
  "kernelspec": {
   "display_name": "Python 3",
   "language": "python",
   "name": "python3"
  },
  "language_info": {
   "codemirror_mode": {
    "name": "ipython",
    "version": 3
   },
   "file_extension": ".py",
   "mimetype": "text/x-python",
   "name": "python",
   "nbconvert_exporter": "python",
   "pygments_lexer": "ipython3",
   "version": "3.7.4"
  }
 },
 "nbformat": 4,
 "nbformat_minor": 1
}
