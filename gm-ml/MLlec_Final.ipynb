{
 "cells": [
  {
   "cell_type": "markdown",
   "metadata": {
    "colab_type": "text",
    "id": "GBVmFbxzWlUe"
   },
   "source": [
    "# ML-Demo\n"
   ]
  },
  {
   "cell_type": "code",
   "execution_count": 37,
   "metadata": {
    "colab": {},
    "colab_type": "code",
    "id": "HRpjSoGtWlUg"
   },
   "outputs": [],
   "source": [
    "import datetime\n",
    "import matplotlib.pyplot as plt\n",
    "import numpy as np\n",
    "import pandas as pd\n",
    "import seaborn as sns\n",
    "import folium\n",
    "from geopy.geocoders import Nominatim\n",
    "import time\n",
    "%matplotlib inline"
   ]
  },
  {
   "cell_type": "markdown",
   "metadata": {},
   "source": [
    "**_Context_**\n",
    "Imaging you were heading up a team with a project to solve: Given this data, solve how we can best predict the fares on future rides in the bay area and San Francisco.<br>\n",
    "\n",
    "Suppose you had a large database of information. We can assume that our csv file is a random sample of that data so we can work with it locally.\n",
    "\n",
    "This notebook is a sample of how one might go about creating a baseline solution to inform their project. \n",
    "\n",
    "You might not be an expert in the taxi industry, but with some analysis with machine learning, you have the power to make an impact. \n",
    "\n",
    "This is what I would do in the first two hours of to familiarize myself with the problem and how to move forward with a complicated project.\n",
    "\n",
    "This notebook was made in conjunction with the accompanying slides"
   ]
  },
  {
   "cell_type": "markdown",
   "metadata": {
    "colab_type": "text",
    "id": "98iDA6-pWlUl"
   },
   "source": [
    "---\n",
    "# Part 1: Inital Exploration and Preprocessing \n",
    "\n",
    "The first part of the notebook is to get us familiar with our dataset. Before starting a project, its good to have a high level view of whats going on, so we can better inform our more nuanced decisions.\n",
    "\n",
    "**We will:** \n",
    "1. Read in our data \n",
    "1. Preproccess some columns \n",
    "1. Explore and visualize our data\n",
    "1. Check for outliers\n"
   ]
  },
  {
   "cell_type": "markdown",
   "metadata": {
    "colab_type": "text",
    "id": "UkvM4Pn0WlUq"
   },
   "source": [
    "## Reading in the Data"
   ]
  },
  {
   "cell_type": "code",
   "execution_count": 38,
   "metadata": {
    "colab": {},
    "colab_type": "code",
    "id": "tF-jmwCcWlUq"
   },
   "outputs": [],
   "source": [
    "sf_taxi_trips = pd.read_csv('Taxi_Train.csv').drop(['id'],axis=1) # dropping irrelevant id column thats a repeat of the index"
   ]
  },
  {
   "cell_type": "code",
   "execution_count": 39,
   "metadata": {},
   "outputs": [
    {
     "data": {
      "text/plain": [
       "8.452463"
      ]
     },
     "execution_count": 39,
     "metadata": {},
     "output_type": "execute_result"
    }
   ],
   "source": [
    "sf_taxi_trips.memory_usage(deep=True).sum() * 1e-6"
   ]
  },
  {
   "cell_type": "code",
   "execution_count": 40,
   "metadata": {
    "colab": {
     "base_uri": "https://localhost:8080/",
     "height": 259
    },
    "colab_type": "code",
    "executionInfo": {
     "elapsed": 310,
     "status": "ok",
     "timestamp": 1555982221524,
     "user": {
      "displayName": "Alan Cha",
      "photoUrl": "",
      "userId": "07616691434471469040"
     },
     "user_tz": 420
    },
    "id": "vLY62XRxWlUv",
    "outputId": "ac1fc63a-fd72-455c-e6f9-5ae38e6018b9"
   },
   "outputs": [
    {
     "name": "stdout",
     "output_type": "stream",
     "text": [
      "(41898, 10)\n"
     ]
    },
    {
     "data": {
      "text/html": [
       "<div>\n",
       "<style scoped>\n",
       "    .dataframe tbody tr th:only-of-type {\n",
       "        vertical-align: middle;\n",
       "    }\n",
       "\n",
       "    .dataframe tbody tr th {\n",
       "        vertical-align: top;\n",
       "    }\n",
       "\n",
       "    .dataframe thead th {\n",
       "        text-align: right;\n",
       "    }\n",
       "</style>\n",
       "<table border=\"1\" class=\"dataframe\">\n",
       "  <thead>\n",
       "    <tr style=\"text-align: right;\">\n",
       "      <th></th>\n",
       "      <th>start_time</th>\n",
       "      <th>end_time</th>\n",
       "      <th>fare</th>\n",
       "      <th>number_pax</th>\n",
       "      <th>start_lng</th>\n",
       "      <th>start_lat</th>\n",
       "      <th>end_lng</th>\n",
       "      <th>end_lat</th>\n",
       "      <th>start_taz</th>\n",
       "      <th>end_taz</th>\n",
       "    </tr>\n",
       "  </thead>\n",
       "  <tbody>\n",
       "    <tr>\n",
       "      <th>0</th>\n",
       "      <td>9/1/12 0:11</td>\n",
       "      <td>9/1/12 0:20</td>\n",
       "      <td>13.20</td>\n",
       "      <td>1.0</td>\n",
       "      <td>-122.413540</td>\n",
       "      <td>37.802683</td>\n",
       "      <td>-122.421277</td>\n",
       "      <td>37.785395</td>\n",
       "      <td>38.0</td>\n",
       "      <td>30.0</td>\n",
       "    </tr>\n",
       "    <tr>\n",
       "      <th>1</th>\n",
       "      <td>9/1/12 0:23</td>\n",
       "      <td>9/1/12 0:31</td>\n",
       "      <td>10.65</td>\n",
       "      <td>1.0</td>\n",
       "      <td>-122.419700</td>\n",
       "      <td>37.786090</td>\n",
       "      <td>-122.435217</td>\n",
       "      <td>37.762177</td>\n",
       "      <td>30.0</td>\n",
       "      <td>94.0</td>\n",
       "    </tr>\n",
       "    <tr>\n",
       "      <th>2</th>\n",
       "      <td>9/1/12 0:45</td>\n",
       "      <td>9/1/12 0:49</td>\n",
       "      <td>9.00</td>\n",
       "      <td>1.0</td>\n",
       "      <td>-122.415120</td>\n",
       "      <td>37.774672</td>\n",
       "      <td>-122.407657</td>\n",
       "      <td>37.782615</td>\n",
       "      <td>10.0</td>\n",
       "      <td>11.0</td>\n",
       "    </tr>\n",
       "    <tr>\n",
       "      <th>3</th>\n",
       "      <td>9/1/12 0:41</td>\n",
       "      <td>9/1/12 0:54</td>\n",
       "      <td>13.95</td>\n",
       "      <td>2.0</td>\n",
       "      <td>-122.419392</td>\n",
       "      <td>37.806622</td>\n",
       "      <td>-122.415393</td>\n",
       "      <td>37.778115</td>\n",
       "      <td>40.0</td>\n",
       "      <td>10.0</td>\n",
       "    </tr>\n",
       "    <tr>\n",
       "      <th>4</th>\n",
       "      <td>9/1/12 1:09</td>\n",
       "      <td>9/1/12 1:13</td>\n",
       "      <td>7.35</td>\n",
       "      <td>1.0</td>\n",
       "      <td>-122.429722</td>\n",
       "      <td>37.797790</td>\n",
       "      <td>-122.418060</td>\n",
       "      <td>37.789032</td>\n",
       "      <td>45.0</td>\n",
       "      <td>32.0</td>\n",
       "    </tr>\n",
       "  </tbody>\n",
       "</table>\n",
       "</div>"
      ],
      "text/plain": [
       "    start_time     end_time   fare  number_pax   start_lng  start_lat  \\\n",
       "0  9/1/12 0:11  9/1/12 0:20  13.20         1.0 -122.413540  37.802683   \n",
       "1  9/1/12 0:23  9/1/12 0:31  10.65         1.0 -122.419700  37.786090   \n",
       "2  9/1/12 0:45  9/1/12 0:49   9.00         1.0 -122.415120  37.774672   \n",
       "3  9/1/12 0:41  9/1/12 0:54  13.95         2.0 -122.419392  37.806622   \n",
       "4  9/1/12 1:09  9/1/12 1:13   7.35         1.0 -122.429722  37.797790   \n",
       "\n",
       "      end_lng    end_lat  start_taz  end_taz  \n",
       "0 -122.421277  37.785395       38.0     30.0  \n",
       "1 -122.435217  37.762177       30.0     94.0  \n",
       "2 -122.407657  37.782615       10.0     11.0  \n",
       "3 -122.415393  37.778115       40.0     10.0  \n",
       "4 -122.418060  37.789032       45.0     32.0  "
      ]
     },
     "execution_count": 40,
     "metadata": {},
     "output_type": "execute_result"
    }
   ],
   "source": [
    "print(sf_taxi_trips.shape)\n",
    "sf_taxi_trips.head()"
   ]
  },
  {
   "cell_type": "markdown",
   "metadata": {
    "colab_type": "text",
    "id": "DfnfM3SKWlUz"
   },
   "source": [
    "**Initial Thoughts**\n",
    "\n",
    "1. We can't really work with these times that well \n",
    "1. What the heck is a TAZ\n",
    "1. we have a good sized dataset\n",
    "\n",
    "**but they aren't currently useful as they are, so first we will do some preprocessing to turn our data into a usuable form**\n"
   ]
  },
  {
   "cell_type": "code",
   "execution_count": 41,
   "metadata": {
    "colab": {},
    "colab_type": "code",
    "id": "gKp7O1cVWlU0"
   },
   "outputs": [],
   "source": [
    "# NOTE: we are using datetime modules for the built in \"weekday\" function\n",
    "\n",
    "def get_hour(s):\n",
    "#     if type(s) == float:\n",
    "#         print(s)\n",
    "    return datetime.datetime.strptime(s, \"%m/%d/%y %H:%M\").hour\n",
    "\n",
    "def get_weekday(s): # 0 = Monday - 6= Sunday\n",
    "    return datetime.datetime.strptime(s, \"%m/%d/%y %H:%M\").date().weekday()\n"
   ]
  },
  {
   "cell_type": "code",
   "execution_count": 42,
   "metadata": {
    "colab": {
     "base_uri": "https://localhost:8080/",
     "height": 373
    },
    "colab_type": "code",
    "executionInfo": {
     "elapsed": 1097,
     "status": "error",
     "timestamp": 1555982232105,
     "user": {
      "displayName": "Alan Cha",
      "photoUrl": "",
      "userId": "07616691434471469040"
     },
     "user_tz": 420
    },
    "id": "Qdb0MuQ8WlU2",
    "outputId": "8093870f-7e78-46d5-e123-6d8366d7118f",
    "scrolled": false
   },
   "outputs": [
    {
     "ename": "TypeError",
     "evalue": "strptime() argument 1 must be str, not float",
     "output_type": "error",
     "traceback": [
      "\u001b[0;31m---------------------------------------------------------------------------\u001b[0m",
      "\u001b[0;31mTypeError\u001b[0m                                 Traceback (most recent call last)",
      "\u001b[0;32m<ipython-input-42-f86e37586eb9>\u001b[0m in \u001b[0;36m<module>\u001b[0;34m\u001b[0m\n\u001b[1;32m      1\u001b[0m \u001b[0;31m# testing our function on this series.   Note: .map is applying the function to all elements in this column.\u001b[0m\u001b[0;34m\u001b[0m\u001b[0;34m\u001b[0m\u001b[0;34m\u001b[0m\u001b[0m\n\u001b[0;32m----> 2\u001b[0;31m \u001b[0msf_taxi_trips\u001b[0m\u001b[0;34m[\u001b[0m\u001b[0;34m'start_time'\u001b[0m\u001b[0;34m]\u001b[0m\u001b[0;34m.\u001b[0m\u001b[0mmap\u001b[0m\u001b[0;34m(\u001b[0m\u001b[0mget_hour\u001b[0m\u001b[0;34m)\u001b[0m\u001b[0;34m\u001b[0m\u001b[0;34m\u001b[0m\u001b[0m\n\u001b[0m",
      "\u001b[0;32m~/anaconda3/lib/python3.6/site-packages/pandas/core/series.py\u001b[0m in \u001b[0;36mmap\u001b[0;34m(self, arg, na_action)\u001b[0m\n\u001b[1;32m   3380\u001b[0m         \"\"\"\n\u001b[1;32m   3381\u001b[0m         new_values = super(Series, self)._map_values(\n\u001b[0;32m-> 3382\u001b[0;31m             arg, na_action=na_action)\n\u001b[0m\u001b[1;32m   3383\u001b[0m         return self._constructor(new_values,\n\u001b[1;32m   3384\u001b[0m                                  index=self.index).__finalize__(self)\n",
      "\u001b[0;32m~/anaconda3/lib/python3.6/site-packages/pandas/core/base.py\u001b[0m in \u001b[0;36m_map_values\u001b[0;34m(self, mapper, na_action)\u001b[0m\n\u001b[1;32m   1216\u001b[0m \u001b[0;34m\u001b[0m\u001b[0m\n\u001b[1;32m   1217\u001b[0m         \u001b[0;31m# mapper is a function\u001b[0m\u001b[0;34m\u001b[0m\u001b[0;34m\u001b[0m\u001b[0;34m\u001b[0m\u001b[0m\n\u001b[0;32m-> 1218\u001b[0;31m         \u001b[0mnew_values\u001b[0m \u001b[0;34m=\u001b[0m \u001b[0mmap_f\u001b[0m\u001b[0;34m(\u001b[0m\u001b[0mvalues\u001b[0m\u001b[0;34m,\u001b[0m \u001b[0mmapper\u001b[0m\u001b[0;34m)\u001b[0m\u001b[0;34m\u001b[0m\u001b[0;34m\u001b[0m\u001b[0m\n\u001b[0m\u001b[1;32m   1219\u001b[0m \u001b[0;34m\u001b[0m\u001b[0m\n\u001b[1;32m   1220\u001b[0m         \u001b[0;32mreturn\u001b[0m \u001b[0mnew_values\u001b[0m\u001b[0;34m\u001b[0m\u001b[0;34m\u001b[0m\u001b[0m\n",
      "\u001b[0;32mpandas/_libs/lib.pyx\u001b[0m in \u001b[0;36mpandas._libs.lib.map_infer\u001b[0;34m()\u001b[0m\n",
      "\u001b[0;32m<ipython-input-41-c65c3aa34f63>\u001b[0m in \u001b[0;36mget_hour\u001b[0;34m(s)\u001b[0m\n\u001b[1;32m      4\u001b[0m \u001b[0;31m#     if type(s) == float:\u001b[0m\u001b[0;34m\u001b[0m\u001b[0;34m\u001b[0m\u001b[0;34m\u001b[0m\u001b[0m\n\u001b[1;32m      5\u001b[0m \u001b[0;31m#         print(s)\u001b[0m\u001b[0;34m\u001b[0m\u001b[0;34m\u001b[0m\u001b[0;34m\u001b[0m\u001b[0m\n\u001b[0;32m----> 6\u001b[0;31m     \u001b[0;32mreturn\u001b[0m \u001b[0mdatetime\u001b[0m\u001b[0;34m.\u001b[0m\u001b[0mdatetime\u001b[0m\u001b[0;34m.\u001b[0m\u001b[0mstrptime\u001b[0m\u001b[0;34m(\u001b[0m\u001b[0ms\u001b[0m\u001b[0;34m,\u001b[0m \u001b[0;34m\"%m/%d/%y %H:%M\"\u001b[0m\u001b[0;34m)\u001b[0m\u001b[0;34m.\u001b[0m\u001b[0mhour\u001b[0m\u001b[0;34m\u001b[0m\u001b[0;34m\u001b[0m\u001b[0m\n\u001b[0m\u001b[1;32m      7\u001b[0m \u001b[0;34m\u001b[0m\u001b[0m\n\u001b[1;32m      8\u001b[0m \u001b[0;32mdef\u001b[0m \u001b[0mget_weekday\u001b[0m\u001b[0;34m(\u001b[0m\u001b[0ms\u001b[0m\u001b[0;34m)\u001b[0m\u001b[0;34m:\u001b[0m \u001b[0;31m# 0 = Monday - 6= Sunday\u001b[0m\u001b[0;34m\u001b[0m\u001b[0;34m\u001b[0m\u001b[0m\n",
      "\u001b[0;31mTypeError\u001b[0m: strptime() argument 1 must be str, not float"
     ]
    }
   ],
   "source": [
    "# testing our function on this series.   Note: .map is applying the function to all elements in this column. \n",
    "sf_taxi_trips['start_time'].map(get_hour)"
   ]
  },
  {
   "cell_type": "markdown",
   "metadata": {
    "colab_type": "text",
    "id": "3LeZ3vfGWlU6"
   },
   "source": [
    "**You will run into bugs all the time! Here a quick demonstration of debugging process**"
   ]
  },
  {
   "cell_type": "code",
   "execution_count": 43,
   "metadata": {
    "colab": {
     "base_uri": "https://localhost:8080/",
     "height": 74
    },
    "colab_type": "code",
    "executionInfo": {
     "elapsed": 228,
     "status": "ok",
     "timestamp": 1555982245322,
     "user": {
      "displayName": "Alan Cha",
      "photoUrl": "",
      "userId": "07616691434471469040"
     },
     "user_tz": 420
    },
    "id": "JFL7ZAdoWlU7",
    "outputId": "40d6a925-cee4-4e88-bfb8-d55e2f638ed5"
   },
   "outputs": [
    {
     "data": {
      "text/plain": [
       "'9/1/12 0:11'"
      ]
     },
     "execution_count": 43,
     "metadata": {},
     "output_type": "execute_result"
    }
   ],
   "source": [
    "# check one example\n",
    "sf_taxi_trips['start_time'][0]"
   ]
  },
  {
   "cell_type": "code",
   "execution_count": 44,
   "metadata": {
    "colab": {
     "base_uri": "https://localhost:8080/",
     "height": 74
    },
    "colab_type": "code",
    "executionInfo": {
     "elapsed": 284,
     "status": "ok",
     "timestamp": 1555982245808,
     "user": {
      "displayName": "Alan Cha",
      "photoUrl": "",
      "userId": "07616691434471469040"
     },
     "user_tz": 420
    },
    "id": "SK0q3GBMWlU8",
    "outputId": "65761810-54b6-4f58-a420-9b266246a76f"
   },
   "outputs": [
    {
     "data": {
      "text/plain": [
       "1"
      ]
     },
     "execution_count": 44,
     "metadata": {},
     "output_type": "execute_result"
    }
   ],
   "source": [
    "datetime.datetime.strptime(sf_taxi_trips['start_time'][0], \"%m/%d/%y %H:%M\").day"
   ]
  },
  {
   "cell_type": "code",
   "execution_count": null,
   "metadata": {
    "colab": {},
    "colab_type": "code",
    "id": "6F9fBDd_cazn"
   },
   "outputs": [],
   "source": []
  },
  {
   "cell_type": "code",
   "execution_count": null,
   "metadata": {
    "colab": {},
    "colab_type": "code",
    "id": "TBPHOu9Rcazo"
   },
   "outputs": [],
   "source": []
  },
  {
   "cell_type": "code",
   "execution_count": null,
   "metadata": {
    "colab": {},
    "colab_type": "code",
    "id": "jdNWZoJccazp"
   },
   "outputs": [],
   "source": []
  },
  {
   "cell_type": "code",
   "execution_count": null,
   "metadata": {
    "colab": {},
    "colab_type": "code",
    "id": "RXt2xRFtcazq"
   },
   "outputs": [],
   "source": []
  },
  {
   "cell_type": "code",
   "execution_count": null,
   "metadata": {
    "colab": {},
    "colab_type": "code",
    "id": "8KwEPshxcazr"
   },
   "outputs": [],
   "source": []
  },
  {
   "cell_type": "code",
   "execution_count": null,
   "metadata": {
    "colab": {},
    "colab_type": "code",
    "id": "HG6MscQ8cazs"
   },
   "outputs": [],
   "source": []
  },
  {
   "cell_type": "code",
   "execution_count": null,
   "metadata": {
    "colab": {},
    "colab_type": "code",
    "id": "lW5RbnAbcazt"
   },
   "outputs": [],
   "source": []
  },
  {
   "cell_type": "code",
   "execution_count": null,
   "metadata": {
    "colab": {},
    "colab_type": "code",
    "id": "RfGDJBKccazu"
   },
   "outputs": [],
   "source": []
  },
  {
   "cell_type": "markdown",
   "metadata": {
    "colab_type": "text",
    "id": "BR6JyLBPWlU-"
   },
   "source": [
    "\n",
    "**Now that we found a bug! we have realized an assumption we made about our data with our eagerness to start. The data is not always set up for us**"
   ]
  },
  {
   "cell_type": "code",
   "execution_count": 45,
   "metadata": {
    "colab": {
     "base_uri": "https://localhost:8080/",
     "height": 240
    },
    "colab_type": "code",
    "executionInfo": {
     "elapsed": 257,
     "status": "ok",
     "timestamp": 1555982246927,
     "user": {
      "displayName": "Alan Cha",
      "photoUrl": "",
      "userId": "07616691434471469040"
     },
     "user_tz": 420
    },
    "id": "n1q-3odqWlU-",
    "outputId": "edbcf429-2b05-4690-ba8c-c2a1e91ad55b"
   },
   "outputs": [
    {
     "data": {
      "text/plain": [
       "start_time    1\n",
       "end_time      1\n",
       "fare          1\n",
       "number_pax    1\n",
       "start_lng     1\n",
       "start_lat     1\n",
       "end_lng       1\n",
       "end_lat       1\n",
       "start_taz     1\n",
       "end_taz       1\n",
       "dtype: int64"
      ]
     },
     "execution_count": 45,
     "metadata": {},
     "output_type": "execute_result"
    }
   ],
   "source": [
    "# checking for NaN\n",
    "sf_taxi_trips.isna().sum()"
   ]
  },
  {
   "cell_type": "code",
   "execution_count": 46,
   "metadata": {
    "colab": {
     "base_uri": "https://localhost:8080/",
     "height": 120
    },
    "colab_type": "code",
    "executionInfo": {
     "elapsed": 224,
     "status": "ok",
     "timestamp": 1555982252293,
     "user": {
      "displayName": "Alan Cha",
      "photoUrl": "",
      "userId": "07616691434471469040"
     },
     "user_tz": 420
    },
    "id": "GDg9zczIWlVB",
    "outputId": "7f805400-3bff-46e2-eac2-1862aa747468"
   },
   "outputs": [
    {
     "data": {
      "text/html": [
       "<div>\n",
       "<style scoped>\n",
       "    .dataframe tbody tr th:only-of-type {\n",
       "        vertical-align: middle;\n",
       "    }\n",
       "\n",
       "    .dataframe tbody tr th {\n",
       "        vertical-align: top;\n",
       "    }\n",
       "\n",
       "    .dataframe thead th {\n",
       "        text-align: right;\n",
       "    }\n",
       "</style>\n",
       "<table border=\"1\" class=\"dataframe\">\n",
       "  <thead>\n",
       "    <tr style=\"text-align: right;\">\n",
       "      <th></th>\n",
       "      <th>start_time</th>\n",
       "      <th>end_time</th>\n",
       "      <th>fare</th>\n",
       "      <th>number_pax</th>\n",
       "      <th>start_lng</th>\n",
       "      <th>start_lat</th>\n",
       "      <th>end_lng</th>\n",
       "      <th>end_lat</th>\n",
       "      <th>start_taz</th>\n",
       "      <th>end_taz</th>\n",
       "    </tr>\n",
       "  </thead>\n",
       "  <tbody>\n",
       "    <tr>\n",
       "      <th>41897</th>\n",
       "      <td>NaN</td>\n",
       "      <td>NaN</td>\n",
       "      <td>NaN</td>\n",
       "      <td>NaN</td>\n",
       "      <td>NaN</td>\n",
       "      <td>NaN</td>\n",
       "      <td>NaN</td>\n",
       "      <td>NaN</td>\n",
       "      <td>NaN</td>\n",
       "      <td>NaN</td>\n",
       "    </tr>\n",
       "  </tbody>\n",
       "</table>\n",
       "</div>"
      ],
      "text/plain": [
       "      start_time end_time  fare  number_pax  start_lng  start_lat  end_lng  \\\n",
       "41897        NaN      NaN   NaN         NaN        NaN        NaN      NaN   \n",
       "\n",
       "       end_lat  start_taz  end_taz  \n",
       "41897      NaN        NaN      NaN  "
      ]
     },
     "execution_count": 46,
     "metadata": {},
     "output_type": "execute_result"
    }
   ],
   "source": [
    "sf_taxi_trips[sf_taxi_trips.isna().any(axis=1)]"
   ]
  },
  {
   "cell_type": "code",
   "execution_count": 47,
   "metadata": {
    "colab": {},
    "colab_type": "code",
    "id": "fJ8Q5bdtWlVD"
   },
   "outputs": [],
   "source": [
    "sf_taxi_trips = sf_taxi_trips.drop(41897,axis=0)"
   ]
  },
  {
   "cell_type": "code",
   "execution_count": 48,
   "metadata": {
    "colab": {
     "base_uri": "https://localhost:8080/",
     "height": 240
    },
    "colab_type": "code",
    "executionInfo": {
     "elapsed": 227,
     "status": "ok",
     "timestamp": 1555982256130,
     "user": {
      "displayName": "Alan Cha",
      "photoUrl": "",
      "userId": "07616691434471469040"
     },
     "user_tz": 420
    },
    "id": "MYC1fRctWlVE",
    "outputId": "e59c63b8-6dc8-4d6f-89a0-e9c50689158f"
   },
   "outputs": [
    {
     "data": {
      "text/plain": [
       "start_time    0\n",
       "end_time      0\n",
       "fare          0\n",
       "number_pax    0\n",
       "start_lng     0\n",
       "start_lat     0\n",
       "end_lng       0\n",
       "end_lat       0\n",
       "start_taz     0\n",
       "end_taz       0\n",
       "dtype: int64"
      ]
     },
     "execution_count": 48,
     "metadata": {},
     "output_type": "execute_result"
    }
   ],
   "source": [
    "sf_taxi_trips.isna().sum()"
   ]
  },
  {
   "cell_type": "code",
   "execution_count": 49,
   "metadata": {
    "colab": {
     "base_uri": "https://localhost:8080/",
     "height": 1062
    },
    "colab_type": "code",
    "executionInfo": {
     "elapsed": 798,
     "status": "ok",
     "timestamp": 1555982257934,
     "user": {
      "displayName": "Alan Cha",
      "photoUrl": "",
      "userId": "07616691434471469040"
     },
     "user_tz": 420
    },
    "id": "h0k7IaUJWlVG",
    "outputId": "6b5a8c4f-d239-4932-9b0b-c83970fe437c"
   },
   "outputs": [
    {
     "data": {
      "text/plain": [
       "0         0\n",
       "1         0\n",
       "2         0\n",
       "3         0\n",
       "4         1\n",
       "5         1\n",
       "6         2\n",
       "7         3\n",
       "8         0\n",
       "9         4\n",
       "10        1\n",
       "11        1\n",
       "12        0\n",
       "13        5\n",
       "14        0\n",
       "15        0\n",
       "16        0\n",
       "17        1\n",
       "18        2\n",
       "19        1\n",
       "20        3\n",
       "21        1\n",
       "22        1\n",
       "23        0\n",
       "24        4\n",
       "25        2\n",
       "26        2\n",
       "27        0\n",
       "28        0\n",
       "29        0\n",
       "         ..\n",
       "41867    21\n",
       "41868    22\n",
       "41869    20\n",
       "41870    20\n",
       "41871    18\n",
       "41872    18\n",
       "41873     2\n",
       "41874    22\n",
       "41875    22\n",
       "41876    15\n",
       "41877     1\n",
       "41878    15\n",
       "41879    15\n",
       "41880    15\n",
       "41881    16\n",
       "41882    16\n",
       "41883    16\n",
       "41884    14\n",
       "41885    12\n",
       "41886     5\n",
       "41887     0\n",
       "41888    23\n",
       "41889    20\n",
       "41890    23\n",
       "41891    20\n",
       "41892    19\n",
       "41893     8\n",
       "41894     9\n",
       "41895    10\n",
       "41896    11\n",
       "Name: start_time, Length: 41897, dtype: int64"
      ]
     },
     "execution_count": 49,
     "metadata": {},
     "output_type": "execute_result"
    }
   ],
   "source": [
    "sf_taxi_trips['start_time'].map(get_hour)"
   ]
  },
  {
   "cell_type": "code",
   "execution_count": 50,
   "metadata": {
    "colab": {
     "base_uri": "https://localhost:8080/",
     "height": 261
    },
    "colab_type": "code",
    "executionInfo": {
     "elapsed": 1300,
     "status": "ok",
     "timestamp": 1555982259404,
     "user": {
      "displayName": "Alan Cha",
      "photoUrl": "",
      "userId": "07616691434471469040"
     },
     "user_tz": 420
    },
    "id": "y5w-NJ_uWlVH",
    "outputId": "708395db-b13a-4327-b5c3-c2b05845a470"
   },
   "outputs": [
    {
     "data": {
      "text/html": [
       "<div>\n",
       "<style scoped>\n",
       "    .dataframe tbody tr th:only-of-type {\n",
       "        vertical-align: middle;\n",
       "    }\n",
       "\n",
       "    .dataframe tbody tr th {\n",
       "        vertical-align: top;\n",
       "    }\n",
       "\n",
       "    .dataframe thead th {\n",
       "        text-align: right;\n",
       "    }\n",
       "</style>\n",
       "<table border=\"1\" class=\"dataframe\">\n",
       "  <thead>\n",
       "    <tr style=\"text-align: right;\">\n",
       "      <th></th>\n",
       "      <th>start_time</th>\n",
       "      <th>end_time</th>\n",
       "      <th>fare</th>\n",
       "      <th>number_pax</th>\n",
       "      <th>start_lng</th>\n",
       "      <th>start_lat</th>\n",
       "      <th>end_lng</th>\n",
       "      <th>end_lat</th>\n",
       "      <th>start_taz</th>\n",
       "      <th>end_taz</th>\n",
       "      <th>hour_start</th>\n",
       "      <th>weekday</th>\n",
       "    </tr>\n",
       "  </thead>\n",
       "  <tbody>\n",
       "    <tr>\n",
       "      <th>0</th>\n",
       "      <td>9/1/12 0:11</td>\n",
       "      <td>9/1/12 0:20</td>\n",
       "      <td>13.20</td>\n",
       "      <td>1.0</td>\n",
       "      <td>-122.413540</td>\n",
       "      <td>37.802683</td>\n",
       "      <td>-122.421277</td>\n",
       "      <td>37.785395</td>\n",
       "      <td>38.0</td>\n",
       "      <td>30.0</td>\n",
       "      <td>0</td>\n",
       "      <td>5</td>\n",
       "    </tr>\n",
       "    <tr>\n",
       "      <th>1</th>\n",
       "      <td>9/1/12 0:23</td>\n",
       "      <td>9/1/12 0:31</td>\n",
       "      <td>10.65</td>\n",
       "      <td>1.0</td>\n",
       "      <td>-122.419700</td>\n",
       "      <td>37.786090</td>\n",
       "      <td>-122.435217</td>\n",
       "      <td>37.762177</td>\n",
       "      <td>30.0</td>\n",
       "      <td>94.0</td>\n",
       "      <td>0</td>\n",
       "      <td>5</td>\n",
       "    </tr>\n",
       "    <tr>\n",
       "      <th>2</th>\n",
       "      <td>9/1/12 0:45</td>\n",
       "      <td>9/1/12 0:49</td>\n",
       "      <td>9.00</td>\n",
       "      <td>1.0</td>\n",
       "      <td>-122.415120</td>\n",
       "      <td>37.774672</td>\n",
       "      <td>-122.407657</td>\n",
       "      <td>37.782615</td>\n",
       "      <td>10.0</td>\n",
       "      <td>11.0</td>\n",
       "      <td>0</td>\n",
       "      <td>5</td>\n",
       "    </tr>\n",
       "    <tr>\n",
       "      <th>3</th>\n",
       "      <td>9/1/12 0:41</td>\n",
       "      <td>9/1/12 0:54</td>\n",
       "      <td>13.95</td>\n",
       "      <td>2.0</td>\n",
       "      <td>-122.419392</td>\n",
       "      <td>37.806622</td>\n",
       "      <td>-122.415393</td>\n",
       "      <td>37.778115</td>\n",
       "      <td>40.0</td>\n",
       "      <td>10.0</td>\n",
       "      <td>0</td>\n",
       "      <td>5</td>\n",
       "    </tr>\n",
       "    <tr>\n",
       "      <th>4</th>\n",
       "      <td>9/1/12 1:09</td>\n",
       "      <td>9/1/12 1:13</td>\n",
       "      <td>7.35</td>\n",
       "      <td>1.0</td>\n",
       "      <td>-122.429722</td>\n",
       "      <td>37.797790</td>\n",
       "      <td>-122.418060</td>\n",
       "      <td>37.789032</td>\n",
       "      <td>45.0</td>\n",
       "      <td>32.0</td>\n",
       "      <td>1</td>\n",
       "      <td>5</td>\n",
       "    </tr>\n",
       "  </tbody>\n",
       "</table>\n",
       "</div>"
      ],
      "text/plain": [
       "    start_time     end_time   fare  number_pax   start_lng  start_lat  \\\n",
       "0  9/1/12 0:11  9/1/12 0:20  13.20         1.0 -122.413540  37.802683   \n",
       "1  9/1/12 0:23  9/1/12 0:31  10.65         1.0 -122.419700  37.786090   \n",
       "2  9/1/12 0:45  9/1/12 0:49   9.00         1.0 -122.415120  37.774672   \n",
       "3  9/1/12 0:41  9/1/12 0:54  13.95         2.0 -122.419392  37.806622   \n",
       "4  9/1/12 1:09  9/1/12 1:13   7.35         1.0 -122.429722  37.797790   \n",
       "\n",
       "      end_lng    end_lat  start_taz  end_taz  hour_start  weekday  \n",
       "0 -122.421277  37.785395       38.0     30.0           0        5  \n",
       "1 -122.435217  37.762177       30.0     94.0           0        5  \n",
       "2 -122.407657  37.782615       10.0     11.0           0        5  \n",
       "3 -122.415393  37.778115       40.0     10.0           0        5  \n",
       "4 -122.418060  37.789032       45.0     32.0           1        5  "
      ]
     },
     "execution_count": 50,
     "metadata": {},
     "output_type": "execute_result"
    }
   ],
   "source": [
    "sf_taxi_trips['hour_start'] = sf_taxi_trips['start_time'].map(get_hour)\n",
    "\n",
    "sf_taxi_trips['weekday'] = sf_taxi_trips['start_time'].map(get_weekday)\n",
    "sf_taxi_trips.head()\n"
   ]
  },
  {
   "cell_type": "code",
   "execution_count": 51,
   "metadata": {
    "colab": {},
    "colab_type": "code",
    "id": "VL3HlIHmWlVJ"
   },
   "outputs": [],
   "source": [
    "# sick of typing out sf_taxi_trips \n",
    "trips = sf_taxi_trips"
   ]
  },
  {
   "cell_type": "code",
   "execution_count": 52,
   "metadata": {
    "colab": {
     "base_uri": "https://localhost:8080/",
     "height": 241
    },
    "colab_type": "code",
    "executionInfo": {
     "elapsed": 365,
     "status": "ok",
     "timestamp": 1555982265414,
     "user": {
      "displayName": "Alan Cha",
      "photoUrl": "",
      "userId": "07616691434471469040"
     },
     "user_tz": 420
    },
    "id": "-zBfrFpqWlVK",
    "outputId": "d5ace3e0-ce47-40b3-8e7e-4e1be81277f7"
   },
   "outputs": [
    {
     "data": {
      "text/html": [
       "<div>\n",
       "<style scoped>\n",
       "    .dataframe tbody tr th:only-of-type {\n",
       "        vertical-align: middle;\n",
       "    }\n",
       "\n",
       "    .dataframe tbody tr th {\n",
       "        vertical-align: top;\n",
       "    }\n",
       "\n",
       "    .dataframe thead th {\n",
       "        text-align: right;\n",
       "    }\n",
       "</style>\n",
       "<table border=\"1\" class=\"dataframe\">\n",
       "  <thead>\n",
       "    <tr style=\"text-align: right;\">\n",
       "      <th></th>\n",
       "      <th>start_time</th>\n",
       "      <th>end_time</th>\n",
       "      <th>fare</th>\n",
       "      <th>number_pax</th>\n",
       "      <th>start_lng</th>\n",
       "      <th>start_lat</th>\n",
       "      <th>end_lng</th>\n",
       "      <th>end_lat</th>\n",
       "      <th>start_taz</th>\n",
       "      <th>end_taz</th>\n",
       "      <th>hour_start</th>\n",
       "      <th>weekday</th>\n",
       "    </tr>\n",
       "  </thead>\n",
       "  <tbody>\n",
       "    <tr>\n",
       "      <th>0</th>\n",
       "      <td>9/1/12 0:11</td>\n",
       "      <td>9/1/12 0:20</td>\n",
       "      <td>13.20</td>\n",
       "      <td>1.0</td>\n",
       "      <td>-122.413540</td>\n",
       "      <td>37.802683</td>\n",
       "      <td>-122.421277</td>\n",
       "      <td>37.785395</td>\n",
       "      <td>38.0</td>\n",
       "      <td>30.0</td>\n",
       "      <td>0</td>\n",
       "      <td>5</td>\n",
       "    </tr>\n",
       "    <tr>\n",
       "      <th>1</th>\n",
       "      <td>9/1/12 0:23</td>\n",
       "      <td>9/1/12 0:31</td>\n",
       "      <td>10.65</td>\n",
       "      <td>1.0</td>\n",
       "      <td>-122.419700</td>\n",
       "      <td>37.786090</td>\n",
       "      <td>-122.435217</td>\n",
       "      <td>37.762177</td>\n",
       "      <td>30.0</td>\n",
       "      <td>94.0</td>\n",
       "      <td>0</td>\n",
       "      <td>5</td>\n",
       "    </tr>\n",
       "    <tr>\n",
       "      <th>2</th>\n",
       "      <td>9/1/12 0:45</td>\n",
       "      <td>9/1/12 0:49</td>\n",
       "      <td>9.00</td>\n",
       "      <td>1.0</td>\n",
       "      <td>-122.415120</td>\n",
       "      <td>37.774672</td>\n",
       "      <td>-122.407657</td>\n",
       "      <td>37.782615</td>\n",
       "      <td>10.0</td>\n",
       "      <td>11.0</td>\n",
       "      <td>0</td>\n",
       "      <td>5</td>\n",
       "    </tr>\n",
       "    <tr>\n",
       "      <th>3</th>\n",
       "      <td>9/1/12 0:41</td>\n",
       "      <td>9/1/12 0:54</td>\n",
       "      <td>13.95</td>\n",
       "      <td>2.0</td>\n",
       "      <td>-122.419392</td>\n",
       "      <td>37.806622</td>\n",
       "      <td>-122.415393</td>\n",
       "      <td>37.778115</td>\n",
       "      <td>40.0</td>\n",
       "      <td>10.0</td>\n",
       "      <td>0</td>\n",
       "      <td>5</td>\n",
       "    </tr>\n",
       "    <tr>\n",
       "      <th>4</th>\n",
       "      <td>9/1/12 1:09</td>\n",
       "      <td>9/1/12 1:13</td>\n",
       "      <td>7.35</td>\n",
       "      <td>1.0</td>\n",
       "      <td>-122.429722</td>\n",
       "      <td>37.797790</td>\n",
       "      <td>-122.418060</td>\n",
       "      <td>37.789032</td>\n",
       "      <td>45.0</td>\n",
       "      <td>32.0</td>\n",
       "      <td>1</td>\n",
       "      <td>5</td>\n",
       "    </tr>\n",
       "  </tbody>\n",
       "</table>\n",
       "</div>"
      ],
      "text/plain": [
       "    start_time     end_time   fare  number_pax   start_lng  start_lat  \\\n",
       "0  9/1/12 0:11  9/1/12 0:20  13.20         1.0 -122.413540  37.802683   \n",
       "1  9/1/12 0:23  9/1/12 0:31  10.65         1.0 -122.419700  37.786090   \n",
       "2  9/1/12 0:45  9/1/12 0:49   9.00         1.0 -122.415120  37.774672   \n",
       "3  9/1/12 0:41  9/1/12 0:54  13.95         2.0 -122.419392  37.806622   \n",
       "4  9/1/12 1:09  9/1/12 1:13   7.35         1.0 -122.429722  37.797790   \n",
       "\n",
       "      end_lng    end_lat  start_taz  end_taz  hour_start  weekday  \n",
       "0 -122.421277  37.785395       38.0     30.0           0        5  \n",
       "1 -122.435217  37.762177       30.0     94.0           0        5  \n",
       "2 -122.407657  37.782615       10.0     11.0           0        5  \n",
       "3 -122.415393  37.778115       40.0     10.0           0        5  \n",
       "4 -122.418060  37.789032       45.0     32.0           1        5  "
      ]
     },
     "execution_count": 52,
     "metadata": {},
     "output_type": "execute_result"
    }
   ],
   "source": [
    "trips.head()"
   ]
  },
  {
   "cell_type": "markdown",
   "metadata": {
    "colab_type": "text",
    "id": "STYIJCULWlVM"
   },
   "source": [
    "## EDA"
   ]
  },
  {
   "cell_type": "markdown",
   "metadata": {
    "colab_type": "text",
    "id": "GgekEdCnWlVN"
   },
   "source": [
    "**Lets just do some quick exploration and visualizations**"
   ]
  },
  {
   "cell_type": "code",
   "execution_count": 53,
   "metadata": {
    "colab": {
     "base_uri": "https://localhost:8080/",
     "height": 326
    },
    "colab_type": "code",
    "executionInfo": {
     "elapsed": 994,
     "status": "ok",
     "timestamp": 1555982278120,
     "user": {
      "displayName": "Alan Cha",
      "photoUrl": "",
      "userId": "07616691434471469040"
     },
     "user_tz": 420
    },
    "id": "tkh3GF4GWlVN",
    "outputId": "332fa223-ea43-4ae8-bba2-7ce78e2057d3"
   },
   "outputs": [
    {
     "data": {
      "text/plain": [
       "<matplotlib.collections.PathCollection at 0x1a299d6438>"
      ]
     },
     "execution_count": 53,
     "metadata": {},
     "output_type": "execute_result"
    },
    {
     "data": {
      "image/png": "[encoded data removed]",
      "text/plain": [
       "<Figure size 432x288 with 1 Axes>"
      ]
     },
     "metadata": {
      "needs_background": "light"
     },
     "output_type": "display_data"
    }
   ],
   "source": [
    "plt.scatter(trips['start_lng'], trips['start_lat'],s=20,alpha=.05)"
   ]
  },
  {
   "cell_type": "markdown",
   "metadata": {
    "colab_type": "text",
    "id": "tPUJOZ2rWlVO"
   },
   "source": [
    "**What do you think the little dot cluster is below?**"
   ]
  },
  {
   "cell_type": "code",
   "execution_count": 54,
   "metadata": {
    "colab": {
     "base_uri": "https://localhost:8080/",
     "height": 848
    },
    "colab_type": "code",
    "executionInfo": {
     "elapsed": 680,
     "status": "ok",
     "timestamp": 1555982279016,
     "user": {
      "displayName": "Alan Cha",
      "photoUrl": "",
      "userId": "07616691434471469040"
     },
     "user_tz": 420
    },
    "id": "oQiZjgUYWlVO",
    "outputId": "51b9fd70-f4cc-404d-ed38-301cd78d53e9"
   },
   "outputs": [
    {
     "data": {
      "text/html": [
       "<div style=\"width:100%;\"><div style=\"position:relative;width:100%;height:0;padding-bottom:60%;\"><iframe src=\"data:text/html;base64,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\" style=\"position:absolute;width:100%;height:100%;left:0;top:0;\"></iframe></div></div>"
      ],
      "text/plain": [
       "<folium.folium.Map at 0x1a299f94a8>"
      ]
     },
     "execution_count": 54,
     "metadata": {},
     "output_type": "execute_result"
    }
   ],
   "source": [
    "\n",
    "start_lat = trips['start_lat'][0]\n",
    "start_lon = trips['start_lng'][0]\n",
    "map = folium.Map(location=[start_lat, start_lon], zoom_start=11)\n",
    "\n",
    "\n",
    "end_lat = trips['end_lat'][0]\n",
    "end_long = trips['end_lng'][0]\n",
    "\n",
    "circular_marker = folium.CircleMarker(location=[start_lat, start_lon],\n",
    "                            radius = 1,\n",
    "                            popup=\"My marker\",\n",
    "                            fill_color='blue',\n",
    "                            color='grey',\n",
    "                            fill_opacity=0.7)\n",
    "marker_end = folium.CircleMarker(location=[end_lat, end_long],\n",
    "                            radius = 1,\n",
    "                            popup=\"My marker\",\n",
    "                            fill_color='dblue',\n",
    "                            color='grey',\n",
    "                            fill_opacity=0.7)\n",
    "\n",
    "map.add_child(circular_marker)\n",
    "map.add_child(marker_end)"
   ]
  },
  {
   "cell_type": "markdown",
   "metadata": {
    "colab_type": "text",
    "id": "4HlDEQ10WlVQ"
   },
   "source": [
    "**Hypothesis, maybe those are going to something of interest. what about SFO**"
   ]
  },
  {
   "cell_type": "code",
   "execution_count": 55,
   "metadata": {
    "colab": {
     "base_uri": "https://localhost:8080/",
     "height": 286
    },
    "colab_type": "code",
    "executionInfo": {
     "elapsed": 2130,
     "status": "ok",
     "timestamp": 1555956495457,
     "user": {
      "displayName": "Alan Cha",
      "photoUrl": "",
      "userId": "07616691434471469040"
     },
     "user_tz": 420
    },
    "id": "R316abniWlVQ",
    "outputId": "b23f69e8-8d12-4d17-89d8-eb2cb50f5fcf"
   },
   "outputs": [
    {
     "data": {
      "text/plain": [
       "<matplotlib.collections.PathCollection at 0x1a2b8cbf98>"
      ]
     },
     "execution_count": 55,
     "metadata": {},
     "output_type": "execute_result"
    },
    {
     "data": {
      "image/png": "[encoded data removed]",
      "text/plain": [
       "<Figure size 432x288 with 1 Axes>"
      ]
     },
     "metadata": {
      "needs_background": "light"
     },
     "output_type": "display_data"
    }
   ],
   "source": [
    "# plotting where the start \n",
    "plt.scatter(trips[trips['start_taz'] == 239]['start_lng'],trips[trips['start_taz'] == 239]['start_lat'], s=20, alpha=.05)"
   ]
  },
  {
   "cell_type": "code",
   "execution_count": 56,
   "metadata": {
    "colab": {
     "base_uri": "https://localhost:8080/",
     "height": 286
    },
    "colab_type": "code",
    "executionInfo": {
     "elapsed": 1970,
     "status": "ok",
     "timestamp": 1555956495457,
     "user": {
      "displayName": "Alan Cha",
      "photoUrl": "",
      "userId": "07616691434471469040"
     },
     "user_tz": 420
    },
    "id": "Avlbq2RKWlVS",
    "outputId": "b8a03507-f3b0-4088-a82b-7f1ec942cd35"
   },
   "outputs": [
    {
     "data": {
      "text/plain": [
       "<matplotlib.collections.PathCollection at 0x1a2b8efd30>"
      ]
     },
     "execution_count": 56,
     "metadata": {},
     "output_type": "execute_result"
    },
    {
     "data": {
      "image/png": "[encoded data removed]",
      "text/plain": [
       "<Figure size 432x288 with 1 Axes>"
      ]
     },
     "metadata": {
      "needs_background": "light"
     },
     "output_type": "display_data"
    }
   ],
   "source": [
    "# plotting where they end\n",
    "plt.scatter(trips[trips['end_taz'] == 239]['start_lng'],trips[trips['end_taz'] == 239]['start_lat'], s=20, alpha=.05)"
   ]
  },
  {
   "cell_type": "markdown",
   "metadata": {
    "colab_type": "text",
    "id": "t8s2yDIIWlVT"
   },
   "source": [
    "**Looks like we have a cluster of trips that go to SFO, the distance is greater and it is plausibly they get taxed or it cost more to go there**\n",
    "\n",
    "**Discuss**\n",
    "how should we encode the importance of our SFO observation into our data?"
   ]
  },
  {
   "cell_type": "code",
   "execution_count": 57,
   "metadata": {
    "colab": {
     "base_uri": "https://localhost:8080/",
     "height": 312
    },
    "colab_type": "code",
    "executionInfo": {
     "elapsed": 1316,
     "status": "ok",
     "timestamp": 1555956495458,
     "user": {
      "displayName": "Alan Cha",
      "photoUrl": "",
      "userId": "07616691434471469040"
     },
     "user_tz": 420
    },
    "id": "_WKEOK-9WlVU",
    "outputId": "392fd476-1410-4dbc-865c-c93566ac978f"
   },
   "outputs": [
    {
     "data": {
      "text/html": [
       "<div>\n",
       "<style scoped>\n",
       "    .dataframe tbody tr th:only-of-type {\n",
       "        vertical-align: middle;\n",
       "    }\n",
       "\n",
       "    .dataframe tbody tr th {\n",
       "        vertical-align: top;\n",
       "    }\n",
       "\n",
       "    .dataframe thead th {\n",
       "        text-align: right;\n",
       "    }\n",
       "</style>\n",
       "<table border=\"1\" class=\"dataframe\">\n",
       "  <thead>\n",
       "    <tr style=\"text-align: right;\">\n",
       "      <th></th>\n",
       "      <th>start_time</th>\n",
       "      <th>end_time</th>\n",
       "      <th>fare</th>\n",
       "      <th>number_pax</th>\n",
       "      <th>start_lng</th>\n",
       "      <th>start_lat</th>\n",
       "      <th>end_lng</th>\n",
       "      <th>end_lat</th>\n",
       "      <th>start_taz</th>\n",
       "      <th>end_taz</th>\n",
       "      <th>hour_start</th>\n",
       "      <th>weekday</th>\n",
       "      <th>SFO</th>\n",
       "    </tr>\n",
       "  </thead>\n",
       "  <tbody>\n",
       "    <tr>\n",
       "      <th>0</th>\n",
       "      <td>9/1/12 0:11</td>\n",
       "      <td>9/1/12 0:20</td>\n",
       "      <td>13.20</td>\n",
       "      <td>1.0</td>\n",
       "      <td>-122.413540</td>\n",
       "      <td>37.802683</td>\n",
       "      <td>-122.421277</td>\n",
       "      <td>37.785395</td>\n",
       "      <td>38.0</td>\n",
       "      <td>30.0</td>\n",
       "      <td>0</td>\n",
       "      <td>5</td>\n",
       "      <td>0</td>\n",
       "    </tr>\n",
       "    <tr>\n",
       "      <th>1</th>\n",
       "      <td>9/1/12 0:23</td>\n",
       "      <td>9/1/12 0:31</td>\n",
       "      <td>10.65</td>\n",
       "      <td>1.0</td>\n",
       "      <td>-122.419700</td>\n",
       "      <td>37.786090</td>\n",
       "      <td>-122.435217</td>\n",
       "      <td>37.762177</td>\n",
       "      <td>30.0</td>\n",
       "      <td>94.0</td>\n",
       "      <td>0</td>\n",
       "      <td>5</td>\n",
       "      <td>0</td>\n",
       "    </tr>\n",
       "    <tr>\n",
       "      <th>2</th>\n",
       "      <td>9/1/12 0:45</td>\n",
       "      <td>9/1/12 0:49</td>\n",
       "      <td>9.00</td>\n",
       "      <td>1.0</td>\n",
       "      <td>-122.415120</td>\n",
       "      <td>37.774672</td>\n",
       "      <td>-122.407657</td>\n",
       "      <td>37.782615</td>\n",
       "      <td>10.0</td>\n",
       "      <td>11.0</td>\n",
       "      <td>0</td>\n",
       "      <td>5</td>\n",
       "      <td>0</td>\n",
       "    </tr>\n",
       "    <tr>\n",
       "      <th>3</th>\n",
       "      <td>9/1/12 0:41</td>\n",
       "      <td>9/1/12 0:54</td>\n",
       "      <td>13.95</td>\n",
       "      <td>2.0</td>\n",
       "      <td>-122.419392</td>\n",
       "      <td>37.806622</td>\n",
       "      <td>-122.415393</td>\n",
       "      <td>37.778115</td>\n",
       "      <td>40.0</td>\n",
       "      <td>10.0</td>\n",
       "      <td>0</td>\n",
       "      <td>5</td>\n",
       "      <td>0</td>\n",
       "    </tr>\n",
       "    <tr>\n",
       "      <th>4</th>\n",
       "      <td>9/1/12 1:09</td>\n",
       "      <td>9/1/12 1:13</td>\n",
       "      <td>7.35</td>\n",
       "      <td>1.0</td>\n",
       "      <td>-122.429722</td>\n",
       "      <td>37.797790</td>\n",
       "      <td>-122.418060</td>\n",
       "      <td>37.789032</td>\n",
       "      <td>45.0</td>\n",
       "      <td>32.0</td>\n",
       "      <td>1</td>\n",
       "      <td>5</td>\n",
       "      <td>0</td>\n",
       "    </tr>\n",
       "  </tbody>\n",
       "</table>\n",
       "</div>"
      ],
      "text/plain": [
       "    start_time     end_time   fare  number_pax   start_lng  start_lat  \\\n",
       "0  9/1/12 0:11  9/1/12 0:20  13.20         1.0 -122.413540  37.802683   \n",
       "1  9/1/12 0:23  9/1/12 0:31  10.65         1.0 -122.419700  37.786090   \n",
       "2  9/1/12 0:45  9/1/12 0:49   9.00         1.0 -122.415120  37.774672   \n",
       "3  9/1/12 0:41  9/1/12 0:54  13.95         2.0 -122.419392  37.806622   \n",
       "4  9/1/12 1:09  9/1/12 1:13   7.35         1.0 -122.429722  37.797790   \n",
       "\n",
       "      end_lng    end_lat  start_taz  end_taz  hour_start  weekday  SFO  \n",
       "0 -122.421277  37.785395       38.0     30.0           0        5    0  \n",
       "1 -122.435217  37.762177       30.0     94.0           0        5    0  \n",
       "2 -122.407657  37.782615       10.0     11.0           0        5    0  \n",
       "3 -122.415393  37.778115       40.0     10.0           0        5    0  \n",
       "4 -122.418060  37.789032       45.0     32.0           1        5    0  "
      ]
     },
     "execution_count": 57,
     "metadata": {},
     "output_type": "execute_result"
    }
   ],
   "source": [
    "trips['SFO'] = ((trips['start_taz'] == 239) | (trips['end_taz'] == 239)).astype(int)\n",
    "trips.head()"
   ]
  },
  {
   "cell_type": "markdown",
   "metadata": {
    "colab_type": "text",
    "id": "aBVU6sPcWlVV"
   },
   "source": [
    "## Outliers\n"
   ]
  },
  {
   "cell_type": "code",
   "execution_count": 58,
   "metadata": {
    "colab": {
     "base_uri": "https://localhost:8080/",
     "height": 409
    },
    "colab_type": "code",
    "executionInfo": {
     "elapsed": 1048,
     "status": "ok",
     "timestamp": 1555956495906,
     "user": {
      "displayName": "Alan Cha",
      "photoUrl": "",
      "userId": "07616691434471469040"
     },
     "user_tz": 420
    },
    "id": "ydA_UFK4WlVV",
    "outputId": "55f26c4b-709a-4002-d48b-1091ecbe90a6"
   },
   "outputs": [
    {
     "data": {
      "text/plain": [
       "<matplotlib.axes._subplots.AxesSubplot at 0x1a2b9032b0>"
      ]
     },
     "execution_count": 58,
     "metadata": {},
     "output_type": "execute_result"
    },
    {
     "data": {
      "image/png": "[encoded data removed]",
      "text/plain": [
       "<Figure size 576x432 with 1 Axes>"
      ]
     },
     "metadata": {
      "needs_background": "light"
     },
     "output_type": "display_data"
    }
   ],
   "source": [
    "plt.figure(figsize=(8,6))\n",
    "sns.distplot(trips['fare'])\n",
    "# seems like most of the fares cluster around 0 to 30. and  a handful of quite high ones"
   ]
  },
  {
   "cell_type": "code",
   "execution_count": 59,
   "metadata": {
    "colab": {
     "base_uri": "https://localhost:8080/",
     "height": 312
    },
    "colab_type": "code",
    "executionInfo": {
     "elapsed": 593,
     "status": "ok",
     "timestamp": 1555956496229,
     "user": {
      "displayName": "Alan Cha",
      "photoUrl": "",
      "userId": "07616691434471469040"
     },
     "user_tz": 420
    },
    "id": "SSNO3yz6WlVW",
    "outputId": "ee8d6189-335e-4b8e-ac3a-3ee8b379e982"
   },
   "outputs": [
    {
     "data": {
      "text/html": [
       "<div>\n",
       "<style scoped>\n",
       "    .dataframe tbody tr th:only-of-type {\n",
       "        vertical-align: middle;\n",
       "    }\n",
       "\n",
       "    .dataframe tbody tr th {\n",
       "        vertical-align: top;\n",
       "    }\n",
       "\n",
       "    .dataframe thead th {\n",
       "        text-align: right;\n",
       "    }\n",
       "</style>\n",
       "<table border=\"1\" class=\"dataframe\">\n",
       "  <thead>\n",
       "    <tr style=\"text-align: right;\">\n",
       "      <th></th>\n",
       "      <th>start_time</th>\n",
       "      <th>end_time</th>\n",
       "      <th>fare</th>\n",
       "      <th>number_pax</th>\n",
       "      <th>start_lng</th>\n",
       "      <th>start_lat</th>\n",
       "      <th>end_lng</th>\n",
       "      <th>end_lat</th>\n",
       "      <th>start_taz</th>\n",
       "      <th>end_taz</th>\n",
       "      <th>hour_start</th>\n",
       "      <th>weekday</th>\n",
       "      <th>SFO</th>\n",
       "    </tr>\n",
       "  </thead>\n",
       "  <tbody>\n",
       "    <tr>\n",
       "      <th>9602</th>\n",
       "      <td>9/3/12 20:55</td>\n",
       "      <td>9/3/12 22:02</td>\n",
       "      <td>281.25</td>\n",
       "      <td>1.0</td>\n",
       "      <td>-122.387233</td>\n",
       "      <td>37.617143</td>\n",
       "      <td>-121.934592</td>\n",
       "      <td>38.272643</td>\n",
       "      <td>239.0</td>\n",
       "      <td>1252.0</td>\n",
       "      <td>20</td>\n",
       "      <td>0</td>\n",
       "      <td>1</td>\n",
       "    </tr>\n",
       "    <tr>\n",
       "      <th>23259</th>\n",
       "      <td>9/7/12 22:34</td>\n",
       "      <td>9/8/12 0:05</td>\n",
       "      <td>255.75</td>\n",
       "      <td>1.0</td>\n",
       "      <td>-122.384547</td>\n",
       "      <td>37.617148</td>\n",
       "      <td>-121.353468</td>\n",
       "      <td>37.982967</td>\n",
       "      <td>239.0</td>\n",
       "      <td>0.0</td>\n",
       "      <td>22</td>\n",
       "      <td>4</td>\n",
       "      <td>1</td>\n",
       "    </tr>\n",
       "    <tr>\n",
       "      <th>41438</th>\n",
       "      <td>9/11/12 1:24</td>\n",
       "      <td>9/11/12 2:16</td>\n",
       "      <td>219.35</td>\n",
       "      <td>1.0</td>\n",
       "      <td>-122.397640</td>\n",
       "      <td>37.793355</td>\n",
       "      <td>-121.889352</td>\n",
       "      <td>37.332805</td>\n",
       "      <td>1.0</td>\n",
       "      <td>558.0</td>\n",
       "      <td>1</td>\n",
       "      <td>1</td>\n",
       "      <td>0</td>\n",
       "    </tr>\n",
       "    <tr>\n",
       "      <th>13911</th>\n",
       "      <td>9/6/12 18:37</td>\n",
       "      <td>9/6/12 19:40</td>\n",
       "      <td>215.30</td>\n",
       "      <td>1.0</td>\n",
       "      <td>-122.390233</td>\n",
       "      <td>37.615377</td>\n",
       "      <td>-122.148178</td>\n",
       "      <td>38.052638</td>\n",
       "      <td>239.0</td>\n",
       "      <td>1211.0</td>\n",
       "      <td>18</td>\n",
       "      <td>3</td>\n",
       "      <td>1</td>\n",
       "    </tr>\n",
       "    <tr>\n",
       "      <th>9144</th>\n",
       "      <td>9/3/12 17:40</td>\n",
       "      <td>9/3/12 18:30</td>\n",
       "      <td>210.00</td>\n",
       "      <td>1.0</td>\n",
       "      <td>-122.390143</td>\n",
       "      <td>37.615127</td>\n",
       "      <td>-121.857482</td>\n",
       "      <td>37.301582</td>\n",
       "      <td>239.0</td>\n",
       "      <td>563.0</td>\n",
       "      <td>17</td>\n",
       "      <td>0</td>\n",
       "      <td>1</td>\n",
       "    </tr>\n",
       "  </tbody>\n",
       "</table>\n",
       "</div>"
      ],
      "text/plain": [
       "         start_time      end_time    fare  number_pax   start_lng  start_lat  \\\n",
       "9602   9/3/12 20:55  9/3/12 22:02  281.25         1.0 -122.387233  37.617143   \n",
       "23259  9/7/12 22:34   9/8/12 0:05  255.75         1.0 -122.384547  37.617148   \n",
       "41438  9/11/12 1:24  9/11/12 2:16  219.35         1.0 -122.397640  37.793355   \n",
       "13911  9/6/12 18:37  9/6/12 19:40  215.30         1.0 -122.390233  37.615377   \n",
       "9144   9/3/12 17:40  9/3/12 18:30  210.00         1.0 -122.390143  37.615127   \n",
       "\n",
       "          end_lng    end_lat  start_taz  end_taz  hour_start  weekday  SFO  \n",
       "9602  -121.934592  38.272643      239.0   1252.0          20        0    1  \n",
       "23259 -121.353468  37.982967      239.0      0.0          22        4    1  \n",
       "41438 -121.889352  37.332805        1.0    558.0           1        1    0  \n",
       "13911 -122.148178  38.052638      239.0   1211.0          18        3    1  \n",
       "9144  -121.857482  37.301582      239.0    563.0          17        0    1  "
      ]
     },
     "execution_count": 59,
     "metadata": {},
     "output_type": "execute_result"
    }
   ],
   "source": [
    "trips.sort_values(by='fare',ascending=False).head()"
   ]
  },
  {
   "cell_type": "code",
   "execution_count": 60,
   "metadata": {
    "colab": {
     "base_uri": "https://localhost:8080/",
     "height": 312
    },
    "colab_type": "code",
    "executionInfo": {
     "elapsed": 995,
     "status": "ok",
     "timestamp": 1555956497109,
     "user": {
      "displayName": "Alan Cha",
      "photoUrl": "",
      "userId": "07616691434471469040"
     },
     "user_tz": 420
    },
    "id": "bO4oPQQ1WlVY",
    "outputId": "41c1f11d-6d14-4bef-955f-d9c80c4b0415",
    "scrolled": true
   },
   "outputs": [
    {
     "data": {
      "text/html": [
       "<div>\n",
       "<style scoped>\n",
       "    .dataframe tbody tr th:only-of-type {\n",
       "        vertical-align: middle;\n",
       "    }\n",
       "\n",
       "    .dataframe tbody tr th {\n",
       "        vertical-align: top;\n",
       "    }\n",
       "\n",
       "    .dataframe thead th {\n",
       "        text-align: right;\n",
       "    }\n",
       "</style>\n",
       "<table border=\"1\" class=\"dataframe\">\n",
       "  <thead>\n",
       "    <tr style=\"text-align: right;\">\n",
       "      <th></th>\n",
       "      <th>start_time</th>\n",
       "      <th>end_time</th>\n",
       "      <th>fare</th>\n",
       "      <th>number_pax</th>\n",
       "      <th>start_lng</th>\n",
       "      <th>start_lat</th>\n",
       "      <th>end_lng</th>\n",
       "      <th>end_lat</th>\n",
       "      <th>start_taz</th>\n",
       "      <th>end_taz</th>\n",
       "      <th>hour_start</th>\n",
       "      <th>weekday</th>\n",
       "      <th>SFO</th>\n",
       "    </tr>\n",
       "  </thead>\n",
       "  <tbody>\n",
       "    <tr>\n",
       "      <th>35114</th>\n",
       "      <td>9/10/12 22:27</td>\n",
       "      <td>9/10/12 22:44</td>\n",
       "      <td>0.0</td>\n",
       "      <td>1.0</td>\n",
       "      <td>-122.515832</td>\n",
       "      <td>37.929987</td>\n",
       "      <td>-122.441647</td>\n",
       "      <td>37.793855</td>\n",
       "      <td>1441.0</td>\n",
       "      <td>49.0</td>\n",
       "      <td>22</td>\n",
       "      <td>0</td>\n",
       "      <td>0</td>\n",
       "    </tr>\n",
       "    <tr>\n",
       "      <th>31922</th>\n",
       "      <td>9/11/12 21:31</td>\n",
       "      <td>9/11/12 21:42</td>\n",
       "      <td>0.0</td>\n",
       "      <td>1.0</td>\n",
       "      <td>-122.440477</td>\n",
       "      <td>37.770990</td>\n",
       "      <td>-122.400258</td>\n",
       "      <td>37.794973</td>\n",
       "      <td>88.0</td>\n",
       "      <td>22.0</td>\n",
       "      <td>21</td>\n",
       "      <td>1</td>\n",
       "      <td>0</td>\n",
       "    </tr>\n",
       "    <tr>\n",
       "      <th>16062</th>\n",
       "      <td>9/5/12 20:57</td>\n",
       "      <td>9/5/12 21:38</td>\n",
       "      <td>0.0</td>\n",
       "      <td>1.0</td>\n",
       "      <td>-122.394605</td>\n",
       "      <td>37.777168</td>\n",
       "      <td>-122.165267</td>\n",
       "      <td>37.444040</td>\n",
       "      <td>109.0</td>\n",
       "      <td>356.0</td>\n",
       "      <td>20</td>\n",
       "      <td>2</td>\n",
       "      <td>0</td>\n",
       "    </tr>\n",
       "    <tr>\n",
       "      <th>12112</th>\n",
       "      <td>9/4/12 7:08</td>\n",
       "      <td>9/4/12 7:29</td>\n",
       "      <td>0.0</td>\n",
       "      <td>1.0</td>\n",
       "      <td>-122.411138</td>\n",
       "      <td>37.748365</td>\n",
       "      <td>-122.439378</td>\n",
       "      <td>37.761283</td>\n",
       "      <td>119.0</td>\n",
       "      <td>94.0</td>\n",
       "      <td>7</td>\n",
       "      <td>1</td>\n",
       "      <td>0</td>\n",
       "    </tr>\n",
       "    <tr>\n",
       "      <th>16466</th>\n",
       "      <td>9/6/12 5:25</td>\n",
       "      <td>9/6/12 5:30</td>\n",
       "      <td>0.0</td>\n",
       "      <td>1.0</td>\n",
       "      <td>-122.393393</td>\n",
       "      <td>37.775633</td>\n",
       "      <td>-122.402975</td>\n",
       "      <td>37.786653</td>\n",
       "      <td>109.0</td>\n",
       "      <td>12.0</td>\n",
       "      <td>5</td>\n",
       "      <td>3</td>\n",
       "      <td>0</td>\n",
       "    </tr>\n",
       "  </tbody>\n",
       "</table>\n",
       "</div>"
      ],
      "text/plain": [
       "          start_time       end_time  fare  number_pax   start_lng  start_lat  \\\n",
       "35114  9/10/12 22:27  9/10/12 22:44   0.0         1.0 -122.515832  37.929987   \n",
       "31922  9/11/12 21:31  9/11/12 21:42   0.0         1.0 -122.440477  37.770990   \n",
       "16062   9/5/12 20:57   9/5/12 21:38   0.0         1.0 -122.394605  37.777168   \n",
       "12112    9/4/12 7:08    9/4/12 7:29   0.0         1.0 -122.411138  37.748365   \n",
       "16466    9/6/12 5:25    9/6/12 5:30   0.0         1.0 -122.393393  37.775633   \n",
       "\n",
       "          end_lng    end_lat  start_taz  end_taz  hour_start  weekday  SFO  \n",
       "35114 -122.441647  37.793855     1441.0     49.0          22        0    0  \n",
       "31922 -122.400258  37.794973       88.0     22.0          21        1    0  \n",
       "16062 -122.165267  37.444040      109.0    356.0          20        2    0  \n",
       "12112 -122.439378  37.761283      119.0     94.0           7        1    0  \n",
       "16466 -122.402975  37.786653      109.0     12.0           5        3    0  "
      ]
     },
     "execution_count": 60,
     "metadata": {},
     "output_type": "execute_result"
    }
   ],
   "source": [
    "trips.sort_values(by='fare',ascending=True).head()"
   ]
  },
  {
   "cell_type": "markdown",
   "metadata": {
    "colab_type": "text",
    "id": "ZtEkKMvWWlVZ"
   },
   "source": [
    "**looks like we have some really high fares, taz 0, and 0 fares**\n",
    "\n",
    "will only address for taz for brevity<br>\n",
    "0 taz refers to out of bay area "
   ]
  },
  {
   "cell_type": "code",
   "execution_count": 61,
   "metadata": {
    "colab": {
     "base_uri": "https://localhost:8080/",
     "height": 54
    },
    "colab_type": "code",
    "executionInfo": {
     "elapsed": 1707,
     "status": "ok",
     "timestamp": 1555956499137,
     "user": {
      "displayName": "Alan Cha",
      "photoUrl": "",
      "userId": "07616691434471469040"
     },
     "user_tz": 420
    },
    "id": "fdCbvhvtWlVa",
    "outputId": "17e19a74-d2b2-4821-dcdb-c81a5d1b602e"
   },
   "outputs": [
    {
     "data": {
      "text/plain": [
       "1018"
      ]
     },
     "execution_count": 61,
     "metadata": {},
     "output_type": "execute_result"
    }
   ],
   "source": [
    "trips[trips['start_taz'] == 0].shape[0]"
   ]
  },
  {
   "cell_type": "code",
   "execution_count": 62,
   "metadata": {
    "colab": {
     "base_uri": "https://localhost:8080/",
     "height": 54
    },
    "colab_type": "code",
    "executionInfo": {
     "elapsed": 795,
     "status": "ok",
     "timestamp": 1555956499138,
     "user": {
      "displayName": "Alan Cha",
      "photoUrl": "",
      "userId": "07616691434471469040"
     },
     "user_tz": 420
    },
    "id": "YkGoz6TYWlVb",
    "outputId": "7ea1d1cc-fecb-4ab0-8dfa-47956bf5d935"
   },
   "outputs": [
    {
     "data": {
      "text/plain": [
       "1214"
      ]
     },
     "execution_count": 62,
     "metadata": {},
     "output_type": "execute_result"
    }
   ],
   "source": [
    "trips[trips['end_taz'] == 0].shape[0]"
   ]
  },
  {
   "cell_type": "code",
   "execution_count": 63,
   "metadata": {
    "colab": {
     "base_uri": "https://localhost:8080/",
     "height": 54
    },
    "colab_type": "code",
    "executionInfo": {
     "elapsed": 1127,
     "status": "ok",
     "timestamp": 1555956500216,
     "user": {
      "displayName": "Alan Cha",
      "photoUrl": "",
      "userId": "07616691434471469040"
     },
     "user_tz": 420
    },
    "id": "wQa9G_8QWlVc",
    "outputId": "c96c4a8b-d1f2-435b-a908-6e24cd35bd85"
   },
   "outputs": [
    {
     "data": {
      "text/plain": [
       "41897"
      ]
     },
     "execution_count": 63,
     "metadata": {},
     "output_type": "execute_result"
    }
   ],
   "source": [
    "trips.shape[0]"
   ]
  },
  {
   "cell_type": "code",
   "execution_count": 64,
   "metadata": {
    "colab": {
     "base_uri": "https://localhost:8080/",
     "height": 327
    },
    "colab_type": "code",
    "executionInfo": {
     "elapsed": 788,
     "status": "ok",
     "timestamp": 1555956500944,
     "user": {
      "displayName": "Alan Cha",
      "photoUrl": "",
      "userId": "07616691434471469040"
     },
     "user_tz": 420
    },
    "id": "RFbRZ0xBWlVd",
    "outputId": "6c6163d9-7430-48de-e860-6e6f38090797"
   },
   "outputs": [
    {
     "data": {
      "text/html": [
       "<div>\n",
       "<style scoped>\n",
       "    .dataframe tbody tr th:only-of-type {\n",
       "        vertical-align: middle;\n",
       "    }\n",
       "\n",
       "    .dataframe tbody tr th {\n",
       "        vertical-align: top;\n",
       "    }\n",
       "\n",
       "    .dataframe thead th {\n",
       "        text-align: right;\n",
       "    }\n",
       "</style>\n",
       "<table border=\"1\" class=\"dataframe\">\n",
       "  <thead>\n",
       "    <tr style=\"text-align: right;\">\n",
       "      <th></th>\n",
       "      <th>start_time</th>\n",
       "      <th>end_time</th>\n",
       "      <th>fare</th>\n",
       "      <th>number_pax</th>\n",
       "      <th>start_lng</th>\n",
       "      <th>start_lat</th>\n",
       "      <th>end_lng</th>\n",
       "      <th>end_lat</th>\n",
       "      <th>start_taz</th>\n",
       "      <th>end_taz</th>\n",
       "      <th>hour_start</th>\n",
       "      <th>weekday</th>\n",
       "      <th>SFO</th>\n",
       "      <th>Taz 0</th>\n",
       "    </tr>\n",
       "  </thead>\n",
       "  <tbody>\n",
       "    <tr>\n",
       "      <th>0</th>\n",
       "      <td>9/1/12 0:11</td>\n",
       "      <td>9/1/12 0:20</td>\n",
       "      <td>13.20</td>\n",
       "      <td>1.0</td>\n",
       "      <td>-122.413540</td>\n",
       "      <td>37.802683</td>\n",
       "      <td>-122.421277</td>\n",
       "      <td>37.785395</td>\n",
       "      <td>38.0</td>\n",
       "      <td>30.0</td>\n",
       "      <td>0</td>\n",
       "      <td>5</td>\n",
       "      <td>0</td>\n",
       "      <td>0</td>\n",
       "    </tr>\n",
       "    <tr>\n",
       "      <th>1</th>\n",
       "      <td>9/1/12 0:23</td>\n",
       "      <td>9/1/12 0:31</td>\n",
       "      <td>10.65</td>\n",
       "      <td>1.0</td>\n",
       "      <td>-122.419700</td>\n",
       "      <td>37.786090</td>\n",
       "      <td>-122.435217</td>\n",
       "      <td>37.762177</td>\n",
       "      <td>30.0</td>\n",
       "      <td>94.0</td>\n",
       "      <td>0</td>\n",
       "      <td>5</td>\n",
       "      <td>0</td>\n",
       "      <td>0</td>\n",
       "    </tr>\n",
       "    <tr>\n",
       "      <th>2</th>\n",
       "      <td>9/1/12 0:45</td>\n",
       "      <td>9/1/12 0:49</td>\n",
       "      <td>9.00</td>\n",
       "      <td>1.0</td>\n",
       "      <td>-122.415120</td>\n",
       "      <td>37.774672</td>\n",
       "      <td>-122.407657</td>\n",
       "      <td>37.782615</td>\n",
       "      <td>10.0</td>\n",
       "      <td>11.0</td>\n",
       "      <td>0</td>\n",
       "      <td>5</td>\n",
       "      <td>0</td>\n",
       "      <td>0</td>\n",
       "    </tr>\n",
       "    <tr>\n",
       "      <th>3</th>\n",
       "      <td>9/1/12 0:41</td>\n",
       "      <td>9/1/12 0:54</td>\n",
       "      <td>13.95</td>\n",
       "      <td>2.0</td>\n",
       "      <td>-122.419392</td>\n",
       "      <td>37.806622</td>\n",
       "      <td>-122.415393</td>\n",
       "      <td>37.778115</td>\n",
       "      <td>40.0</td>\n",
       "      <td>10.0</td>\n",
       "      <td>0</td>\n",
       "      <td>5</td>\n",
       "      <td>0</td>\n",
       "      <td>0</td>\n",
       "    </tr>\n",
       "    <tr>\n",
       "      <th>4</th>\n",
       "      <td>9/1/12 1:09</td>\n",
       "      <td>9/1/12 1:13</td>\n",
       "      <td>7.35</td>\n",
       "      <td>1.0</td>\n",
       "      <td>-122.429722</td>\n",
       "      <td>37.797790</td>\n",
       "      <td>-122.418060</td>\n",
       "      <td>37.789032</td>\n",
       "      <td>45.0</td>\n",
       "      <td>32.0</td>\n",
       "      <td>1</td>\n",
       "      <td>5</td>\n",
       "      <td>0</td>\n",
       "      <td>0</td>\n",
       "    </tr>\n",
       "  </tbody>\n",
       "</table>\n",
       "</div>"
      ],
      "text/plain": [
       "    start_time     end_time   fare  number_pax   start_lng  start_lat  \\\n",
       "0  9/1/12 0:11  9/1/12 0:20  13.20         1.0 -122.413540  37.802683   \n",
       "1  9/1/12 0:23  9/1/12 0:31  10.65         1.0 -122.419700  37.786090   \n",
       "2  9/1/12 0:45  9/1/12 0:49   9.00         1.0 -122.415120  37.774672   \n",
       "3  9/1/12 0:41  9/1/12 0:54  13.95         2.0 -122.419392  37.806622   \n",
       "4  9/1/12 1:09  9/1/12 1:13   7.35         1.0 -122.429722  37.797790   \n",
       "\n",
       "      end_lng    end_lat  start_taz  end_taz  hour_start  weekday  SFO  Taz 0  \n",
       "0 -122.421277  37.785395       38.0     30.0           0        5    0      0  \n",
       "1 -122.435217  37.762177       30.0     94.0           0        5    0      0  \n",
       "2 -122.407657  37.782615       10.0     11.0           0        5    0      0  \n",
       "3 -122.415393  37.778115       40.0     10.0           0        5    0      0  \n",
       "4 -122.418060  37.789032       45.0     32.0           1        5    0      0  "
      ]
     },
     "execution_count": 64,
     "metadata": {},
     "output_type": "execute_result"
    }
   ],
   "source": [
    "trips['Taz 0'] = (trips['start_taz'] == 0) | (trips['end_taz'] == 0)\n",
    "trips['Taz 0'] = trips['Taz 0'].astype(int)\n",
    "trips.head()"
   ]
  },
  {
   "cell_type": "markdown",
   "metadata": {
    "colab_type": "text",
    "id": "cuUG4Iokca0N"
   },
   "source": [
    "**_Discuss_** \n",
    "What do you think we should do with fares that are 0?"
   ]
  },
  {
   "cell_type": "code",
   "execution_count": null,
   "metadata": {
    "colab": {},
    "colab_type": "code",
    "id": "PcFsdjMOca0N"
   },
   "outputs": [],
   "source": []
  },
  {
   "cell_type": "code",
   "execution_count": null,
   "metadata": {
    "colab": {},
    "colab_type": "code",
    "id": "Lko4FF57ca0O"
   },
   "outputs": [],
   "source": []
  },
  {
   "cell_type": "code",
   "execution_count": null,
   "metadata": {
    "colab": {},
    "colab_type": "code",
    "id": "Z3enMZumca0O"
   },
   "outputs": [],
   "source": []
  },
  {
   "cell_type": "code",
   "execution_count": 65,
   "metadata": {
    "colab": {},
    "colab_type": "code",
    "id": "wwUf7zn9ca0P",
    "outputId": "d10b1259-9ae3-404b-80e0-75580da76e0f"
   },
   "outputs": [
    {
     "data": {
      "text/plain": [
       "125"
      ]
     },
     "execution_count": 65,
     "metadata": {},
     "output_type": "execute_result"
    }
   ],
   "source": [
    "sum(trips['fare'] == 0)"
   ]
  },
  {
   "cell_type": "markdown",
   "metadata": {
    "colab_type": "text",
    "id": "8-BsxJqVWlVe"
   },
   "source": [
    "**lets drop some unncessary information now**"
   ]
  },
  {
   "cell_type": "code",
   "execution_count": 66,
   "metadata": {
    "colab": {
     "base_uri": "https://localhost:8080/",
     "height": 221
    },
    "colab_type": "code",
    "executionInfo": {
     "elapsed": 900,
     "status": "ok",
     "timestamp": 1555956503790,
     "user": {
      "displayName": "Alan Cha",
      "photoUrl": "",
      "userId": "07616691434471469040"
     },
     "user_tz": 420
    },
    "id": "LRickO06WlVf",
    "outputId": "9820d0e6-b4d3-40c7-f24c-1bb1f26bf973"
   },
   "outputs": [
    {
     "data": {
      "text/html": [
       "<div>\n",
       "<style scoped>\n",
       "    .dataframe tbody tr th:only-of-type {\n",
       "        vertical-align: middle;\n",
       "    }\n",
       "\n",
       "    .dataframe tbody tr th {\n",
       "        vertical-align: top;\n",
       "    }\n",
       "\n",
       "    .dataframe thead th {\n",
       "        text-align: right;\n",
       "    }\n",
       "</style>\n",
       "<table border=\"1\" class=\"dataframe\">\n",
       "  <thead>\n",
       "    <tr style=\"text-align: right;\">\n",
       "      <th></th>\n",
       "      <th>fare</th>\n",
       "      <th>number_pax</th>\n",
       "      <th>start_taz</th>\n",
       "      <th>end_taz</th>\n",
       "      <th>hour_start</th>\n",
       "      <th>weekday</th>\n",
       "      <th>SFO</th>\n",
       "      <th>Taz 0</th>\n",
       "    </tr>\n",
       "  </thead>\n",
       "  <tbody>\n",
       "    <tr>\n",
       "      <th>0</th>\n",
       "      <td>13.20</td>\n",
       "      <td>1.0</td>\n",
       "      <td>38.0</td>\n",
       "      <td>30.0</td>\n",
       "      <td>0</td>\n",
       "      <td>5</td>\n",
       "      <td>0</td>\n",
       "      <td>0</td>\n",
       "    </tr>\n",
       "    <tr>\n",
       "      <th>1</th>\n",
       "      <td>10.65</td>\n",
       "      <td>1.0</td>\n",
       "      <td>30.0</td>\n",
       "      <td>94.0</td>\n",
       "      <td>0</td>\n",
       "      <td>5</td>\n",
       "      <td>0</td>\n",
       "      <td>0</td>\n",
       "    </tr>\n",
       "    <tr>\n",
       "      <th>2</th>\n",
       "      <td>9.00</td>\n",
       "      <td>1.0</td>\n",
       "      <td>10.0</td>\n",
       "      <td>11.0</td>\n",
       "      <td>0</td>\n",
       "      <td>5</td>\n",
       "      <td>0</td>\n",
       "      <td>0</td>\n",
       "    </tr>\n",
       "    <tr>\n",
       "      <th>3</th>\n",
       "      <td>13.95</td>\n",
       "      <td>2.0</td>\n",
       "      <td>40.0</td>\n",
       "      <td>10.0</td>\n",
       "      <td>0</td>\n",
       "      <td>5</td>\n",
       "      <td>0</td>\n",
       "      <td>0</td>\n",
       "    </tr>\n",
       "    <tr>\n",
       "      <th>4</th>\n",
       "      <td>7.35</td>\n",
       "      <td>1.0</td>\n",
       "      <td>45.0</td>\n",
       "      <td>32.0</td>\n",
       "      <td>1</td>\n",
       "      <td>5</td>\n",
       "      <td>0</td>\n",
       "      <td>0</td>\n",
       "    </tr>\n",
       "  </tbody>\n",
       "</table>\n",
       "</div>"
      ],
      "text/plain": [
       "    fare  number_pax  start_taz  end_taz  hour_start  weekday  SFO  Taz 0\n",
       "0  13.20         1.0       38.0     30.0           0        5    0      0\n",
       "1  10.65         1.0       30.0     94.0           0        5    0      0\n",
       "2   9.00         1.0       10.0     11.0           0        5    0      0\n",
       "3  13.95         2.0       40.0     10.0           0        5    0      0\n",
       "4   7.35         1.0       45.0     32.0           1        5    0      0"
      ]
     },
     "execution_count": 66,
     "metadata": {},
     "output_type": "execute_result"
    }
   ],
   "source": [
    "trips = trips.drop(['start_time','end_time','start_lng','start_lat','end_lng','end_lat'], axis=1)\n",
    "trips.head()"
   ]
  },
  {
   "cell_type": "markdown",
   "metadata": {
    "colab": {},
    "colab_type": "code",
    "id": "QcgZ1U2hWlVg"
   },
   "source": [
    "**_Given what we have, what else could we augment and add to our dataset_?**\n",
    "\n",
    "Discuss\n"
   ]
  },
  {
   "cell_type": "code",
   "execution_count": null,
   "metadata": {
    "colab": {},
    "colab_type": "code",
    "id": "US2Srwoqca0T"
   },
   "outputs": [],
   "source": []
  },
  {
   "cell_type": "code",
   "execution_count": null,
   "metadata": {
    "colab": {},
    "colab_type": "code",
    "id": "Ne1keSX2ca0T"
   },
   "outputs": [],
   "source": []
  },
  {
   "cell_type": "code",
   "execution_count": null,
   "metadata": {
    "colab": {},
    "colab_type": "code",
    "id": "Tm6NC9TIca0U"
   },
   "outputs": [],
   "source": []
  },
  {
   "cell_type": "code",
   "execution_count": null,
   "metadata": {
    "colab": {},
    "colab_type": "code",
    "id": "c1R2PcHDca0U"
   },
   "outputs": [],
   "source": []
  },
  {
   "cell_type": "markdown",
   "metadata": {
    "colab_type": "text",
    "id": "1y8VF-wrWlVh"
   },
   "source": [
    "# Part 2: Starting the ML Process\n",
    "\n",
    "We will now go through the process if creating a model\n",
    "\n",
    "**We will**\n",
    "1. Create a baseline model \n",
    "1. Try a regression tree tuning one parameter\n",
    "1. Tune multiple parameters\n",
    "1. Try some different types of feature engineering\n"
   ]
  },
  {
   "cell_type": "markdown",
   "metadata": {
    "colab_type": "text",
    "id": "NUi6Oq3pWlVh"
   },
   "source": [
    "**baseline model**\n",
    "https://scikit-learn.org/stable/modules/generated/sklearn.linear_model.LinearRegression.html"
   ]
  },
  {
   "cell_type": "code",
   "execution_count": 68,
   "metadata": {
    "colab": {
     "base_uri": "https://localhost:8080/",
     "height": 72
    },
    "colab_type": "code",
    "executionInfo": {
     "elapsed": 876,
     "status": "ok",
     "timestamp": 1555956507809,
     "user": {
      "displayName": "Alan Cha",
      "photoUrl": "",
      "userId": "07616691434471469040"
     },
     "user_tz": 420
    },
    "id": "e_g-tNcqWlVh",
    "outputId": "52b2118c-39e3-48a1-d7ac-cd6b45a6f2d5"
   },
   "outputs": [
    {
     "name": "stdout",
     "output_type": "stream",
     "text": [
      "Precentage of data\n",
      "\n",
      "Train              Val                 Test\n",
      "0.6992863450843736 0.20070649449841277 0.10000716041721364\n"
     ]
    }
   ],
   "source": [
    "# classic test train split\n",
    "from sklearn.model_selection import train_test_split\n",
    "\n",
    "train = trips.loc[:, trips.columns != 'fare']\n",
    "target = trips['fare']\n",
    "# splitting into train and test \n",
    "X_train, X_test, Y_train, Y_test = train_test_split(train, target, test_size=.1, random_state=42)\n",
    "\n",
    "# splitting train into train and val\n",
    "X_train, X_val, Y_train, Y_val = train_test_split(X_train, Y_train, test_size=.223, random_state=42)\n",
    "\n",
    "print('Precentage of data')\n",
    "print()\n",
    "print('Train','             Val','                Test')\n",
    "print(X_train.shape[0] / trips.shape[0],X_val.shape[0] / trips.shape[0],X_test.shape[0] / trips.shape[0]  )"
   ]
  },
  {
   "cell_type": "code",
   "execution_count": 69,
   "metadata": {
    "colab": {
     "base_uri": "https://localhost:8080/",
     "height": 120
    },
    "colab_type": "code",
    "executionInfo": {
     "elapsed": 1525,
     "status": "ok",
     "timestamp": 1555956518146,
     "user": {
      "displayName": "Alan Cha",
      "photoUrl": "",
      "userId": "07616691434471469040"
     },
     "user_tz": 420
    },
    "id": "O9qhge7KWlVi",
    "outputId": "617434e9-748d-4e57-a477-100c92a67b4f"
   },
   "outputs": [
    {
     "name": "stdout",
     "output_type": "stream",
     "text": [
      "Baseline Train Error\n",
      "8.850905829208374\n",
      "\n",
      "Baseline Validation Error\n",
      "9.098413484279146\n"
     ]
    }
   ],
   "source": [
    "from sklearn.linear_model import LinearRegression\n",
    "\n",
    "# Creating Loss Function \n",
    "rmse = lambda x, y: np.sqrt(np.mean((x-y)**2))\n",
    "\n",
    "# Instaniating our model \n",
    "baseline = LinearRegression()\n",
    "\n",
    "# training it \n",
    "baseline.fit(X_train, Y_train)\n",
    "\n",
    "# evaluating it\n",
    "train_error = rmse(baseline.predict(X_train), Y_train)\n",
    "\n",
    "val_error = rmse(baseline.predict(X_val), Y_val)\n",
    "print('Baseline Train Error')\n",
    "print(train_error)\n",
    "print()\n",
    "print('Baseline Validation Error')\n",
    "print(val_error)"
   ]
  },
  {
   "cell_type": "markdown",
   "metadata": {
    "colab_type": "text",
    "id": "Nbgk79Uyca0X"
   },
   "source": [
    "**Discuss**<br>\n",
    "Why is training error less than validation error?"
   ]
  },
  {
   "cell_type": "code",
   "execution_count": null,
   "metadata": {
    "colab": {},
    "colab_type": "code",
    "id": "WeJP-ofyca0X"
   },
   "outputs": [],
   "source": []
  },
  {
   "cell_type": "markdown",
   "metadata": {
    "colab_type": "text",
    "id": "nMQnSaKica0X"
   },
   "source": [
    "**Visualzing our model**"
   ]
  },
  {
   "cell_type": "code",
   "execution_count": 70,
   "metadata": {
    "colab": {
     "base_uri": "https://localhost:8080/",
     "height": 300
    },
    "colab_type": "code",
    "executionInfo": {
     "elapsed": 687,
     "status": "ok",
     "timestamp": 1555956522133,
     "user": {
      "displayName": "Alan Cha",
      "photoUrl": "",
      "userId": "07616691434471469040"
     },
     "user_tz": 420
    },
    "id": "7PA4-o5V5cT4",
    "outputId": "14687ac5-e934-4ee2-e167-9a0dffb827c2"
   },
   "outputs": [
    {
     "data": {
      "text/plain": [
       "<matplotlib.axes._subplots.AxesSubplot at 0x1a2b9edcf8>"
      ]
     },
     "execution_count": 70,
     "metadata": {},
     "output_type": "execute_result"
    },
    {
     "data": {
      "image/png": "[encoded data removed]",
      "text/plain": [
       "<Figure size 432x288 with 1 Axes>"
      ]
     },
     "metadata": {
      "needs_background": "light"
     },
     "output_type": "display_data"
    }
   ],
   "source": [
    "sns.distplot(Y_val - baseline.predict(X_val))"
   ]
  },
  {
   "cell_type": "code",
   "execution_count": 71,
   "metadata": {
    "colab": {
     "base_uri": "https://localhost:8080/",
     "height": 421
    },
    "colab_type": "code",
    "executionInfo": {
     "elapsed": 1495,
     "status": "ok",
     "timestamp": 1555956523582,
     "user": {
      "displayName": "Alan Cha",
      "photoUrl": "",
      "userId": "07616691434471469040"
     },
     "user_tz": 420
    },
    "id": "BMiwjiHyWlVk",
    "outputId": "8480f0e7-b54f-47ca-ad45-b5ba04eb13d4"
   },
   "outputs": [
    {
     "data": {
      "text/plain": [
       "<matplotlib.lines.Line2D at 0x1a2b9a2518>"
      ]
     },
     "execution_count": 71,
     "metadata": {},
     "output_type": "execute_result"
    },
    {
     "data": {
      "image/png": "[encoded data removed]",
      "text/plain": [
       "<Figure size 576x432 with 1 Axes>"
      ]
     },
     "metadata": {
      "needs_background": "light"
     },
     "output_type": "display_data"
    }
   ],
   "source": [
    "plt.figure(figsize=(8,6))      \n",
    "plt.scatter(np.arange(len(X_val)), Y_val - baseline.predict(X_val),alpha=.5)\n",
    "plt.xlabel('x')\n",
    "plt.ylabel('residual (true y - estimated y)')\n",
    "plt.title('Residual vs x for Linear Model')\n",
    "plt.axhline(y = 0, color='r')"
   ]
  },
  {
   "cell_type": "code",
   "execution_count": 72,
   "metadata": {
    "colab": {},
    "colab_type": "code",
    "id": "7sgu1PZOca0Z",
    "outputId": "cf2ee0cc-48dc-44d6-e6fe-cfd56ea82bd2"
   },
   "outputs": [
    {
     "ename": "NameError",
     "evalue": "name 'bbaselineine' is not defined",
     "output_type": "error",
     "traceback": [
      "\u001b[0;31m---------------------------------------------------------------------------\u001b[0m",
      "\u001b[0;31mNameError\u001b[0m                                 Traceback (most recent call last)",
      "\u001b[0;32m<ipython-input-72-970c62eba025>\u001b[0m in \u001b[0;36m<module>\u001b[0;34m\u001b[0m\n\u001b[1;32m      1\u001b[0m \u001b[0mplt\u001b[0m\u001b[0;34m.\u001b[0m\u001b[0mfigure\u001b[0m\u001b[0;34m(\u001b[0m\u001b[0mfigsize\u001b[0m\u001b[0;34m=\u001b[0m\u001b[0;34m(\u001b[0m\u001b[0;36m8\u001b[0m\u001b[0;34m,\u001b[0m\u001b[0;36m6\u001b[0m\u001b[0;34m)\u001b[0m\u001b[0;34m)\u001b[0m\u001b[0;34m\u001b[0m\u001b[0;34m\u001b[0m\u001b[0m\n\u001b[0;32m----> 2\u001b[0;31m \u001b[0msns\u001b[0m\u001b[0;34m.\u001b[0m\u001b[0mdistplot\u001b[0m\u001b[0;34m(\u001b[0m\u001b[0mbbaselineine\u001b[0m\u001b[0;34m.\u001b[0m\u001b[0mpredict\u001b[0m\u001b[0;34m(\u001b[0m\u001b[0mX_val\u001b[0m\u001b[0;34m)\u001b[0m\u001b[0;34m,\u001b[0m \u001b[0mhist\u001b[0m\u001b[0;34m=\u001b[0m\u001b[0;32mFalse\u001b[0m\u001b[0;34m,\u001b[0m \u001b[0mlabel\u001b[0m\u001b[0;34m=\u001b[0m\u001b[0;34m'predicted'\u001b[0m\u001b[0;34m)\u001b[0m\u001b[0;34m\u001b[0m\u001b[0;34m\u001b[0m\u001b[0m\n\u001b[0m\u001b[1;32m      3\u001b[0m \u001b[0msns\u001b[0m\u001b[0;34m.\u001b[0m\u001b[0mdistplot\u001b[0m\u001b[0;34m(\u001b[0m\u001b[0mY_val\u001b[0m\u001b[0;34m,\u001b[0m \u001b[0mhist\u001b[0m\u001b[0;34m=\u001b[0m\u001b[0;32mFalse\u001b[0m\u001b[0;34m,\u001b[0m \u001b[0mlabel\u001b[0m\u001b[0;34m=\u001b[0m\u001b[0;34m'val'\u001b[0m\u001b[0;34m)\u001b[0m\u001b[0;34m\u001b[0m\u001b[0;34m\u001b[0m\u001b[0m\n\u001b[1;32m      4\u001b[0m \u001b[0mplt\u001b[0m\u001b[0;34m.\u001b[0m\u001b[0mtitle\u001b[0m\u001b[0;34m(\u001b[0m\u001b[0;34m'Distribution of test vs predicted'\u001b[0m\u001b[0;34m)\u001b[0m\u001b[0;34m\u001b[0m\u001b[0;34m\u001b[0m\u001b[0m\n\u001b[1;32m      5\u001b[0m \u001b[0mplt\u001b[0m\u001b[0;34m.\u001b[0m\u001b[0mxlabel\u001b[0m\u001b[0;34m(\u001b[0m\u001b[0;34m'Fare Price'\u001b[0m\u001b[0;34m)\u001b[0m\u001b[0;34m\u001b[0m\u001b[0;34m\u001b[0m\u001b[0m\n",
      "\u001b[0;31mNameError\u001b[0m: name 'bbaselineine' is not defined"
     ]
    },
    {
     "data": {
      "text/plain": [
       "<Figure size 576x432 with 0 Axes>"
      ]
     },
     "metadata": {},
     "output_type": "display_data"
    }
   ],
   "source": [
    "plt.figure(figsize=(8,6))\n",
    "sns.distplot(bbaselineine.predict(X_val), hist=False, label='predicted')\n",
    "sns.distplot(Y_val, hist=False, label='val')\n",
    "plt.title('Distribution of test vs predicted')\n",
    "plt.xlabel('Fare Price')"
   ]
  },
  {
   "cell_type": "markdown",
   "metadata": {
    "colab_type": "text",
    "id": "DBG2Zi2syNgu"
   },
   "source": [
    "## Hyper parameter tuning"
   ]
  },
  {
   "cell_type": "markdown",
   "metadata": {
    "colab_type": "text",
    "id": "D_cZFsJ7ca0a"
   },
   "source": [
    "https://scikit-learn.org/stable/modules/generated/sklearn.ensemble.RandomForestRegressor.html"
   ]
  },
  {
   "cell_type": "code",
   "execution_count": 73,
   "metadata": {
    "colab": {},
    "colab_type": "code",
    "id": "IBetPfRUca0a",
    "outputId": "cf097e17-76a0-4153-8b6c-f05df49faec9"
   },
   "outputs": [
    {
     "name": "stdout",
     "output_type": "stream",
     "text": [
      "0.37426791588465375  minutes\n"
     ]
    }
   ],
   "source": [
    "from sklearn.ensemble import RandomForestRegressor\n",
    "from sklearn.model_selection import KFold\n",
    "# n_estimators, criterion, max_depth, min_samples_split, min_samples_leaf, min_weight_fraction_leaf, max_features\n",
    "# max_leaf_nodes, min_impurity_decrease, min_impurity_split\n",
    "\n",
    "# set up sklearn's kfold object \n",
    "kf = KFold(n_splits=4)\n",
    "\n",
    "# range of parameters to try\n",
    "test_vals = [10,20,30,40,50]\n",
    "\n",
    "val_errors = []\n",
    "\n",
    "start = time.time()\n",
    "for i in test_vals:\n",
    "    # create new model for each testing value \n",
    "    model = RandomForestRegressor(n_estimators=i)\n",
    "    \n",
    "    # save errors here on each split\n",
    "    validation_errors = []\n",
    "    for train_idx, valid_idx in kf.split(X_train):\n",
    "        # split the data\n",
    "        split_X_train, split_X_valid = X_train.iloc[train_idx], X_train.iloc[valid_idx] \n",
    "        split_Y_train, split_Y_valid = Y_train.iloc[train_idx], Y_train.iloc[valid_idx]\n",
    "\n",
    "        # Fit the model on the training split\n",
    "        model.fit(split_X_train, split_Y_train)\n",
    "        \n",
    "        # Compute the RMSE on the validation split\n",
    "        pred = model.predict(split_X_valid)\n",
    "        error = rmse(split_Y_valid, pred)\n",
    "\n",
    "\n",
    "        validation_errors.append(error)\n",
    "    # for each outer loop iteration, append the mean validation error as that error\n",
    "    val_errors.append(np.mean(validation_errors))\n",
    "print((time.time() - start)/60, ' minutes')"
   ]
  },
  {
   "cell_type": "code",
   "execution_count": 74,
   "metadata": {
    "colab": {},
    "colab_type": "code",
    "id": "VS9k3Zcmca0b",
    "outputId": "8f09fac7-d8ed-4385-94fc-62b0bfed1c20"
   },
   "outputs": [
    {
     "name": "stdout",
     "output_type": "stream",
     "text": [
      "(10, 5.928567501544466)\n",
      "(20, 5.7660622809509166)\n",
      "(30, 5.782413423756075)\n",
      "(40, 5.724098899251317)\n",
      "(50, 5.750589772055709)\n"
     ]
    }
   ],
   "source": [
    "for i in list(zip(test_vals, val_errors)):\n",
    "    print(i)\n"
   ]
  },
  {
   "cell_type": "code",
   "execution_count": 75,
   "metadata": {
    "colab": {},
    "colab_type": "code",
    "id": "X3THPbzkca0c",
    "outputId": "56265f06-261a-40a6-c5b5-7e32c15327b7"
   },
   "outputs": [
    {
     "data": {
      "text/plain": [
       "[<matplotlib.lines.Line2D at 0x1a295836d8>]"
      ]
     },
     "execution_count": 75,
     "metadata": {},
     "output_type": "execute_result"
    },
    {
     "data": {
      "image/png": "[encoded data removed]",
      "text/plain": [
       "<Figure size 432x288 with 1 Axes>"
      ]
     },
     "metadata": {
      "needs_background": "light"
     },
     "output_type": "display_data"
    }
   ],
   "source": [
    "plt.plot(test_vals, val_errors)"
   ]
  },
  {
   "cell_type": "code",
   "execution_count": 76,
   "metadata": {
    "colab": {
     "base_uri": "https://localhost:8080/",
     "height": 54
    },
    "colab_type": "code",
    "executionInfo": {
     "elapsed": 548124,
     "status": "ok",
     "timestamp": 1555957090675,
     "user": {
      "displayName": "Alan Cha",
      "photoUrl": "",
      "userId": "07616691434471469040"
     },
     "user_tz": 420
    },
    "id": "PQtMUUMfWlVl",
    "outputId": "6ed5e2d2-485e-414a-eb8f-f52403cda826"
   },
   "outputs": [
    {
     "name": "stdout",
     "output_type": "stream",
     "text": [
      "3.6424125989278155 minutes to fit\n"
     ]
    }
   ],
   "source": [
    "from sklearn.model_selection import GridSearchCV\n",
    "\n",
    "params = {'n_estimators':[10,50,100,150,300], \n",
    "          'max_features':['auto','sqrt','log2'],\n",
    "          'max_depth': [5,15,30,45]}\n",
    "\n",
    "grid = GridSearchCV(estimator=RandomForestRegressor(), \n",
    "                    param_grid=params, \n",
    "                    cv=2)\n",
    "\n",
    "start = time.time()\n",
    "grid.fit(X_train,Y_train)\n",
    "print(f'{((time.time() - start) / 60)} minutes to fit')"
   ]
  },
  {
   "cell_type": "code",
   "execution_count": 83,
   "metadata": {
    "colab": {
     "base_uri": "https://localhost:8080/",
     "height": 1207
    },
    "colab_type": "code",
    "executionInfo": {
     "elapsed": 1611,
     "status": "ok",
     "timestamp": 1555900086152,
     "user": {
      "displayName": "Alan Cha",
      "photoUrl": "",
      "userId": "07616691434471469040"
     },
     "user_tz": 420
    },
    "id": "DZO4qxOEWlVm",
    "outputId": "b9815769-3149-447e-8f9e-c136d6deed58"
   },
   "outputs": [
    {
     "name": "stdout",
     "output_type": "stream",
     "text": [
      "{'max_depth': 5, 'max_features': 'auto', 'n_estimators': 10} 0.8217570304625328\n",
      "{'max_depth': 5, 'max_features': 'auto', 'n_estimators': 50} 0.8268450215255768\n",
      "{'max_depth': 5, 'max_features': 'auto', 'n_estimators': 100} 0.8288011099473606\n",
      "{'max_depth': 5, 'max_features': 'auto', 'n_estimators': 150} 0.8281257895994355\n",
      "{'max_depth': 5, 'max_features': 'auto', 'n_estimators': 300} 0.8292456256612573\n",
      "{'max_depth': 5, 'max_features': 'sqrt', 'n_estimators': 10} 0.767550376807183\n",
      "{'max_depth': 5, 'max_features': 'sqrt', 'n_estimators': 50} 0.7661803984772336\n",
      "{'max_depth': 5, 'max_features': 'sqrt', 'n_estimators': 100} 0.7677501494357408\n",
      "{'max_depth': 5, 'max_features': 'sqrt', 'n_estimators': 150} 0.7693246292500119\n",
      "{'max_depth': 5, 'max_features': 'sqrt', 'n_estimators': 300} 0.771348206358768\n",
      "{'max_depth': 5, 'max_features': 'log2', 'n_estimators': 10} 0.7861579710774922\n",
      "{'max_depth': 5, 'max_features': 'log2', 'n_estimators': 50} 0.7671805659008569\n",
      "{'max_depth': 5, 'max_features': 'log2', 'n_estimators': 100} 0.7715169972290516\n",
      "{'max_depth': 5, 'max_features': 'log2', 'n_estimators': 150} 0.7692919397949555\n",
      "{'max_depth': 5, 'max_features': 'log2', 'n_estimators': 300} 0.7701912959144641\n",
      "{'max_depth': 15, 'max_features': 'auto', 'n_estimators': 10} 0.8600078754795643\n",
      "{'max_depth': 15, 'max_features': 'auto', 'n_estimators': 50} 0.865875557233989\n",
      "{'max_depth': 15, 'max_features': 'auto', 'n_estimators': 100} 0.8673702841610974\n",
      "{'max_depth': 15, 'max_features': 'auto', 'n_estimators': 150} 0.8659924652338747\n",
      "{'max_depth': 15, 'max_features': 'auto', 'n_estimators': 300} 0.8668772252770726\n",
      "{'max_depth': 15, 'max_features': 'sqrt', 'n_estimators': 10} 0.8233123288027503\n",
      "{'max_depth': 15, 'max_features': 'sqrt', 'n_estimators': 50} 0.8318518691403425\n",
      "{'max_depth': 15, 'max_features': 'sqrt', 'n_estimators': 100} 0.8342071074028511\n",
      "{'max_depth': 15, 'max_features': 'sqrt', 'n_estimators': 150} 0.8333527018107324\n",
      "{'max_depth': 15, 'max_features': 'sqrt', 'n_estimators': 300} 0.8343223864255365\n",
      "{'max_depth': 15, 'max_features': 'log2', 'n_estimators': 10} 0.8185301641407338\n",
      "{'max_depth': 15, 'max_features': 'log2', 'n_estimators': 50} 0.8343648857379515\n",
      "{'max_depth': 15, 'max_features': 'log2', 'n_estimators': 100} 0.8350293203258113\n",
      "{'max_depth': 15, 'max_features': 'log2', 'n_estimators': 150} 0.8349329836066791\n",
      "{'max_depth': 15, 'max_features': 'log2', 'n_estimators': 300} 0.8350407297479129\n",
      "{'max_depth': 30, 'max_features': 'auto', 'n_estimators': 10} 0.8515493732498548\n",
      "{'max_depth': 30, 'max_features': 'auto', 'n_estimators': 50} 0.8643712366182305\n",
      "{'max_depth': 30, 'max_features': 'auto', 'n_estimators': 100} 0.8658333374089524\n",
      "{'max_depth': 30, 'max_features': 'auto', 'n_estimators': 150} 0.8649341088742176\n",
      "{'max_depth': 30, 'max_features': 'auto', 'n_estimators': 300} 0.8659109054805116\n",
      "{'max_depth': 30, 'max_features': 'sqrt', 'n_estimators': 10} 0.8271754600535612\n",
      "{'max_depth': 30, 'max_features': 'sqrt', 'n_estimators': 50} 0.8345288225513724\n",
      "{'max_depth': 30, 'max_features': 'sqrt', 'n_estimators': 100} 0.8361264831247852\n",
      "{'max_depth': 30, 'max_features': 'sqrt', 'n_estimators': 150} 0.8375915600758039\n",
      "{'max_depth': 30, 'max_features': 'sqrt', 'n_estimators': 300} 0.8372283174890617\n",
      "{'max_depth': 30, 'max_features': 'log2', 'n_estimators': 10} 0.8193388747133327\n",
      "{'max_depth': 30, 'max_features': 'log2', 'n_estimators': 50} 0.8349128146199378\n",
      "{'max_depth': 30, 'max_features': 'log2', 'n_estimators': 100} 0.8385951331913277\n",
      "{'max_depth': 30, 'max_features': 'log2', 'n_estimators': 150} 0.8383694179774159\n",
      "{'max_depth': 30, 'max_features': 'log2', 'n_estimators': 300} 0.8364787285751499\n",
      "{'max_depth': 45, 'max_features': 'auto', 'n_estimators': 10} 0.8583415788713031\n",
      "{'max_depth': 45, 'max_features': 'auto', 'n_estimators': 50} 0.8628048658511008\n",
      "{'max_depth': 45, 'max_features': 'auto', 'n_estimators': 100} 0.8659681222358754\n",
      "{'max_depth': 45, 'max_features': 'auto', 'n_estimators': 150} 0.8656523771604793\n",
      "{'max_depth': 45, 'max_features': 'auto', 'n_estimators': 300} 0.866188718729664\n",
      "{'max_depth': 45, 'max_features': 'sqrt', 'n_estimators': 10} 0.8285061705040744\n",
      "{'max_depth': 45, 'max_features': 'sqrt', 'n_estimators': 50} 0.8372782011620993\n",
      "{'max_depth': 45, 'max_features': 'sqrt', 'n_estimators': 100} 0.8371511258003892\n",
      "{'max_depth': 45, 'max_features': 'sqrt', 'n_estimators': 150} 0.8366344999599953\n",
      "{'max_depth': 45, 'max_features': 'sqrt', 'n_estimators': 300} 0.8390474506514594\n",
      "{'max_depth': 45, 'max_features': 'log2', 'n_estimators': 10} 0.823720410725447\n",
      "{'max_depth': 45, 'max_features': 'log2', 'n_estimators': 50} 0.834296536433944\n",
      "{'max_depth': 45, 'max_features': 'log2', 'n_estimators': 100} 0.8360150514235644\n",
      "{'max_depth': 45, 'max_features': 'log2', 'n_estimators': 150} 0.836479162463678\n",
      "{'max_depth': 45, 'max_features': 'log2', 'n_estimators': 300} 0.8382671021853104\n"
     ]
    }
   ],
   "source": [
    "for param, score in zip(grid.cv_results_['params'], grid.cv_results_['mean_test_score']):\n",
    "    print(param, score)"
   ]
  },
  {
   "cell_type": "code",
   "execution_count": 84,
   "metadata": {
    "colab": {
     "base_uri": "https://localhost:8080/",
     "height": 227
    },
    "colab_type": "code",
    "executionInfo": {
     "elapsed": 764,
     "status": "ok",
     "timestamp": 1555900094988,
     "user": {
      "displayName": "Alan Cha",
      "photoUrl": "",
      "userId": "07616691434471469040"
     },
     "user_tz": 420
    },
    "id": "UDJDm77PWlVn",
    "outputId": "e59e6efa-1ede-489d-e9e2-7de2e7bafd18"
   },
   "outputs": [
    {
     "data": {
      "text/plain": [
       "GridSearchCV(cv=2, error_score='raise-deprecating',\n",
       "       estimator=RandomForestRegressor(bootstrap=True, criterion='mse', max_depth=None,\n",
       "           max_features='auto', max_leaf_nodes=None,\n",
       "           min_impurity_decrease=0.0, min_impurity_split=None,\n",
       "           min_samples_leaf=1, min_samples_split=2,\n",
       "           min_weight_fraction_leaf=0.0, n_estimators='warn', n_jobs=None,\n",
       "           oob_score=False, random_state=None, verbose=0, warm_start=False),\n",
       "       fit_params=None, iid='warn', n_jobs=None,\n",
       "       param_grid={'n_estimators': [10, 50, 100, 150, 300], 'max_features': ['auto', 'sqrt', 'log2'], 'max_depth': [5, 15, 30, 45]},\n",
       "       pre_dispatch='2*n_jobs', refit=True, return_train_score='warn',\n",
       "       scoring=None, verbose=0)"
      ]
     },
     "execution_count": 84,
     "metadata": {},
     "output_type": "execute_result"
    }
   ],
   "source": [
    "grid"
   ]
  },
  {
   "cell_type": "code",
   "execution_count": null,
   "metadata": {
    "colab": {},
    "colab_type": "code",
    "id": "QzA6l78U87N7"
   },
   "outputs": [],
   "source": []
  },
  {
   "cell_type": "code",
   "execution_count": null,
   "metadata": {
    "colab": {},
    "colab_type": "code",
    "id": "K0p9FYPYWlVn"
   },
   "outputs": [],
   "source": []
  },
  {
   "cell_type": "code",
   "execution_count": null,
   "metadata": {
    "colab": {},
    "colab_type": "code",
    "id": "o1sj8EzUWlVo"
   },
   "outputs": [],
   "source": [
    "\n"
   ]
  },
  {
   "cell_type": "code",
   "execution_count": 85,
   "metadata": {
    "colab": {
     "base_uri": "https://localhost:8080/",
     "height": 120
    },
    "colab_type": "code",
    "executionInfo": {
     "elapsed": 1983,
     "status": "ok",
     "timestamp": 1555900500581,
     "user": {
      "displayName": "Alan Cha",
      "photoUrl": "",
      "userId": "07616691434471469040"
     },
     "user_tz": 420
    },
    "id": "G-laDW0V4yfv",
    "outputId": "33418e73-07f1-410c-b96a-1159aa9379b4"
   },
   "outputs": [
    {
     "name": "stdout",
     "output_type": "stream",
     "text": [
      "Random Forest Train Error\n",
      "3.235045897249246\n",
      "\n",
      "Random Forest Validation Error\n",
      "5.998015204174129\n"
     ]
    }
   ],
   "source": [
    "# grid \n",
    "train_error = rmse(grid.predict(X_train), Y_train)\n",
    "\n",
    "val_error = rmse(grid.predict(X_val), Y_val)\n",
    "print('Random Forest Train Error')\n",
    "print(train_error)\n",
    "print()\n",
    "print('Random Forest Validation Error')\n",
    "print(val_error)"
   ]
  },
  {
   "cell_type": "code",
   "execution_count": 86,
   "metadata": {
    "colab": {
     "base_uri": "https://localhost:8080/",
     "height": 421
    },
    "colab_type": "code",
    "executionInfo": {
     "elapsed": 971,
     "status": "ok",
     "timestamp": 1555900673152,
     "user": {
      "displayName": "Alan Cha",
      "photoUrl": "",
      "userId": "07616691434471469040"
     },
     "user_tz": 420
    },
    "id": "4QBnHpx85yZy",
    "outputId": "f54aba92-6810-47aa-be4b-d8aed7bd3771"
   },
   "outputs": [
    {
     "data": {
      "text/plain": [
       "Text(0.5, 0, 'Fare Price')"
      ]
     },
     "execution_count": 86,
     "metadata": {},
     "output_type": "execute_result"
    },
    {
     "data": {
      "image/png": "[encoded data removed]",
      "text/plain": [
       "<Figure size 576x432 with 1 Axes>"
      ]
     },
     "metadata": {
      "needs_background": "light"
     },
     "output_type": "display_data"
    }
   ],
   "source": [
    "plt.figure(figsize=(8,6))\n",
    "sns.distplot(grid.predict(X_val), hist=False, label='predicted')\n",
    "sns.distplot(Y_val, hist=False, label='val')\n",
    "plt.title('Distribution of test vs predicted')\n",
    "plt.xlabel('Fare Price')"
   ]
  },
  {
   "cell_type": "markdown",
   "metadata": {},
   "source": [
    "**Discuss** \n",
    "\n",
    "What do you observe about this model?"
   ]
  },
  {
   "cell_type": "code",
   "execution_count": null,
   "metadata": {},
   "outputs": [],
   "source": []
  },
  {
   "cell_type": "code",
   "execution_count": null,
   "metadata": {},
   "outputs": [],
   "source": []
  },
  {
   "cell_type": "markdown",
   "metadata": {
    "colab": {},
    "colab_type": "code",
    "id": "lEHGN_9Z5yb8"
   },
   "source": [
    "**It looks like our model isn't giving enough weight to most common ones, its also not capturing the trend around 50 dollars**\n",
    "\n",
    "Hypothesis: The outliers in the model are pulling us away from the centers. Why might that be?"
   ]
  },
  {
   "cell_type": "code",
   "execution_count": 90,
   "metadata": {
    "colab": {
     "base_uri": "https://localhost:8080/",
     "height": 54
    },
    "colab_type": "code",
    "executionInfo": {
     "elapsed": 342,
     "status": "ok",
     "timestamp": 1555901536373,
     "user": {
      "displayName": "Alan Cha",
      "photoUrl": "",
      "userId": "07616691434471469040"
     },
     "user_tz": 420
    },
    "id": "pOo6lo3Q5yeA",
    "outputId": "6f7bc57e-4694-426b-ac6f-04bb6b325515"
   },
   "outputs": [
    {
     "data": {
      "text/plain": [
       "{'max_depth': 15, 'max_features': 'auto', 'n_estimators': 100}"
      ]
     },
     "execution_count": 90,
     "metadata": {},
     "output_type": "execute_result"
    }
   ],
   "source": [
    "grid.best_params_"
   ]
  },
  {
   "cell_type": "code",
   "execution_count": null,
   "metadata": {
    "colab": {
     "base_uri": "https://localhost:8080/",
     "height": 1520
    },
    "colab_type": "code",
    "executionInfo": {
     "elapsed": 8854,
     "status": "error",
     "timestamp": 1555953772862,
     "user": {
      "displayName": "Alan Cha",
      "photoUrl": "",
      "userId": "07616691434471469040"
     },
     "user_tz": 420
    },
    "id": "nLi_6Hqa5yXG",
    "outputId": "b74cf4d3-4db0-464b-d613-3297f94e0ba7"
   },
   "outputs": [
    {
     "name": "stdout",
     "output_type": "stream",
     "text": [
      "fitting\n"
     ]
    }
   ],
   "source": [
    "# Lets try the new model with mae as the error to weight outliers less\n",
    "start = time.time()\n",
    "mae_forrest = RandomForestRegressor(n_estimators=100, max_depth=10, criterion='mae')\n",
    "print('fitting')\n",
    "mae_forrest.fit(X_train, Y_train)\n",
    "print('Done fitting')\n",
    "train_error = rmse(mae_forrest.predict(X_train), Y_train)\n",
    "\n",
    "val_error = rmse(mae_forrest.predict(X_val), Y_val)\n",
    "print('Random Forest MAE Train Error')\n",
    "print(train_error)\n",
    "print()\n",
    "print('Random Forest MAE Validation Error')\n",
    "print(val_error)\n",
    "print(f\"Cell took {(time.time() - start)/60} minutes\")\n",
    "\n",
    "'''\n",
    "Baseline Train Error\n",
    "3.920464004333598\n",
    "\n",
    "Baseline Validation Error\n",
    "5.768882270003845\n",
    "Cell took 11.767005225022634 minutes\n",
    "'''"
   ]
  },
  {
   "cell_type": "code",
   "execution_count": 95,
   "metadata": {
    "colab": {},
    "colab_type": "code",
    "id": "MPLd6V7r5yJU"
   },
   "outputs": [
    {
     "data": {
      "text/plain": [
       "Text(0.5, 0, 'Fare Price')"
      ]
     },
     "execution_count": 95,
     "metadata": {},
     "output_type": "execute_result"
    },
    {
     "data": {
      "image/png": "[encoded data removed]",
      "text/plain": [
       "<Figure size 576x432 with 1 Axes>"
      ]
     },
     "metadata": {
      "needs_background": "light"
     },
     "output_type": "display_data"
    }
   ],
   "source": [
    "plt.figure(figsize=(8,6))\n",
    "sns.distplot(mae_forrest.predict(X_val), hist=False, label='predicted')\n",
    "sns.distplot(Y_val, hist=False, label='val')\n",
    "plt.title('Distribution of test vs predicted')\n",
    "plt.xlabel('Fare Price')"
   ]
  },
  {
   "cell_type": "code",
   "execution_count": null,
   "metadata": {
    "colab": {},
    "colab_type": "code",
    "id": "d-hSVbPD5xpC"
   },
   "outputs": [],
   "source": [
    "## Regularization"
   ]
  },
  {
   "cell_type": "code",
   "execution_count": null,
   "metadata": {
    "colab": {},
    "colab_type": "code",
    "id": "8SEzjM8X5xU-",
    "outputId": "73507f0e-a8d6-46ab-942e-c997157bc74a"
   },
   "outputs": [],
   "source": [
    "start = time.time()\n",
    "# changing the depth in order to regularize\n",
    "rmse_forest = RandomForestRegressor(n_estimators=100, max_depth=5)\n",
    "\n",
    "rmse_forest.fit(X_train, Y_train)\n",
    "\n",
    "train_error = rmse(rmse_forest.predict(X_train), Y_train)\n",
    "\n",
    "val_error = rmse(rmse_forest.predict(X_val), Y_val)\n",
    "print('Random Forest RMSE Train Error')\n",
    "print(train_error)\n",
    "print()\n",
    "print('Random Forest RMSE Validation Error')\n",
    "print(val_error)\n",
    "print(f\"Cell took {(time.time() - start)/60} minutes\")"
   ]
  },
  {
   "cell_type": "code",
   "execution_count": null,
   "metadata": {
    "colab": {},
    "colab_type": "code",
    "id": "4xtu5-JHca0l",
    "outputId": "2a7810d1-5195-4aab-ab0a-03c94e9b10c1"
   },
   "outputs": [],
   "source": [
    "plt.figure(figsize=(8,6))\n",
    "sns.distplot(mae_forrest.predict(X_val), hist=False, label='predicted')\n",
    "sns.distplot(Y_val, hist=False, label='val')\n",
    "plt.title('Distribution of test vs predicted')\n",
    "plt.xlabel('Fare Price')"
   ]
  },
  {
   "cell_type": "markdown",
   "metadata": {
    "colab_type": "text",
    "id": "I9_y_JCsca0m"
   },
   "source": [
    "**Discuss**\n",
    "\n",
    "**What happened here?**<br>\n",
    "\n",
    "**Extra Question**<br>\n",
    "why did validation error increase instead of decrease?"
   ]
  },
  {
   "cell_type": "code",
   "execution_count": null,
   "metadata": {
    "colab": {},
    "colab_type": "code",
    "id": "K8Iq6Z7oca0m"
   },
   "outputs": [],
   "source": []
  },
  {
   "cell_type": "code",
   "execution_count": null,
   "metadata": {
    "colab": {},
    "colab_type": "code",
    "id": "Yv206s-5ca0n"
   },
   "outputs": [],
   "source": []
  },
  {
   "cell_type": "code",
   "execution_count": null,
   "metadata": {
    "colab": {},
    "colab_type": "code",
    "id": "I63lhwaDWlVp"
   },
   "outputs": [],
   "source": [
    "# example of a function to write once, then to run again when you need it.\n",
    "\n",
    "def run_model(model, train, test, show_plot, show_res):\n",
    "    ''' \n",
    "    Runs the sklearn's linear regression nd returns the rmse on training and test\n",
    "    then plots the residuals. Also does Kfold cross validation \n",
    "    '''\n",
    "    X_train, X_test, Y_train, Y_test = train_test_split(train, test, test_size=.1, random_state=np.random.seed(44))\n",
    "    model.fit(X_train, Y_train)\n",
    "    train_error = rmse(model.predict(X_train), Y_train)\n",
    "    test_error = rmse(model.predict(X_test), Y_test)\n",
    "    CV = compute_CV_error(model, train, test)\n",
    "    print(\"Training RMSE:\", train_error)\n",
    "    print(\"CV RMSE:\", CV)\n",
    "    print(\"Test RMSE:\", test_error)\n",
    "    \n",
    "   \n",
    "    if show_res == True:\n",
    "        y_pred = model.predict(X_train)\n",
    "        plt.figure(figsize=(8,5))\n",
    "        sns.distplot(Y_test, hist=False, label='test')\n",
    "        sns.distplot(y_pred, hist=False, label='predicted')\n",
    "        plt.title('Distribution of test vs predicted')\n",
    "        plt.xlabel('Fare Price')\n",
    "    if show_plot == True:\n",
    "        plt.figure(figsize=(8,6))      \n",
    "        plt.scatter(np.arange(len(X_test)), Y_test - model.predict(X_test), alpha=.5)\n",
    "        plt.xlabel('x')\n",
    "        plt.ylabel('residual (true y - estimated y)')\n",
    "        plt.title('Residual vs x for Linear Model')\n",
    "        plt.axhline(y = 0, color='r')\n",
    "\n",
    "#         sns.kdeplot(np.arange(len(X_test)), Y_test - model.predict(X_test))\n",
    "    return [train_error, CV, test_error]\n",
    "\n",
    "\n",
    "def compute_CV_error(model, X_train, Y_train,k=4):\n",
    "    '''\n",
    "    Split the training data into subsets. Applies Kfold CV\n",
    "    inputs:\n",
    "        model: an sklearn model with fit and predict functions \n",
    "        X_train (data_frame): Training data\n",
    "        Y_train (data_frame): Label \n",
    "    Return:\n",
    "        the average validation MSE for the 4 splits.\n",
    "    \n",
    "    '''\n",
    "    kf = KFold(n_splits=k)\n",
    "    validation_errors = []\n",
    "    \n",
    "    for train_idx, valid_idx in kf.split(X_train):\n",
    "        # split the data\n",
    "        split_X_train, split_X_valid = X_train.iloc[train_idx], X_train.iloc[valid_idx] \n",
    "        split_Y_train, split_Y_valid = Y_train.iloc[train_idx], Y_train.iloc[valid_idx]\n",
    "\n",
    "        # Fit the model on the training split\n",
    "        model.fit(split_X_train, split_Y_train)\n",
    "        fit = model.predict(split_X_valid)\n",
    "        # Compute the RMSE on the validation split\n",
    "        error = rmse(split_Y_valid, fit)\n",
    "\n",
    "        validation_errors.append(error)\n",
    "        \n",
    "    return np.mean(validation_errors)\n",
    "\n",
    "    "
   ]
  },
  {
   "cell_type": "markdown",
   "metadata": {},
   "source": [
    "**Discuss**\n",
    "\n",
    "If you were delegating tasks to your team, what would you tell them to try  to improve our model? "
   ]
  },
  {
   "cell_type": "code",
   "execution_count": null,
   "metadata": {},
   "outputs": [],
   "source": []
  },
  {
   "cell_type": "code",
   "execution_count": null,
   "metadata": {},
   "outputs": [],
   "source": []
  },
  {
   "cell_type": "code",
   "execution_count": null,
   "metadata": {},
   "outputs": [],
   "source": []
  },
  {
   "cell_type": "code",
   "execution_count": null,
   "metadata": {},
   "outputs": [],
   "source": []
  },
  {
   "cell_type": "markdown",
   "metadata": {
    "colab": {},
    "colab_type": "code",
    "id": "hTu64yMh5kSu"
   },
   "source": [
    "## Final observations \n",
    "\n",
    "**Now we have many hypotheses of how to improve our model**\n",
    "\n",
    "1. We have a lot of deeper features to find. We now what what we want to do. \n",
    "1. We also know that our model isn't capturing something of importance near the middle. Could either be model tuning or features fed in. \n",
    "1. We know that outliers are doing something odd to our model. \n",
    "\n",
    "Given that this is a buisnesss problem, one model won't fix this. This could be done in colloboration with some heuristics and human intervention.\n",
    "\n",
    "Should we have a whole seperate model to handle the outliers? Or should we let humans handle it. \n",
    "\n",
    "Better to create a model that says, given these parameters and setup, we do quite well. For these other cases, lets tackle it a different way"
   ]
  },
  {
   "cell_type": "markdown",
   "metadata": {
    "colab": {},
    "colab_type": "code",
    "id": "yvgWQgC9WlWE"
   },
   "source": [
    "**Created by Alan Cha**<br>\n",
    "**for Data Science Society Spring 2019 ML Workshop**<br>\n",
    "**Creative Commons License**"
   ]
  },
  {
   "cell_type": "code",
   "execution_count": 0,
   "metadata": {
    "colab": {},
    "colab_type": "code",
    "id": "7wZZVNgica0o"
   },
   "outputs": [],
   "source": []
  }
 ],
 "metadata": {
  "accelerator": "GPU",
  "colab": {
   "collapsed_sections": [],
   "name": "MLlec_Final.ipynb",
   "provenance": [],
   "version": "0.3.2"
  },
  "kernelspec": {
   "display_name": "Python 3",
   "language": "python",
   "name": "python3"
  },
  "language_info": {
   "codemirror_mode": {
    "name": "ipython",
    "version": 3
   },
   "file_extension": ".py",
   "mimetype": "text/x-python",
   "name": "python",
   "nbconvert_exporter": "python",
   "pygments_lexer": "ipython3",
   "version": "3.6.8"
  }
 },
 "nbformat": 4,
 "nbformat_minor": 1
}
